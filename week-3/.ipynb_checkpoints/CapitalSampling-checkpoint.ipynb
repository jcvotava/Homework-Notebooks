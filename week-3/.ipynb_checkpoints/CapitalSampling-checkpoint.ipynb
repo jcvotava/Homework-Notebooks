{
 "cells": [
  {
   "cell_type": "code",
   "execution_count": 1,
   "metadata": {},
   "outputs": [],
   "source": [
    "#Special module written for this class\n",
    "#This provides access to data and to helper functions from previous weeks\n",
    "import lucem_illud #just in case, regularly update your lucem_illud with the following code: pip install git+git://github.com/UChicago-Computational-Content-Analysis/lucem_illud.git\n",
    "\n",
    "#All these packages need to be installed from pip\n",
    "import requests #for http requests\n",
    "import pandas #gives us DataFrames\n",
    "import matplotlib.pyplot as plt #For graphics\n",
    "import numpy as np #For divergences/distances\n",
    "import scipy #For divergences/distances\n",
    "import seaborn as sns #makes our plots look nicer\n",
    "import sklearn.manifold #For a manifold plot\n",
    "import json #For API responses\n",
    "import urllib.parse #For joining urls\n",
    "\n",
    "# comp-linguistics\n",
    "import spacy\n",
    "\n",
    "#Displays the graphs\n",
    "import graphviz #You also need to install the command line graphviz\n",
    "\n",
    "#These are from the standard library\n",
    "import os.path\n",
    "import zipfile\n",
    "import subprocess\n",
    "import io\n",
    "import tempfile\n",
    "\n",
    "import wordcloud #Makes word clouds\n",
    "\n",
    "#This 'magic' command makes the plots work better\n",
    "#in the notebook, don't use it outside of a notebook\n",
    "%matplotlib inline"
   ]
  },
  {
   "cell_type": "code",
   "execution_count": 2,
   "metadata": {},
   "outputs": [],
   "source": [
    "import nltk\n",
    "nlp = spacy.load('en_core_web_sm')\n",
    "\n",
    "def word_tokenize(word_list):\n",
    "    tokenized = []\n",
    "    # pass word list through language model.\n",
    "    doc = nlp(word_list)\n",
    "    for token in doc:\n",
    "        if not token.is_punct and len(token.text.strip()) > 0:\n",
    "            tokenized.append(token.text)\n",
    "    return tokenized\n",
    "\n",
    "def wordCounter(wordLst):\n",
    "    wordCounts = {}\n",
    "    for word in wordLst:\n",
    "        #We usually need to normalize the case\n",
    "        wLower = word.lower()\n",
    "        if wLower in wordCounts:\n",
    "            wordCounts[wLower] += 1\n",
    "        else:\n",
    "            wordCounts[wLower] = 1\n",
    "    #convert to DataFrame\n",
    "    countsForFrame = {'word' : [], 'count' : []}\n",
    "    for w, c in wordCounts.items():\n",
    "        countsForFrame['word'].append(w)\n",
    "        countsForFrame['count'].append(c)\n",
    "    return pandas.DataFrame(countsForFrame)"
   ]
  },
  {
   "cell_type": "code",
   "execution_count": 3,
   "metadata": {},
   "outputs": [],
   "source": [
    "capital_corpus = pandas.read_csv(r'C:\\Users\\super\\comp_work\\Homework-Notebooks\\week-2\\capital_corpus.txt')\n",
    "capital_corpus['tokenized_text'] = capital_corpus['paragraph_text'].apply(lambda x: word_tokenize(x))"
   ]
  },
  {
   "cell_type": "code",
   "execution_count": 4,
   "metadata": {},
   "outputs": [],
   "source": [
    "capital_tokens = []\n",
    "for text_list in capital_corpus.tokenized_text:\n",
    "    capital_tokens.extend(text_list)"
   ]
  },
  {
   "cell_type": "code",
   "execution_count": 5,
   "metadata": {},
   "outputs": [
    {
     "name": "stdout",
     "output_type": "stream",
     "text": [
      "Displaying 25 of 917 matches:\n",
      "ommodities its unit being a single commodity Our investigation must therefore b\n",
      "efore begin with the analysis of a commodity A commodity is in the first place \n",
      "with the analysis of a commodity A commodity is in the first place an object ou\n",
      "tter a little more closely A given commodity e.g. a quarter of wheat is exchang\n",
      "e valid exchange values of a given commodity express something equal secondly e\n",
      "might think that if the value of a commodity is determined by the quantity of l\n",
      "bourer the more valuable would his commodity be because more time would be requ\n",
      "far as it requires for producing a commodity no more time than is needed on an \n",
      " for its production The value of a commodity would therefore remain constant if\n",
      "reater is its value The value of a commodity therefore varies directly as the q\n",
      "ct of human labour without being a commodity Whoever directly satisfies his wan\n",
      "en produced for others To become a commodity a product must be transferred to a\n",
      " creates no value At first sight a commodity presented itself to us as a comple\n",
      "sume then In the use value of each commodity there is contained useful labour i\n",
      "commodities i.e. in a community of commodity producers this qualitative differe\n",
      "ts mother Let us now pass from the commodity considered as a use value to the v\n",
      "licity of modes But the value of a commodity represents human labour in the abs\n",
      "se value the labour contained in a commodity counts only qualitatively with ref\n",
      "ce the magnitude of the value of a commodity represents only the quantity of la\n",
      "position Turn and examine a single commodity by itself as we will yet in so far\n",
      "t itself in the social relation of commodity to commodity In fact we started fr\n",
      "he social relation of commodity to commodity In fact we started from exchange v\n",
      " relation is evidently that of one commodity to some one other commodity of a d\n",
      "of one commodity to some one other commodity of a different kind Hence the rela\n",
      "xpression of the value of a single commodity x commodity A = y commodity B or x\n"
     ]
    }
   ],
   "source": [
    "capital_text = nltk.Text(capital_tokens)\n",
    "\n",
    "capital_index = nltk.text.ConcordanceIndex(capital_text) \n",
    "capital_index.print_concordance('commodity')"
   ]
  },
  {
   "cell_type": "code",
   "execution_count": 6,
   "metadata": {},
   "outputs": [],
   "source": [
    "def sent_tokenize(word_list):\n",
    "    doc = nlp(word_list)\n",
    "    sentences = [sent.string.strip() for sent in doc.sents]\n",
    "    return sentences\n",
    "\n",
    "def tag_sents_pos(sentences):\n",
    "    \"\"\"\n",
    "    function which replicates NLTK pos tagging on sentences.\n",
    "    \"\"\"\n",
    "    new_sents = []\n",
    "    for sentence in sentences:\n",
    "        new_sent = ' '.join(sentence)\n",
    "        new_sents.append(new_sent)\n",
    "    final_string = ' '.join(new_sents)\n",
    "    doc = nlp(final_string)\n",
    "    \n",
    "    pos_sents = []\n",
    "    for sent in doc.sents:\n",
    "        pos_sent = []\n",
    "        for token in sent:\n",
    "            pos_sent.append((token.text, token.tag_))\n",
    "        pos_sents.append(pos_sent)\n",
    "    \n",
    "    return pos_sents"
   ]
  },
  {
   "cell_type": "code",
   "execution_count": 7,
   "metadata": {},
   "outputs": [],
   "source": [
    "capital_corpus['sentences'] = capital_corpus['paragraph_text'].apply(lambda x: [word_tokenize(s) for s in sent_tokenize(x)])\n",
    "capital_corpus['POS_sents'] = capital_corpus['sentences'].apply(lambda x: tag_sents_pos(x))"
   ]
  },
  {
   "cell_type": "code",
   "execution_count": 8,
   "metadata": {},
   "outputs": [
    {
     "data": {
      "text/html": [
       "<div>\n",
       "<style scoped>\n",
       "    .dataframe tbody tr th:only-of-type {\n",
       "        vertical-align: middle;\n",
       "    }\n",
       "\n",
       "    .dataframe tbody tr th {\n",
       "        vertical-align: top;\n",
       "    }\n",
       "\n",
       "    .dataframe thead th {\n",
       "        text-align: right;\n",
       "    }\n",
       "</style>\n",
       "<table border=\"1\" class=\"dataframe\">\n",
       "  <thead>\n",
       "    <tr style=\"text-align: right;\">\n",
       "      <th></th>\n",
       "      <th>Unnamed: 0</th>\n",
       "      <th>source</th>\n",
       "      <th>paragraph_text</th>\n",
       "      <th>source-paragraph-text</th>\n",
       "      <th>tokenized_text</th>\n",
       "      <th>sentences</th>\n",
       "      <th>POS_sents</th>\n",
       "    </tr>\n",
       "  </thead>\n",
       "  <tbody>\n",
       "    <tr>\n",
       "      <th>0</th>\n",
       "      <td>4</td>\n",
       "      <td>https://www.marxists.org/archive/marx/works/18...</td>\n",
       "      <td>Contents</td>\n",
       "      <td>Commodities</td>\n",
       "      <td>[Contents]</td>\n",
       "      <td>[[Contents]]</td>\n",
       "      <td>[[(Contents, NNS)]]</td>\n",
       "    </tr>\n",
       "    <tr>\n",
       "      <th>1</th>\n",
       "      <td>5</td>\n",
       "      <td>https://www.marxists.org/archive/marx/works/18...</td>\n",
       "      <td>Section 1 - The Two Factors of a Commodity: ...</td>\n",
       "      <td>Commodities</td>\n",
       "      <td>[Section, 1, The, Two, Factors, of, a, Commodi...</td>\n",
       "      <td>[[Section, 1], [The, Two, Factors, of, a, Comm...</td>\n",
       "      <td>[[(Section, NN), (1, CD)], [(The, DT), (Two, C...</td>\n",
       "    </tr>\n",
       "    <tr>\n",
       "      <th>2</th>\n",
       "      <td>6</td>\n",
       "      <td>https://www.marxists.org/archive/marx/works/18...</td>\n",
       "      <td>A. Elementary or Accidental Form of Value</td>\n",
       "      <td>Commodities</td>\n",
       "      <td>[A., Elementary, or, Accidental, Form, of, Value]</td>\n",
       "      <td>[[A., Elementary, or, Accidental, Form, of, Va...</td>\n",
       "      <td>[[(A., NNP), (Elementary, NNP), (or, CC), (Acc...</td>\n",
       "    </tr>\n",
       "    <tr>\n",
       "      <th>3</th>\n",
       "      <td>7</td>\n",
       "      <td>https://www.marxists.org/archive/marx/works/18...</td>\n",
       "      <td>1. The Two Poles of the Expression of Value:...</td>\n",
       "      <td>Commodities</td>\n",
       "      <td>[1, The, Two, Poles, of, the, Expression, of, ...</td>\n",
       "      <td>[[1], [The, Two, Poles, of, the, Expression, o...</td>\n",
       "      <td>[[(1, CD)], [(The, DT), (Two, CD), (Poles, NNP...</td>\n",
       "    </tr>\n",
       "    <tr>\n",
       "      <th>4</th>\n",
       "      <td>8</td>\n",
       "      <td>https://www.marxists.org/archive/marx/works/18...</td>\n",
       "      <td>a. The Nature and Import of this Form   b. Q...</td>\n",
       "      <td>Commodities</td>\n",
       "      <td>[a., The, Nature, and, Import, of, this, Form,...</td>\n",
       "      <td>[[a.], [The, Nature, and, Import, of, this, Fo...</td>\n",
       "      <td>[[(a., NN)], [(The, DT), (Nature, NNP), (and, ...</td>\n",
       "    </tr>\n",
       "    <tr>\n",
       "      <th>...</th>\n",
       "      <td>...</td>\n",
       "      <td>...</td>\n",
       "      <td>...</td>\n",
       "      <td>...</td>\n",
       "      <td>...</td>\n",
       "      <td>...</td>\n",
       "      <td>...</td>\n",
       "    </tr>\n",
       "    <tr>\n",
       "      <th>3336</th>\n",
       "      <td>4049</td>\n",
       "      <td>https://www.marxists.org/archive/marx/letters/...</td>\n",
       "      <td>In 1864, the founding of the International Wor...</td>\n",
       "      <td>Letters on Capital</td>\n",
       "      <td>[In, 1864, the, founding, of, the, Internation...</td>\n",
       "      <td>[[In, 1864, the, founding, of, the, Internatio...</td>\n",
       "      <td>[[(In, IN), (1864, CD), (the, DT), (founding, ...</td>\n",
       "    </tr>\n",
       "    <tr>\n",
       "      <th>3337</th>\n",
       "      <td>4050</td>\n",
       "      <td>https://www.marxists.org/archive/marx/letters/...</td>\n",
       "      <td>The German edition of Volume I of Capital was ...</td>\n",
       "      <td>Letters on Capital</td>\n",
       "      <td>[The, German, edition, of, Volume, I, of, Capi...</td>\n",
       "      <td>[[The, German, edition, of, Volume, I, of, Cap...</td>\n",
       "      <td>[[(The, DT), (German, JJ), (edition, NN), (of,...</td>\n",
       "    </tr>\n",
       "    <tr>\n",
       "      <th>3338</th>\n",
       "      <td>4051</td>\n",
       "      <td>https://www.marxists.org/archive/marx/letters/...</td>\n",
       "      <td>In the Spring and Summer of 1868, Engels studi...</td>\n",
       "      <td>Letters on Capital</td>\n",
       "      <td>[In, the, Spring, and, Summer, of, 1868, Engel...</td>\n",
       "      <td>[[In, the, Spring, and, Summer, of, 1868, Enge...</td>\n",
       "      <td>[[(In, IN), (the, DT), (Spring, NNP), (and, CC...</td>\n",
       "    </tr>\n",
       "    <tr>\n",
       "      <th>3339</th>\n",
       "      <td>4052</td>\n",
       "      <td>https://www.marxists.org/archive/marx/letters/...</td>\n",
       "      <td>Marx's Economic Works |  Letters Index Politi...</td>\n",
       "      <td>Letters on Capital</td>\n",
       "      <td>[Marx, 's, Economic, Works, |, Letters, Index,...</td>\n",
       "      <td>[[Marx, 's, Economic, Works, |, Letters, Index...</td>\n",
       "      <td>[[(Marx, NNP), ('s, POS), (Economic, NNP), (Wo...</td>\n",
       "    </tr>\n",
       "    <tr>\n",
       "      <th>3340</th>\n",
       "      <td>4054</td>\n",
       "      <td>https://www.marxists.org/archive/marx/index.htm</td>\n",
       "      <td>MIA: M.I.A. Library: Marx &amp; Engels</td>\n",
       "      <td>Marx-Engels Archive</td>\n",
       "      <td>[MIA, M.I.A., Library, Marx, Engels]</td>\n",
       "      <td>[[MIA], [M.I.A., Library], [Marx, Engels]]</td>\n",
       "      <td>[[(MIA, NNP), (M.I.A., NNP), (Library, NNP), (...</td>\n",
       "    </tr>\n",
       "  </tbody>\n",
       "</table>\n",
       "<p>3341 rows × 7 columns</p>\n",
       "</div>"
      ],
      "text/plain": [
       "      Unnamed: 0                                             source  \\\n",
       "0              4  https://www.marxists.org/archive/marx/works/18...   \n",
       "1              5  https://www.marxists.org/archive/marx/works/18...   \n",
       "2              6  https://www.marxists.org/archive/marx/works/18...   \n",
       "3              7  https://www.marxists.org/archive/marx/works/18...   \n",
       "4              8  https://www.marxists.org/archive/marx/works/18...   \n",
       "...          ...                                                ...   \n",
       "3336        4049  https://www.marxists.org/archive/marx/letters/...   \n",
       "3337        4050  https://www.marxists.org/archive/marx/letters/...   \n",
       "3338        4051  https://www.marxists.org/archive/marx/letters/...   \n",
       "3339        4052  https://www.marxists.org/archive/marx/letters/...   \n",
       "3340        4054    https://www.marxists.org/archive/marx/index.htm   \n",
       "\n",
       "                                         paragraph_text source-paragraph-text  \\\n",
       "0                                             Contents            Commodities   \n",
       "1       Section 1 - The Two Factors of a Commodity: ...           Commodities   \n",
       "2           A. Elementary or Accidental Form of Value             Commodities   \n",
       "3       1. The Two Poles of the Expression of Value:...           Commodities   \n",
       "4       a. The Nature and Import of this Form   b. Q...           Commodities   \n",
       "...                                                 ...                   ...   \n",
       "3336  In 1864, the founding of the International Wor...    Letters on Capital   \n",
       "3337  The German edition of Volume I of Capital was ...    Letters on Capital   \n",
       "3338  In the Spring and Summer of 1868, Engels studi...    Letters on Capital   \n",
       "3339   Marx's Economic Works |  Letters Index Politi...    Letters on Capital   \n",
       "3340               MIA: M.I.A. Library: Marx & Engels     Marx-Engels Archive   \n",
       "\n",
       "                                         tokenized_text  \\\n",
       "0                                            [Contents]   \n",
       "1     [Section, 1, The, Two, Factors, of, a, Commodi...   \n",
       "2     [A., Elementary, or, Accidental, Form, of, Value]   \n",
       "3     [1, The, Two, Poles, of, the, Expression, of, ...   \n",
       "4     [a., The, Nature, and, Import, of, this, Form,...   \n",
       "...                                                 ...   \n",
       "3336  [In, 1864, the, founding, of, the, Internation...   \n",
       "3337  [The, German, edition, of, Volume, I, of, Capi...   \n",
       "3338  [In, the, Spring, and, Summer, of, 1868, Engel...   \n",
       "3339  [Marx, 's, Economic, Works, |, Letters, Index,...   \n",
       "3340               [MIA, M.I.A., Library, Marx, Engels]   \n",
       "\n",
       "                                              sentences  \\\n",
       "0                                          [[Contents]]   \n",
       "1     [[Section, 1], [The, Two, Factors, of, a, Comm...   \n",
       "2     [[A., Elementary, or, Accidental, Form, of, Va...   \n",
       "3     [[1], [The, Two, Poles, of, the, Expression, o...   \n",
       "4     [[a.], [The, Nature, and, Import, of, this, Fo...   \n",
       "...                                                 ...   \n",
       "3336  [[In, 1864, the, founding, of, the, Internatio...   \n",
       "3337  [[The, German, edition, of, Volume, I, of, Cap...   \n",
       "3338  [[In, the, Spring, and, Summer, of, 1868, Enge...   \n",
       "3339  [[Marx, 's, Economic, Works, |, Letters, Index...   \n",
       "3340         [[MIA], [M.I.A., Library], [Marx, Engels]]   \n",
       "\n",
       "                                              POS_sents  \n",
       "0                                   [[(Contents, NNS)]]  \n",
       "1     [[(Section, NN), (1, CD)], [(The, DT), (Two, C...  \n",
       "2     [[(A., NNP), (Elementary, NNP), (or, CC), (Acc...  \n",
       "3     [[(1, CD)], [(The, DT), (Two, CD), (Poles, NNP...  \n",
       "4     [[(a., NN)], [(The, DT), (Nature, NNP), (and, ...  \n",
       "...                                                 ...  \n",
       "3336  [[(In, IN), (1864, CD), (the, DT), (founding, ...  \n",
       "3337  [[(The, DT), (German, JJ), (edition, NN), (of,...  \n",
       "3338  [[(In, IN), (the, DT), (Spring, NNP), (and, CC...  \n",
       "3339  [[(Marx, NNP), ('s, POS), (Economic, NNP), (Wo...  \n",
       "3340  [[(MIA, NNP), (M.I.A., NNP), (Library, NNP), (...  \n",
       "\n",
       "[3341 rows x 7 columns]"
      ]
     },
     "execution_count": 8,
     "metadata": {},
     "output_type": "execute_result"
    }
   ],
   "source": [
    "capital_corpus"
   ]
  },
  {
   "cell_type": "code",
   "execution_count": 9,
   "metadata": {},
   "outputs": [],
   "source": [
    "capital_corpus.to_csv(r'C:\\Users\\super\\comp_work\\Homework-Notebooks\\week-2\\capital_corpus_sents.txt', index=True, sep=',')"
   ]
  },
  {
   "cell_type": "code",
   "execution_count": 49,
   "metadata": {},
   "outputs": [],
   "source": [
    "def find_sents(corpus, term):\n",
    "    term_list = []\n",
    "    for sentence_list in corpus.sentences:\n",
    "        for sentence in sentence_list:\n",
    "            if term in sentence:\n",
    "                term_list.append(sentence)\n",
    "            else:\n",
    "                continue\n",
    "                \n",
    "    return term_list\n",
    "\n",
    "def join_tokens(sent_list):\n",
    "    sent_list_plain = []\n",
    "    for sentence in sent_list:\n",
    "        sentence_plain = \" \"\n",
    "        #for word in sentence:\n",
    "        #    sentence_plain.append(word + \" \")\n",
    "        sent_list_plain.append(sentence_plain.join(sentence))\n",
    "        \n",
    "    return sent_list_plain\n",
    "\n",
    "def do_both(corpus, term):\n",
    "    sents = find_sents(corpus, term)\n",
    "    return join_tokens(sents)\n",
    "\n",
    "def sample_table(corpus, term_list):\n",
    "    capital_dict = {'Term': [],'Count': [],'Sents': []}\n",
    "    for term in term_list:\n",
    "        capital_dict['Term'].append(term)\n",
    "        sents = do_both(corpus, term)\n",
    "        capital_dict['Count'].append(len(sents))\n",
    "        capital_dict['Sents'].append(sents)\n",
    "    return pandas.DataFrame(capital_dict)"
   ]
  },
  {
   "cell_type": "code",
   "execution_count": null,
   "metadata": {},
   "outputs": [],
   "source": []
  },
  {
   "cell_type": "code",
   "execution_count": 31,
   "metadata": {},
   "outputs": [],
   "source": [
    "# labour -\n",
    "# value -\n",
    "# commodity -\n",
    "# revolution -\n",
    "# proletariat\n",
    "# socialism\n",
    "# capitalism\n",
    "\n",
    "commodity_sents_raw = find_sents(capital_corpus[:100], \"commodity\")\n",
    "commodity_sents = join_tokens(commodity_sents_raw)"
   ]
  },
  {
   "cell_type": "code",
   "execution_count": 50,
   "metadata": {},
   "outputs": [
    {
     "name": "stdout",
     "output_type": "stream",
     "text": [
      "         Term  Count                                              Sents\n",
      "0      labour   2357  [If then we leave out of consideration the use...\n",
      "1       value   2040  [The utility of a thing makes it a use value, ...\n",
      "2   commodity    723  [The wealth of those societies in which the ca...\n",
      "3  revolution     51  [It dates from the last third of the 17th cent...\n",
      "4     capital    862  [And modern economy which looks down with such...\n"
     ]
    }
   ],
   "source": [
    "terms = ['labour','value', 'commodity','revolution','capital']\n",
    "\n",
    "test_table = sample_table(capital_corpus,terms)\n",
    "print(test_table)"
   ]
  },
  {
   "cell_type": "code",
   "execution_count": 26,
   "metadata": {},
   "outputs": [],
   "source": [
    "import random"
   ]
  },
  {
   "cell_type": "code",
   "execution_count": 33,
   "metadata": {},
   "outputs": [],
   "source": [
    "def sample(row_list,num):\n",
    "    sample = []\n",
    "    for row in row_list:\n",
    "        sample.append(random.sample(row,num))\n",
    "    return sample"
   ]
  },
  {
   "cell_type": "code",
   "execution_count": 36,
   "metadata": {},
   "outputs": [
    {
     "data": {
      "text/plain": [
       "2040"
      ]
     },
     "execution_count": 36,
     "metadata": {},
     "output_type": "execute_result"
    }
   ],
   "source": []
  },
  {
   "cell_type": "code",
   "execution_count": 42,
   "metadata": {},
   "outputs": [
    {
     "name": "stdout",
     "output_type": "stream",
     "text": [
      "[['The foundation of every division of labour that is well developed and brought about by the exchange of commodities is the separation between town and country', 'The cause of profit is that labour produces more than is required for its support', 'A definite concrete labour like the labour of tailoring can only possess the form of equality with the labour of a different type contained in a commodity of a different kind for example the linen insofar as its definite form counts as the expression of something which really constitutes the equality of labours of different sorts or what is equal in those labours', 'They furnish to the capitalist an exact measure for the intensity of labour', 'Where reference is made to labour as a measure of value it necessarily implies labour of one particular kind'], ['All commodities by mirroring themselves in one and the same commodity as quantities of value reflect themselves reciprocally as quantities of value', 'He then did what is done by every purchaser of commodities he consumed their use value', 'The general value form is the reduction of all kinds of actual labour to their common character of being human labour generally of being the expenditure of human labour power', 'Constant capital the means of production considered from the standpoint of the creation of surplus value only exist to absorb labour and with every drop of labour a proportional quantity of surplus labour', 'It differentiates itself as original value from itself as surplus value as the father differentiates himself from himself qua the son yet both are one and of one age'], ['y commodity B that the object in which the magnitude of the value of another object is represented appears to have the equivalent form independently of this relation as a social property given to it by Nature', 'In the circulation C M C the money is in the end converted into a commodity that serves as a use value it is spent once for all', 'This contradiction comes to light as soon as by the general employment of machinery in a given industry the value of the machine produced commodity regulates the value of all commodities of the same sort and it is this contradiction that in its turn drives the capitalist without his being conscious of', 'The simple relative expression of value of a commodity e.g. linen in the commodity which is already functioning as the money commodity for example gold is the price form', 'Its value like that of every other commodity is already fixed before it goes into circulation since a definite quantity of social labour has been spent upon it but its use value consists in the subsequent exercise of its force'], ['An American revolution and a universal crisis in order that the working girls who spin for the whole world might learn to sew', 'implement that is first seized upon by the industrial revolution leaving to the workman in addition to his new labour of watching the machine with his eyes and correcting its mistakes with his hands the merely mechanical part of being the moving power', 'During the very first storms of the revolution the French bourgeoisie dared to take away from the workers the right of association but just acquired', 'We leave on one side here the purely economic causes of the agricultural revolution', 'A complete revolution l.c p. xlvi n. 318']]\n"
     ]
    }
   ],
   "source": [
    "sample_table = sample(test_table.Sents[:4],5)\n",
    "print(sample_table)"
   ]
  },
  {
   "cell_type": "code",
   "execution_count": 56,
   "metadata": {},
   "outputs": [
    {
     "data": {
      "text/plain": [
       "['But in the flood of production all the capital originally advanced becomes a vanishing quantity magnitudo evanescens in the mathematical sense compared with the directly accumulated capital i.e. with the surplus value or surplus product that is reconverted into capital whether it functions in the hands of its accumulator or in those of others',\n",
       " 'The change of value that occurs in the case of money intended to be converted into capital can not take place in the money itself since in its function of means of purchase and of payment',\n",
       " 'The great beauty of capitalist production consists in this that it not only constantly reproduces the wage worker as wage worker but produces always in proportion to the accumulation of capital a relative surplus population of wage workers',\n",
       " 'The part played in our days by the direct robbery from the labourer ’s necessary consumption fund in the formation of surplus value and therefore of the accumulation fund of capital the so called domestic industry has served to show',\n",
       " 'The law of progressive diminution of the relative magnitude of variable capital and its effect on the condition of the class of wage workers is conjectured rather than understood by some of the prominent economists of the classical school']"
      ]
     },
     "execution_count": 56,
     "metadata": {},
     "output_type": "execute_result"
    }
   ],
   "source": [
    "random.sample(test_table.Sents[4],5)"
   ]
  },
  {
   "cell_type": "code",
   "execution_count": null,
   "metadata": {},
   "outputs": [],
   "source": []
  }
 ],
 "metadata": {
  "kernelspec": {
   "display_name": "Python 3",
   "language": "python",
   "name": "python3"
  },
  "language_info": {
   "codemirror_mode": {
    "name": "ipython",
    "version": 3
   },
   "file_extension": ".py",
   "mimetype": "text/x-python",
   "name": "python",
   "nbconvert_exporter": "python",
   "pygments_lexer": "ipython3",
   "version": "3.7.9"
  }
 },
 "nbformat": 4,
 "nbformat_minor": 4
}
