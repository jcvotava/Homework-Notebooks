{
 "cells": [
  {
   "cell_type": "markdown",
   "metadata": {},
   "source": [
    "# Week 2 - Counting Words & Phrases\n",
    "\n",
    "This week, we take text corpora that we have developed, spidered, scraped, and encoded, and we find and count words, simple and parsed phrases and explore the statistical properties of those counts (e.g., word frequency distributions). Initially, we model how to search corpora for keywords or phrases. Next, we examine the distributions of terms and phrases across a corpus, and the correlation between different words and phrase counts. In order to do this effectively, we coarsely disambiguate words based of part-of-speech (POS) tagging, and normalize them through stemming and lemmatization. Next we distinguish *important* words and phrase within the corpus, and image them with Wordls! Then we calculate word frequenceis, conditional frequences (the frequency of word *shock* conditional on the presence of word *awe*), and statistically significant collocations of lengths 2 through $n$. Finally, we calculate and visualize Differences (Divergences and Distances) between the word frequency distributions from two corpora. \n",
    "\n",
    "Then we shift to focus not simply on the *ideas* in a corpus, but also extracting precise *claims*. This process involves a sequential pipeline of classifying and structuring tokens from text, each of which generates potentially useful data for the content analyst. Steps in this process, which we examine in this notebook, include: 1) tagging words by their part of speech (POS) to reveal the linguistic role they play in the sentence (e.g., Verb, Noun, Adjective, etc.); 2) tagging words as named entities (NER) such as places or organizations; 3) structuring or \"parsing\" sentences into nested phrases that are local to, describe or depend on one another; and 4) extracting informational claims from those phrases.\n",
    "\n",
    "We will be introducing spaCy as a package for Computational Linguistics, and also walk you through how to use the Davies Corpora. \n",
    "\n",
    "While we wish to avoid using NLTK for heavy corpus analysis, some of its smaller functions can still be useful.\n",
    "\n",
    "Of course, for final projects that draw on these tools, we encourage you to install the software on your own machines or shared servers at the university (RCC, SSRC) in order to perform these operations on much more text. \n",
    "\n",
    "For this notebook we will be using the following packages:\n"
   ]
  },
  {
   "cell_type": "code",
   "execution_count": 1,
   "metadata": {},
   "outputs": [],
   "source": [
    "#Special module written for this class\n",
    "#This provides access to data and to helper functions from previous weeks\n",
    "import lucem_illud #just in case, regularly update your lucem_illud with the following code: pip install git+git://github.com/UChicago-Computational-Content-Analysis/lucem_illud.git\n",
    "\n",
    "#All these packages need to be installed from pip\n",
    "import requests #for http requests\n",
    "import pandas #gives us DataFrames\n",
    "import matplotlib.pyplot as plt #For graphics\n",
    "import numpy as np #For divergences/distances\n",
    "import scipy #For divergences/distances\n",
    "import seaborn as sns #makes our plots look nicer\n",
    "import sklearn.manifold #For a manifold plot\n",
    "import json #For API responses\n",
    "import urllib.parse #For joining urls\n",
    "\n",
    "# comp-linguistics\n",
    "import spacy\n",
    "\n",
    "#Displays the graphs\n",
    "import graphviz #You also need to install the command line graphviz\n",
    "\n",
    "#These are from the standard library\n",
    "import os.path\n",
    "import zipfile\n",
    "import subprocess\n",
    "import io\n",
    "import tempfile\n",
    "\n",
    "import wordcloud #Makes word clouds\n",
    "\n",
    "#This 'magic' command makes the plots work better\n",
    "#in the notebook, don't use it outside of a notebook\n",
    "%matplotlib inline"
   ]
  },
  {
   "cell_type": "markdown",
   "metadata": {},
   "source": [
    "# Retrieving exemplary corpora\n",
    "\n",
    "To get started we will need some examples. Let's start by downloading one of the corpuses from the Davies set purchased for this class and developed by a computational linguist at Brigham Young University. We can get a list of works available from the [corpora here](https://www.english-corpora.org/).\n",
    "\n",
    "In this notebook, I will be accessing the data locally - you also have access to this data through the Dropbox download link. The same code can be modified slighlty to access the rest of the corpora on RCC. \n",
    "There is a notebook describing this process in the same repository, as well as in the same directory on RCC."
   ]
  },
  {
   "cell_type": "code",
   "execution_count": 3,
   "metadata": {},
   "outputs": [],
   "source": [
    "corpus_name = \"/Users/bhargavvader/Downloads/Academics_Tech/\" \n",
    "# corpus_name = \"Movies\""
   ]
  },
  {
   "cell_type": "markdown",
   "metadata": {},
   "source": [
    "Just to be clear, your corpus_name should be different since you're not bhargav. Modify the corpus_name with your directory. This method extracts the text from the zip files and stroes the raw data."
   ]
  },
  {
   "cell_type": "code",
   "execution_count": 4,
   "metadata": {},
   "outputs": [],
   "source": [
    "def loadcorpus(corpus_name, corpus_style=\"text\"):\n",
    "    texts_raw = {}\n",
    "    for file in os.listdir(corpus_name + \"/\"):\n",
    "        if corpus_style in file:\n",
    "            print(file)\n",
    "            zfile = zipfile.ZipFile(corpus_name + \"/\" + file)\n",
    "            for file in zfile.namelist():\n",
    "                texts_raw[file] = []\n",
    "                with zfile.open(file) as f:\n",
    "                    for line in f:\n",
    "                        texts_raw[file].append(line)\n",
    "    return texts_raw"
   ]
  },
  {
   "cell_type": "code",
   "execution_count": 5,
   "metadata": {},
   "outputs": [
    {
     "ename": "FileNotFoundError",
     "evalue": "[WinError 3] The system cannot find the path specified: '/Users/bhargavvader/Downloads/Academics_Tech//'",
     "output_type": "error",
     "traceback": [
      "\u001b[1;31m---------------------------------------------------------------------------\u001b[0m",
      "\u001b[1;31mFileNotFoundError\u001b[0m                         Traceback (most recent call last)",
      "\u001b[1;32m<ipython-input-5-8b473ea58be3>\u001b[0m in \u001b[0;36m<module>\u001b[1;34m\u001b[0m\n\u001b[1;32m----> 1\u001b[1;33m \u001b[0mmovie_raw\u001b[0m \u001b[1;33m=\u001b[0m \u001b[0mloadcorpus\u001b[0m\u001b[1;33m(\u001b[0m\u001b[0mcorpus_name\u001b[0m\u001b[1;33m)\u001b[0m\u001b[1;33m\u001b[0m\u001b[1;33m\u001b[0m\u001b[0m\n\u001b[0m",
      "\u001b[1;32m<ipython-input-4-bbb9bb48206d>\u001b[0m in \u001b[0;36mloadcorpus\u001b[1;34m(corpus_name, corpus_style)\u001b[0m\n\u001b[0;32m      1\u001b[0m \u001b[1;32mdef\u001b[0m \u001b[0mloadcorpus\u001b[0m\u001b[1;33m(\u001b[0m\u001b[0mcorpus_name\u001b[0m\u001b[1;33m,\u001b[0m \u001b[0mcorpus_style\u001b[0m\u001b[1;33m=\u001b[0m\u001b[1;34m\"text\"\u001b[0m\u001b[1;33m)\u001b[0m\u001b[1;33m:\u001b[0m\u001b[1;33m\u001b[0m\u001b[1;33m\u001b[0m\u001b[0m\n\u001b[0;32m      2\u001b[0m     \u001b[0mtexts_raw\u001b[0m \u001b[1;33m=\u001b[0m \u001b[1;33m{\u001b[0m\u001b[1;33m}\u001b[0m\u001b[1;33m\u001b[0m\u001b[1;33m\u001b[0m\u001b[0m\n\u001b[1;32m----> 3\u001b[1;33m     \u001b[1;32mfor\u001b[0m \u001b[0mfile\u001b[0m \u001b[1;32min\u001b[0m \u001b[0mos\u001b[0m\u001b[1;33m.\u001b[0m\u001b[0mlistdir\u001b[0m\u001b[1;33m(\u001b[0m\u001b[0mcorpus_name\u001b[0m \u001b[1;33m+\u001b[0m \u001b[1;34m\"/\"\u001b[0m\u001b[1;33m)\u001b[0m\u001b[1;33m:\u001b[0m\u001b[1;33m\u001b[0m\u001b[1;33m\u001b[0m\u001b[0m\n\u001b[0m\u001b[0;32m      4\u001b[0m         \u001b[1;32mif\u001b[0m \u001b[0mcorpus_style\u001b[0m \u001b[1;32min\u001b[0m \u001b[0mfile\u001b[0m\u001b[1;33m:\u001b[0m\u001b[1;33m\u001b[0m\u001b[1;33m\u001b[0m\u001b[0m\n\u001b[0;32m      5\u001b[0m             \u001b[0mprint\u001b[0m\u001b[1;33m(\u001b[0m\u001b[0mfile\u001b[0m\u001b[1;33m)\u001b[0m\u001b[1;33m\u001b[0m\u001b[1;33m\u001b[0m\u001b[0m\n",
      "\u001b[1;31mFileNotFoundError\u001b[0m: [WinError 3] The system cannot find the path specified: '/Users/bhargavvader/Downloads/Academics_Tech//'"
     ]
    }
   ],
   "source": [
    "movie_raw = loadcorpus(corpus_name)"
   ]
  },
  {
   "cell_type": "code",
   "execution_count": null,
   "metadata": {},
   "outputs": [],
   "source": [
    "movie_raw['11.txt'][0:3]"
   ]
  },
  {
   "cell_type": "markdown",
   "metadata": {},
   "source": [
    "It seems messy, but nothing we can't clean. This basic method replaces some of the issues with the formatting, and prints the errors if any for debugging. Let us clean one of the raw text files.\n",
    "\n",
    "We ignore the non-unicode data for convenience in our first pass."
   ]
  },
  {
   "cell_type": "code",
   "execution_count": null,
   "metadata": {},
   "outputs": [],
   "source": [
    "def clean_raw_text(raw_texts):\n",
    "    clean_texts = []\n",
    "    for text in raw_texts:\n",
    "        try:\n",
    "            text = text.decode(\"utf-8\")\n",
    "            clean_text = text.replace(\" \\'m\", \"'m\").replace(\" \\'ll\", \"'ll\").replace(\" \\'re\", \"'re\").replace(\" \\'s\", \"'s\").replace(\" \\'re\", \"'re\").replace(\" n\\'t\", \"n't\").replace(\" \\'ve\", \"'ve\").replace(\" /'d\", \"'d\")\n",
    "            clean_texts.append(clean_text)\n",
    "        except AttributeError:\n",
    "            # print(\"ERROR CLEANING\")\n",
    "            # print(text)\n",
    "            continue\n",
    "        except UnicodeDecodeError:\n",
    "            # print(\"Unicode Error, Skip\")\n",
    "            continue\n",
    "    return clean_texts"
   ]
  },
  {
   "cell_type": "code",
   "execution_count": null,
   "metadata": {},
   "outputs": [],
   "source": [
    "clean_11 = clean_raw_text(movie_raw['11.txt'])"
   ]
  },
  {
   "cell_type": "code",
   "execution_count": null,
   "metadata": {},
   "outputs": [],
   "source": [
    "clean_11[1]"
   ]
  },
  {
   "cell_type": "markdown",
   "metadata": {},
   "source": [
    "This method cleaned a few basic formatting errors. You are welcome to experiment and add your own code to expand on cleaning the text. Once it begins to look the way you want it to, we can start using spaCy to do some heavier cleaning. spaCy does this through the use of language models. Make sure you have the spaCy english language model loaded. "
   ]
  },
  {
   "cell_type": "code",
   "execution_count": null,
   "metadata": {},
   "outputs": [],
   "source": [
    "nlp = spacy.load('en_core_web_sm')"
   ]
  },
  {
   "cell_type": "markdown",
   "metadata": {},
   "source": [
    "This model is going to be the basis of most of the tasks which NLTK (the Natural Language Tool Kit) might have done otherwise. While NLTK uses a bunch of clunky models from multiple places, spacy neatly packs all functionality in one model. This deep trained model will start by doing our word tokenizing and normalising. These methods are already included in lucem illud, and here we will just demonstrate them outside the package so to explain what goes on under the hood.\n",
    "\n",
    "When we run text through a spacy model, it performs a lot of computation on each of the tokens. Each token is given certain attributes, such as a part of speech, information whether it is a number, a stop word, and so on. \n",
    "\n",
    "To perform a tokenization, we check if the string includes punctuation and add this token. "
   ]
  },
  {
   "cell_type": "code",
   "execution_count": null,
   "metadata": {},
   "outputs": [],
   "source": [
    "def word_tokenize(word_list):\n",
    "    tokenized = []\n",
    "    # pass word list through language model.\n",
    "    doc = nlp(word_list)\n",
    "    for token in doc:\n",
    "        if not token.is_punct and len(token.text.strip()) > 0:\n",
    "            tokenized.append(token.text)\n",
    "    return tokenized"
   ]
  },
  {
   "cell_type": "code",
   "execution_count": null,
   "metadata": {},
   "outputs": [],
   "source": [
    "word_tokenize(clean_11[1])"
   ]
  },
  {
   "cell_type": "markdown",
   "metadata": {},
   "source": [
    "You can see how the sentence is broken into its constituent words. We can then do some analysis with this. \n",
    "\n",
    "Note: we still don't know which movie this is, just that it is raw movie text data. Maybe in the process of our text cleaning and counting we will come across something!"
   ]
  },
  {
   "cell_type": "markdown",
   "metadata": {},
   "source": [
    "# Counting words\n",
    "\n",
    "If we want to do some analysis we can start by simply counting the number of times each word occurs within the corpus."
   ]
  },
  {
   "cell_type": "code",
   "execution_count": null,
   "metadata": {},
   "outputs": [],
   "source": [
    "def wordCounter(wordLst):\n",
    "    wordCounts = {}\n",
    "    for word in wordLst:\n",
    "        #We usually need to normalize the case\n",
    "        wLower = word.lower()\n",
    "        if wLower in wordCounts:\n",
    "            wordCounts[wLower] += 1\n",
    "        else:\n",
    "            wordCounts[wLower] = 1\n",
    "    #convert to DataFrame\n",
    "    countsForFrame = {'word' : [], 'count' : []}\n",
    "    for w, c in wordCounts.items():\n",
    "        countsForFrame['word'].append(w)\n",
    "        countsForFrame['count'].append(c)\n",
    "    return pandas.DataFrame(countsForFrame)"
   ]
  },
  {
   "cell_type": "code",
   "execution_count": null,
   "metadata": {},
   "outputs": [],
   "source": [
    "countedWords = wordCounter(word_tokenize(clean_11[1]))\n",
    "countedWords[:10]"
   ]
  },
  {
   "cell_type": "markdown",
   "metadata": {},
   "source": [
    "Lets sort and plot our counts to investigate the shape of our word frequency distribution.\n",
    "\n",
    "First we need to sort the words by count."
   ]
  },
  {
   "cell_type": "code",
   "execution_count": null,
   "metadata": {},
   "outputs": [],
   "source": [
    "#Doing this in place (changing the original DataFrame) as we don't need the unsorted DataFrame\n",
    "countedWords.sort_values('count', ascending=False, inplace=True)\n",
    "countedWords[:100]"
   ]
  },
  {
   "cell_type": "markdown",
   "metadata": {},
   "source": [
    "Punctuation and very common words (articles 'a' and 'the'; prepositions 'of' and 'to') make up the most common values, but this isn't very interesting and can actually get in the way of our analysis. We may remove these 'function words' by removing according to a stopword list, setting some frequency threshold, or using a weighting scheme (like tf.idf) to decrease their influence - we will look at these methods in more detail as we go through this tutorial. "
   ]
  },
  {
   "cell_type": "code",
   "execution_count": null,
   "metadata": {},
   "outputs": [],
   "source": [
    "#Creating a figure and axis lets us do things like change the scaling or add a title\n",
    "fig = plt.figure()\n",
    "ax = fig.add_subplot(111)\n",
    "plt.plot(range(len(countedWords)), countedWords['count'])\n",
    "plt.show()"
   ]
  },
  {
   "cell_type": "markdown",
   "metadata": {},
   "source": [
    "This shows that likelihood of a word occurring is inversely proportional to its rank. This effect is called [Zipf's Law](https://en.wikipedia.org/wiki/Zipf%27s_law), and suggests that the most frequent word will occur approximately twice as often as the second most frequent word, three times as often as the third most frequent word, etc. Zipf's law is most easily observed by plotting the data on a log-log graph, with the axes being log (rank order) and log (frequency) resulting in a linear relationship."
   ]
  },
  {
   "cell_type": "code",
   "execution_count": null,
   "metadata": {},
   "outputs": [],
   "source": [
    "fig = plt.figure()\n",
    "ax = fig.add_subplot(111)\n",
    "plt.plot(range(len(countedWords)), countedWords['count'])\n",
    "ax.set_yscale('log')\n",
    "ax.set_xscale('log')\n",
    "plt.show()"
   ]
  },
  {
   "cell_type": "markdown",
   "metadata": {},
   "source": [
    "(The same relationship occurs in many other rankings, such as population ranks of cities, corporation sizes, income rankings, etc.) \n",
    "\n",
    "The distribution was imagined by Zipf to be driven by a principle of 'least effort' where speakers did not work any harder than necessary to communicate a given idea, but the basis for this relationship is still not well understood and conforms at least as well to a process of [preferential attachment](https://en.wikipedia.org/wiki/Preferential_attachment) whereby people disproportionately attend to popular words.\n"
   ]
  },
  {
   "cell_type": "markdown",
   "metadata": {},
   "source": [
    "# Getting and working with raw text\n",
    "\n",
    "First, we will retrieve a collection of press releases from a *GitHub API* that archived them, based on a number of analyses by Justin Grimmer, a political scientist whose work we will read in two weeks!\n",
    "\n",
    "GitHub API requests are made to `'https://api.github.com/'` and responses are in JSON, similar to Tumblr's API.\n",
    "\n",
    "We will get the information on [github.com/lintool/GrimmerSenatePressReleases](https://github.com/lintool/GrimmerSenatePressReleases) as it contains a nice set documents."
   ]
  },
  {
   "cell_type": "code",
   "execution_count": null,
   "metadata": {},
   "outputs": [],
   "source": [
    "r = requests.get('https://api.github.com/repos/lintool/GrimmerSenatePressReleases')\n",
    "senateReleasesData = json.loads(r.text)\n",
    "print(senateReleasesData.keys())\n",
    "print(senateReleasesData['description'])"
   ]
  },
  {
   "cell_type": "markdown",
   "metadata": {},
   "source": [
    "What we are interested in here is the `'contents_url'`"
   ]
  },
  {
   "cell_type": "code",
   "execution_count": null,
   "metadata": {},
   "outputs": [],
   "source": [
    "print(senateReleasesData['contents_url'])"
   ]
  },
  {
   "cell_type": "markdown",
   "metadata": {},
   "source": [
    "We can use this to get any or all of the files from the repo."
   ]
  },
  {
   "cell_type": "code",
   "execution_count": null,
   "metadata": {},
   "outputs": [],
   "source": [
    "r = requests.get('https://api.github.com/repos/lintool/GrimmerSenatePressReleases/contents/raw/Whitehouse')\n",
    "whitehouseLinks = json.loads(r.text)\n",
    "whitehouseLinks[0]"
   ]
  },
  {
   "cell_type": "markdown",
   "metadata": {},
   "source": [
    "Now we have a list of information about Whitehouse press releases. Let's look at one of them."
   ]
  },
  {
   "cell_type": "code",
   "execution_count": null,
   "metadata": {},
   "outputs": [],
   "source": [
    "r = requests.get(whitehouseLinks[0]['download_url'])\n",
    "whitehouseRelease = r.text\n",
    "print(whitehouseRelease[:1000])\n",
    "len(whitehouseRelease)"
   ]
  },
  {
   "cell_type": "markdown",
   "metadata": {},
   "source": [
    "Now we have a string of correctly encoded text. For analysis of its words, next we need to tokenize it, or split it into a sequence of tokens or word instances."
   ]
  },
  {
   "cell_type": "code",
   "execution_count": null,
   "metadata": {},
   "outputs": [],
   "source": [
    "whTokens = word_tokenize(whitehouseRelease)\n",
    "whTokens[10:30]"
   ]
  },
  {
   "cell_type": "markdown",
   "metadata": {},
   "source": [
    "Previous iterations of the course used `nltk`s tokenizer, but as we saw before, we used spaCy's model (https://spacy.io/api/tokenizer). We intend to avoid using NLTK when we can - for production level code, it is a lot faster and cleaner to use spaCy.\n",
    "\n",
    "That being said, `nltk` does have some useful methods for quick analysis of small corpora. We will explore a few here, and encourage you to figure out for yourself which other ones might be useful.\n",
    "\n",
    "To use the list of tokens in `nltk`, and take advantage of functions like `concordance`, shown above, we can convert it into a `Text`."
   ]
  },
  {
   "cell_type": "code",
   "execution_count": 14,
   "metadata": {},
   "outputs": [],
   "source": [
    "import nltk"
   ]
  },
  {
   "cell_type": "code",
   "execution_count": null,
   "metadata": {},
   "outputs": [],
   "source": [
    "whText = nltk.Text(whTokens)\n",
    "\n",
    "whitehouseIndex = nltk.text.ConcordanceIndex(whText) \n",
    "whitehouseIndex.print_concordance('Whitehouse')"
   ]
  },
  {
   "cell_type": "markdown",
   "metadata": {},
   "source": [
    "*Note* that the `Text` class is for doing rapid, exploratory analysis. It provides an easy interface to many of the operations we want to do, but it does not allow us much control over the particular operations it glosses. When you are doing a more complete analysis, you should be using the module specifically designed for that task instead of the shortcut method `Text` provides, e.g. use  [`collocations` Module](http://www.nltk.org/api/nltk.html#module-nltk.collocations) instead of `.collocations()`.\n",
    "\n",
    "Now that we have gotten this loaded, let's glance at few features we will delve into more deeply later.\n",
    "\n",
    "For example, we can find words that statistically tend to occur together and typically have a composite, idiomatic meaning irreducible to the semantics of its component words. We will do this later with more control over exactly how these are identified."
   ]
  },
  {
   "cell_type": "markdown",
   "metadata": {},
   "source": [
    "Or we can pick a word (or words) and find what words tend to occur around it."
   ]
  },
  {
   "cell_type": "code",
   "execution_count": null,
   "metadata": {},
   "outputs": [],
   "source": [
    "whText.common_contexts(['stem'])"
   ]
  },
  {
   "cell_type": "markdown",
   "metadata": {},
   "source": [
    "We can also just count the number of times the word occurs."
   ]
  },
  {
   "cell_type": "code",
   "execution_count": null,
   "metadata": {},
   "outputs": [],
   "source": [
    "whText.count('cell')"
   ]
  },
  {
   "cell_type": "markdown",
   "metadata": {},
   "source": [
    "\n",
    "We can also plot each time a set of words occurs."
   ]
  },
  {
   "cell_type": "code",
   "execution_count": null,
   "metadata": {},
   "outputs": [],
   "source": [
    "sns.reset_orig() #Seaborn messes with this plot, disabling it\n",
    "whText.dispersion_plot(['Sen.','stem', 'cell', 'federal' ,'Lila', 'Barber', 'Whitehouse'])\n",
    "sns.set() #Re-enabling seaborn"
   ]
  },
  {
   "cell_type": "markdown",
   "metadata": {},
   "source": [
    "If we want to do an analysis of all the Whitehouse press releases we will first need to obtain them. By looking at the API we can see the the URL we want is [https://api.github.com/repos/lintool/GrimmerSenatePressReleases/contents/raw/Whitehouse](https://api.github.com/repos/lintool/GrimmerSenatePressReleases/contents/raw/Whitehouse), so we can create a function to scrape the individual files.\n",
    "\n",
    "If you want to know more about downloading from APIs, refer back to the 1st notebook."
   ]
  },
  {
   "cell_type": "code",
   "execution_count": null,
   "metadata": {},
   "outputs": [],
   "source": [
    "def getGithubFiles(target, maxFiles = 100):\n",
    "    #We are setting a max so our examples don't take too long to run\n",
    "    #For converting to a DataFrame\n",
    "    releasesDict = {\n",
    "        'name' : [], #The name of the file\n",
    "        'text' : [], #The text of the file, watch out for binary files\n",
    "        'path' : [], #The path in the git repo to the file\n",
    "        'html_url' : [], #The url to see the file on Github\n",
    "        'download_url' : [], #The url to download the file\n",
    "    }\n",
    "\n",
    "    #Get the directory information from Github\n",
    "    r = requests.get(target)\n",
    "    filesLst = json.loads(r.text)\n",
    "\n",
    "    for fileDict in filesLst[:maxFiles]:\n",
    "        #These are provided by the directory\n",
    "        releasesDict['name'].append(fileDict['name'])\n",
    "        releasesDict['path'].append(fileDict['path'])\n",
    "        releasesDict['html_url'].append(fileDict['html_url'])\n",
    "        releasesDict['download_url'].append(fileDict['download_url'])\n",
    "\n",
    "        #We need to download the text though\n",
    "        text = requests.get(fileDict['download_url']).text\n",
    "        releasesDict['text'].append(text)\n",
    "\n",
    "    return pandas.DataFrame(releasesDict)\n",
    "\n",
    "whReleases = getGithubFiles('https://api.github.com/repos/lintool/GrimmerSenatePressReleases/contents/raw/Whitehouse', maxFiles = 10)\n",
    "whReleases[:5]"
   ]
  },
  {
   "cell_type": "markdown",
   "metadata": {},
   "source": [
    "If you are having trouble downloading the data uncomment this next cell"
   ]
  },
  {
   "cell_type": "code",
   "execution_count": null,
   "metadata": {},
   "outputs": [],
   "source": [
    "#whReleases = pandas.read_csv('../data/whReleases.csv')"
   ]
  },
  {
   "cell_type": "markdown",
   "metadata": {},
   "source": [
    "Now we have all the texts in a DataFrame we can look at a few things.\n",
    "\n",
    "First let's tokenize the texts with the same tokenizer as we used before. We will just save the tokens as a list for now; no need to convert to `Text`s."
   ]
  },
  {
   "cell_type": "code",
   "execution_count": null,
   "metadata": {},
   "outputs": [],
   "source": [
    "whReleases['tokenized_text'] = whReleases['text'].apply(lambda x: word_tokenize(x))"
   ]
  },
  {
   "cell_type": "markdown",
   "metadata": {},
   "source": [
    "Now lets see how long each of the press releases is:"
   ]
  },
  {
   "cell_type": "code",
   "execution_count": null,
   "metadata": {},
   "outputs": [],
   "source": [
    "whReleases['word_counts'] = whReleases['tokenized_text'].apply(lambda x: len(x))\n",
    "whReleases['word_counts']"
   ]
  },
  {
   "cell_type": "markdown",
   "metadata": {},
   "source": [
    "## <span style=\"color:red\">*Exercise 1*</span>\n",
    "\n",
    "<span style=\"color:red\">Construct cells immediately below this that input and interrogate a corpus relating to your anticipated final project. This could include one of the Davies corpora or some other you have constructed. Turn your text into an nltk `Text` object, and explore all of the features examined above, and others that relate to better understanding your corpus in relation to your research question. </span>"
   ]
  },
  {
   "cell_type": "code",
   "execution_count": 2,
   "metadata": {},
   "outputs": [],
   "source": [
    "import nltk\n",
    "nlp = spacy.load('en_core_web_sm')\n",
    "\n",
    "def word_tokenize(word_list):\n",
    "    tokenized = []\n",
    "    # pass word list through language model.\n",
    "    doc = nlp(word_list)\n",
    "    for token in doc:\n",
    "        if not token.is_punct and len(token.text.strip()) > 0:\n",
    "            tokenized.append(token.text)\n",
    "    return tokenized\n",
    "\n",
    "def wordCounter(wordLst):\n",
    "    wordCounts = {}\n",
    "    for word in wordLst:\n",
    "        #We usually need to normalize the case\n",
    "        wLower = word.lower()\n",
    "        if wLower in wordCounts:\n",
    "            wordCounts[wLower] += 1\n",
    "        else:\n",
    "            wordCounts[wLower] = 1\n",
    "    #convert to DataFrame\n",
    "    countsForFrame = {'word' : [], 'count' : []}\n",
    "    for w, c in wordCounts.items():\n",
    "        countsForFrame['word'].append(w)\n",
    "        countsForFrame['count'].append(c)\n",
    "    return pandas.DataFrame(countsForFrame)"
   ]
  },
  {
   "cell_type": "markdown",
   "metadata": {},
   "source": [
    "**Comment:** The larger set of questions I'll be advancing towards in this homework is how left-wing speech has changed as a function of time. To make the corpus more manageable for now, I will narrow in on the a corpus of text comprising Karl Marx's lengthy *Capital* project. We will investigate how Marx uses language in Capital and compare between volumes and sections."
   ]
  },
  {
   "cell_type": "code",
   "execution_count": 98,
   "metadata": {},
   "outputs": [],
   "source": [
    "#marx_corpus_raw = pandas.read_csv(r'C:\\Users\\super\\comp_work\\Homework-Notebooks\\week-2\\marxcorpus.txt')\n",
    "#marx_corpus = marx_corpus_raw.drop_duplicates(subset=['paragraph_text'], keep='first', ignore_index=True)\n",
    "#marx_corpus['tokenized_text'] = marx_corpus['paragraph_text'].apply(lambda x: word_tokenize(x))"
   ]
  },
  {
   "cell_type": "code",
   "execution_count": 3,
   "metadata": {},
   "outputs": [],
   "source": [
    "capital_corpus = pandas.read_csv(r'C:\\Users\\super\\comp_work\\Homework-Notebooks\\week-2\\capital_corpus.txt')\n",
    "capital_corpus['tokenized_text'] = capital_corpus['paragraph_text'].apply(lambda x: word_tokenize(x))"
   ]
  },
  {
   "cell_type": "code",
   "execution_count": 4,
   "metadata": {},
   "outputs": [
    {
     "data": {
      "text/html": [
       "<div>\n",
       "<style scoped>\n",
       "    .dataframe tbody tr th:only-of-type {\n",
       "        vertical-align: middle;\n",
       "    }\n",
       "\n",
       "    .dataframe tbody tr th {\n",
       "        vertical-align: top;\n",
       "    }\n",
       "\n",
       "    .dataframe thead th {\n",
       "        text-align: right;\n",
       "    }\n",
       "</style>\n",
       "<table border=\"1\" class=\"dataframe\">\n",
       "  <thead>\n",
       "    <tr style=\"text-align: right;\">\n",
       "      <th></th>\n",
       "      <th>word</th>\n",
       "      <th>count</th>\n",
       "    </tr>\n",
       "  </thead>\n",
       "  <tbody>\n",
       "    <tr>\n",
       "      <th>3</th>\n",
       "      <td>the</td>\n",
       "      <td>27682</td>\n",
       "    </tr>\n",
       "    <tr>\n",
       "      <th>6</th>\n",
       "      <td>of</td>\n",
       "      <td>19968</td>\n",
       "    </tr>\n",
       "    <tr>\n",
       "      <th>17</th>\n",
       "      <td>in</td>\n",
       "      <td>8020</td>\n",
       "    </tr>\n",
       "    <tr>\n",
       "      <th>11</th>\n",
       "      <td>and</td>\n",
       "      <td>6856</td>\n",
       "    </tr>\n",
       "    <tr>\n",
       "      <th>51</th>\n",
       "      <td>to</td>\n",
       "      <td>5976</td>\n",
       "    </tr>\n",
       "    <tr>\n",
       "      <th>...</th>\n",
       "      <td>...</td>\n",
       "      <td>...</td>\n",
       "    </tr>\n",
       "    <tr>\n",
       "      <th>205</th>\n",
       "      <td>each</td>\n",
       "      <td>379</td>\n",
       "    </tr>\n",
       "    <tr>\n",
       "      <th>639</th>\n",
       "      <td>between</td>\n",
       "      <td>376</td>\n",
       "    </tr>\n",
       "    <tr>\n",
       "      <th>361</th>\n",
       "      <td>when</td>\n",
       "      <td>368</td>\n",
       "    </tr>\n",
       "    <tr>\n",
       "      <th>580</th>\n",
       "      <td>coat</td>\n",
       "      <td>366</td>\n",
       "    </tr>\n",
       "    <tr>\n",
       "      <th>774</th>\n",
       "      <td>number</td>\n",
       "      <td>366</td>\n",
       "    </tr>\n",
       "  </tbody>\n",
       "</table>\n",
       "<p>100 rows × 2 columns</p>\n",
       "</div>"
      ],
      "text/plain": [
       "        word  count\n",
       "3        the  27682\n",
       "6         of  19968\n",
       "17        in   8020\n",
       "11       and   6856\n",
       "51        to   5976\n",
       "..       ...    ...\n",
       "205     each    379\n",
       "639  between    376\n",
       "361     when    368\n",
       "580     coat    366\n",
       "774   number    366\n",
       "\n",
       "[100 rows x 2 columns]"
      ]
     },
     "execution_count": 4,
     "metadata": {},
     "output_type": "execute_result"
    }
   ],
   "source": [
    "capital_tokens = []\n",
    "for text_list in capital_corpus.tokenized_text:\n",
    "    capital_tokens.extend(text_list)\n",
    "\n",
    "countedWords = wordCounter(capital_tokens)\n",
    "countedWords.sort_values('count', ascending=False, inplace=True)\n",
    "countedWords[:100]"
   ]
  },
  {
   "cell_type": "code",
   "execution_count": 5,
   "metadata": {},
   "outputs": [
    {
     "data": {
      "image/png": "[encoded data removed]",
      "text/plain": [
       "<Figure size 432x288 with 1 Axes>"
      ]
     },
     "metadata": {
      "needs_background": "light"
     },
     "output_type": "display_data"
    }
   ],
   "source": [
    "#Creating a figure and axis lets us do things like change the scaling or add a title\n",
    "fig = plt.figure()\n",
    "ax = fig.add_subplot(111)\n",
    "plt.plot(range(len(countedWords)), countedWords['count'])\n",
    "plt.show()"
   ]
  },
  {
   "cell_type": "code",
   "execution_count": 6,
   "metadata": {},
   "outputs": [
    {
     "name": "stdout",
     "output_type": "stream",
     "text": [
      "Displaying 25 of 917 matches:\n",
      "ommodities its unit being a single commodity Our investigation must therefore b\n",
      "efore begin with the analysis of a commodity A commodity is in the first place \n",
      "with the analysis of a commodity A commodity is in the first place an object ou\n",
      "tter a little more closely A given commodity e.g. a quarter of wheat is exchang\n",
      "e valid exchange values of a given commodity express something equal secondly e\n",
      "might think that if the value of a commodity is determined by the quantity of l\n",
      "bourer the more valuable would his commodity be because more time would be requ\n",
      "far as it requires for producing a commodity no more time than is needed on an \n",
      " for its production The value of a commodity would therefore remain constant if\n",
      "reater is its value The value of a commodity therefore varies directly as the q\n",
      "ct of human labour without being a commodity Whoever directly satisfies his wan\n",
      "en produced for others To become a commodity a product must be transferred to a\n",
      " creates no value At first sight a commodity presented itself to us as a comple\n",
      "sume then In the use value of each commodity there is contained useful labour i\n",
      "commodities i.e. in a community of commodity producers this qualitative differe\n",
      "ts mother Let us now pass from the commodity considered as a use value to the v\n",
      "licity of modes But the value of a commodity represents human labour in the abs\n",
      "se value the labour contained in a commodity counts only qualitatively with ref\n",
      "ce the magnitude of the value of a commodity represents only the quantity of la\n",
      "position Turn and examine a single commodity by itself as we will yet in so far\n",
      "t itself in the social relation of commodity to commodity In fact we started fr\n",
      "he social relation of commodity to commodity In fact we started from exchange v\n",
      " relation is evidently that of one commodity to some one other commodity of a d\n",
      "of one commodity to some one other commodity of a different kind Hence the rela\n",
      "xpression of the value of a single commodity x commodity A = y commodity B or x\n"
     ]
    }
   ],
   "source": [
    "capital_text = nltk.Text(capital_tokens)\n",
    "\n",
    "capital_index = nltk.text.ConcordanceIndex(capital_text) \n",
    "capital_index.print_concordance('commodity')"
   ]
  },
  {
   "cell_type": "code",
   "execution_count": 7,
   "metadata": {},
   "outputs": [
    {
     "name": "stdout",
     "output_type": "stream",
     "text": [
      "of_economy of_production the_form in_society a_society same_mind\n",
      "by_economy the_political its_developments with_society in_societies\n",
      "practical_they petit_for in_production for_daily as_economy\n",
      "its_development the_organism their_consciousness pre_forms\n"
     ]
    }
   ],
   "source": [
    "capital_text.common_contexts(['bourgeois'])"
   ]
  },
  {
   "cell_type": "code",
   "execution_count": 8,
   "metadata": {},
   "outputs": [
    {
     "name": "stdout",
     "output_type": "stream",
     "text": [
      "the_by the_is roman_lived sickly_of a_this modern_but free_who a_and\n",
      "a_if the_like\n"
     ]
    }
   ],
   "source": [
    "capital_text.common_contexts(['proletarian'])"
   ]
  },
  {
   "cell_type": "code",
   "execution_count": 9,
   "metadata": {},
   "outputs": [
    {
     "name": "stdout",
     "output_type": "stream",
     "text": [
      "Capital: 1056\n",
      "Commodity: 917\n",
      "Bourgeoisie: 21\n",
      "Proletariat: 28\n",
      "Revolution: 54\n"
     ]
    }
   ],
   "source": [
    "print(\"Capital:\",capital_text.count('capital'))\n",
    "print(\"Commodity:\",capital_text.count('commodity'))\n",
    "print(\"Bourgeoisie:\",capital_text.count('bourgeoisie'))\n",
    "print(\"Proletariat:\",capital_text.count('proletariat'))\n",
    "print(\"Revolution:\",capital_text.count('revolution'))"
   ]
  },
  {
   "cell_type": "markdown",
   "metadata": {},
   "source": [
    "**Comment:** Despite the reputation that Marx gets in popular media, we can see that his magnum opus in fact focuses relatively little on class struggle or revolution: under 30 mentions of the bourgoisie or proletariat in the entire work, and just over 50 for revolution. Capital and commodity get over and just under a thousand mentions each. Of course, Capital is primarily an analytical text, not a call to action."
   ]
  },
  {
   "cell_type": "code",
   "execution_count": 10,
   "metadata": {},
   "outputs": [
    {
     "data": {
      "image/png": "[encoded data removed]",
      "text/plain": [
       "<Figure size 432x288 with 1 Axes>"
      ]
     },
     "metadata": {
      "needs_background": "light"
     },
     "output_type": "display_data"
    }
   ],
   "source": [
    "sns.reset_orig() #Seaborn messes with this plot, disabling it\n",
    "capital_text.dispersion_plot(['commodity','capital', 'proletariat', 'bourgeois' ,'revolution','value','labour'])\n",
    "sns.set() #Re-enabling seaborn"
   ]
  },
  {
   "cell_type": "markdown",
   "metadata": {},
   "source": [
    "**Comment:** Value and labor dominate Marx's account, mentioned thoughout the entire corpus. The commodity is particularly importing for beginning Marx's account, but gives way to mentions of \"capital\" as Marx's project proceeds. In contrast, mentions of \"revolution\" seem to come most frequently when mentions of \"capital\" and \"commodity\" are least dense. Furthermore, \"value\" mentions also appear less dense in places where \"revolution\" is discussed. Perhaps surprisingly, mentions of \"proletariat\" and \"bourgeois\" don't necessarily appear clustered."
   ]
  },
  {
   "cell_type": "markdown",
   "metadata": {},
   "source": [
    "# Filtering and normalizing text\n",
    "\n",
    "As we want to start comparing the different releases we may choose to do a bit of filtering and normalizing that will allow us to focus on what we most care about. We can first make all of the words lower case, then drop the non-word tokens. Next, we can remove some 'stop words', stem the remaining words to remove suffixes, prefixes and (in some languages) infixes, or lemmatize tokens by intelligently grouping inflected or variant forms of the same word (e.g., with a stemmer and a dictionary). \n",
    "\n",
    "To begin this process, we will first define a function to work over the tokenized lists, then another to add normalized tokens to a new column."
   ]
  },
  {
   "cell_type": "markdown",
   "metadata": {},
   "source": [
    "We will be using spaCy's built in stop words identifying capacity. When we run text through spaCy's language pipeline, it automatically tags it as a stop word. "
   ]
  },
  {
   "cell_type": "markdown",
   "metadata": {},
   "source": [
    "We can remove these stopwords from the analysis by fiat, but we could also take a more principled approach by looking at the frequency distribution of words and selecting a specific cut-off associated with the preservation of 'meaningful words' identified upon inspection. Alternatively, we could automatically set a cut-off by rule, such as removal of all words more frequent then the most frequent verb, or the most frequent noun (not pronoun), or some term of central interest. "
   ]
  },
  {
   "cell_type": "code",
   "execution_count": null,
   "metadata": {},
   "outputs": [],
   "source": [
    "countsDict = {}\n",
    "for word in whReleases['tokenized_text'].sum():\n",
    "    if word in countsDict:\n",
    "        countsDict[word] += 1\n",
    "    else:\n",
    "        countsDict[word] = 1\n",
    "word_counts = sorted(countsDict.items(), key = lambda x : x[1], reverse = True)\n",
    "word_counts[:20]"
   ]
  },
  {
   "cell_type": "markdown",
   "metadata": {},
   "source": [
    "We can look at this and pick the cutoff, often at the first noun. So we will cut all words before `'Whitehouse'`."
   ]
  },
  {
   "cell_type": "code",
   "execution_count": null,
   "metadata": {},
   "outputs": [],
   "source": [
    "#The stop list is then all words that occur before the first noun\n",
    "stop_words_freq = []\n",
    "for word, count in word_counts:\n",
    "    if word == 'Whitehouse':\n",
    "        break\n",
    "    else:\n",
    "        stop_words_freq.append(word)\n",
    "stop_words_freq"
   ]
  },
  {
   "cell_type": "markdown",
   "metadata": {},
   "source": [
    "If we did have any extra words to add as stop words apart from those normally considered as stop words, we would add it to our stop words by passing it to the normalize tokens method. "
   ]
  },
  {
   "cell_type": "markdown",
   "metadata": {},
   "source": [
    "Now we can create our function to normalize the tokens"
   ]
  },
  {
   "cell_type": "code",
   "execution_count": null,
   "metadata": {},
   "outputs": [],
   "source": [
    "def normalizeTokens(word_list, extra_stop=[]):\n",
    "    #We can use a generator here as we just need to iterate over it\n",
    "    normalized = []\n",
    "    if type(word_list) == list and len(word_list) == 1:\n",
    "        word_list = word_list[0]\n",
    "\n",
    "    if type(word_list) == list:\n",
    "        word_list = ' '.join([str(elem) for elem in word_list]) \n",
    "\n",
    "    doc = nlp(word_list.lower())\n",
    "    \n",
    "    # add the property of stop word to words considered as stop words\n",
    "    if len(extra_stop) > 0:\n",
    "        for stopword in extra_stop:\n",
    "            lexeme = nlp.vocab[stopword]\n",
    "            lexeme.is_stop = True\n",
    "\n",
    "    for w in doc:\n",
    "        # if it's not a stop word or punctuation mark, add it to our article\n",
    "        if w.text != '\\n' and not w.is_stop and not w.is_punct and not w.like_num and len(w.text.strip()) > 0:\n",
    "            # we add the lematized version of the word\n",
    "            normalized.append(str(w.lemma_))\n",
    "\n",
    "    return normalized"
   ]
  },
  {
   "cell_type": "code",
   "execution_count": null,
   "metadata": {},
   "outputs": [],
   "source": [
    "whReleases['normalized_tokens'] = whReleases['tokenized_text'].apply(lambda x: normalizeTokens(x))\n",
    "\n",
    "whReleases['normalized_tokens_count'] = whReleases['normalized_tokens'].apply(lambda x: len(x))\n",
    "\n",
    "whReleases"
   ]
  },
  {
   "cell_type": "markdown",
   "metadata": {},
   "source": [
    "You can see that in the final step of normalizing, we add the lemmatized form of the word. spaCy's built in lemmatizer does this (https://spacy.io/api/lemmatizer). Lemmatization can be thought of as finding the root or the base of the word after removing inflections and other variations of words. Another possible way of finding the roots of words is using NLTK's porting or stemming functionalities, but we will not be getting into them.\n",
    "\n",
    "Now that it is cleaned we start analyzing the dataset. We can start by finding frequency distributions for the dataset. Lets start looking at all the press releases together. The [`ConditionalFreqDist`](http://www.nltk.org/api/nltk.html#nltk.probability.ConditionalProbDist) class reads in an iterable of tuples, the first element is the condition and the second the focal word. For starters, we will use word lengths as the conditions, but tags or clusters will provide more useful results."
   ]
  },
  {
   "cell_type": "code",
   "execution_count": null,
   "metadata": {},
   "outputs": [],
   "source": [
    "#.sum() adds together the lists from each row into a single list\n",
    "whcfdist = nltk.ConditionalFreqDist(((len(w), w) for w in whReleases['normalized_tokens'].sum()))\n",
    "\n",
    "#print the number of words\n",
    "print(whcfdist.N())"
   ]
  },
  {
   "cell_type": "markdown",
   "metadata": {},
   "source": [
    "From this we can lookup the distributions of different word lengths"
   ]
  },
  {
   "cell_type": "code",
   "execution_count": null,
   "metadata": {},
   "outputs": [],
   "source": [
    "whcfdist[3].plot()"
   ]
  },
  {
   "cell_type": "markdown",
   "metadata": {},
   "source": [
    "We can also create a Conditional Probability Distribution or [`ConditionalProbDist`](http://www.nltk.org/api/nltk.html#nltk.probability.ConditionalProbDist) from the `ConditionalFreqDist`. To do this, however, we need a model for the probability distribution. A simple model is [`ELEProbDist`](http://www.nltk.org/api/nltk.html#nltk.probability.ELEProbDist) which gives the expected likelihood estimate for the probability distribution of the experiment used to generate the observed frequency distribution. "
   ]
  },
  {
   "cell_type": "code",
   "execution_count": null,
   "metadata": {},
   "outputs": [],
   "source": [
    "whcpdist = nltk.ConditionalProbDist(whcfdist, nltk.ELEProbDist)\n",
    "\n",
    "#print the most common 2 letter word\n",
    "print(whcpdist[2].max())\n",
    "\n",
    "#And its probability\n",
    "print(whcpdist[2].prob(whcpdist[2].max()))"
   ]
  },
  {
   "cell_type": "markdown",
   "metadata": {},
   "source": [
    "Length is one feature of a word, but there are many more important features we care about. Another critical feature is a word's role in the sentence, or its part of speech (POS). \n",
    "\n",
    "The method below works similarly to ```nltk.pos_text```, and can work with the conditional frequency distributions it provides."
   ]
  },
  {
   "cell_type": "code",
   "execution_count": null,
   "metadata": {},
   "outputs": [],
   "source": [
    "def spacy_pos(word_list):\n",
    "    tags = []\n",
    "    doc = nlp(word_list.lower())\n",
    "    for w in doc:\n",
    "        tags.append((w.text, w.tag_))\n",
    "    return tags"
   ]
  },
  {
   "cell_type": "code",
   "execution_count": null,
   "metadata": {},
   "outputs": [],
   "source": [
    "whReleases['normalized_tokens_POS'] = [spacy_pos(t) for t in whReleases['text']]"
   ]
  },
  {
   "cell_type": "markdown",
   "metadata": {},
   "source": [
    "This gives us a new column with the part of speech as a short initialism and the word in a tuple, exactly how the `nltk.ConditionalFreqDist()` function wants them. We can now construct another conditional frequency distribution."
   ]
  },
  {
   "cell_type": "code",
   "execution_count": null,
   "metadata": {},
   "outputs": [],
   "source": [
    "whcfdist_WordtoPOS = nltk.ConditionalFreqDist(whReleases['normalized_tokens_POS'].sum())\n",
    "list(whcfdist_WordtoPOS.items())[:10]"
   ]
  },
  {
   "cell_type": "markdown",
   "metadata": {},
   "source": [
    "This gives the frequency of each word as each part of speech...which can be uninformative and boring. What we want is the converse; the frequency of each part of speech for each word."
   ]
  },
  {
   "cell_type": "code",
   "execution_count": null,
   "metadata": {},
   "outputs": [],
   "source": [
    "whcfdist_POStoWord = nltk.ConditionalFreqDist((p, w) for w, p in whReleases['normalized_tokens_POS'].sum())"
   ]
  },
  {
   "cell_type": "markdown",
   "metadata": {},
   "source": [
    "We can now identify and collect all of the superlative adjectives"
   ]
  },
  {
   "cell_type": "code",
   "execution_count": null,
   "metadata": {},
   "outputs": [],
   "source": [
    "whcfdist_POStoWord['JJ']"
   ]
  },
  {
   "cell_type": "markdown",
   "metadata": {},
   "source": [
    "Or look at the most common nouns"
   ]
  },
  {
   "cell_type": "code",
   "execution_count": null,
   "metadata": {},
   "outputs": [],
   "source": [
    "whcfdist_POStoWord['NN'].most_common(5)"
   ]
  },
  {
   "cell_type": "markdown",
   "metadata": {},
   "source": [
    "Or plot the base form verbs against their number of occurrences"
   ]
  },
  {
   "cell_type": "code",
   "execution_count": null,
   "metadata": {},
   "outputs": [],
   "source": [
    "whcfdist_POStoWord['VB'].plot()"
   ]
  },
  {
   "cell_type": "markdown",
   "metadata": {},
   "source": [
    "We can then do a similar analysis of the word probabilities"
   ]
  },
  {
   "cell_type": "code",
   "execution_count": null,
   "metadata": {},
   "outputs": [],
   "source": [
    "whcpdist_POStoWord = nltk.ConditionalProbDist(whcfdist_POStoWord, nltk.ELEProbDist)\n",
    "\n",
    "#print the most common nouns\n",
    "print(whcpdist_POStoWord['NN'].max())\n",
    "\n",
    "#And its probability\n",
    "print(whcpdist_POStoWord['NN'].prob(whcpdist_POStoWord['NN'].max()))"
   ]
  },
  {
   "cell_type": "markdown",
   "metadata": {},
   "source": [
    "We can even create a...wait for it...*WORD CLOUD* or Wordl to gaze at and draw mystical, approximate inferences about important nouns and verbs in our corpus:"
   ]
  },
  {
   "cell_type": "code",
   "execution_count": null,
   "metadata": {},
   "outputs": [],
   "source": [
    "wc = wordcloud.WordCloud(background_color=\"white\", max_words=500, width= 1000, height = 1000, mode ='RGBA', scale=.5).generate(' '.join(whReleases['normalized_tokens'].sum()))\n",
    "plt.imshow(wc)\n",
    "plt.axis(\"off\")\n",
    "plt.savefig(\"whitehouse_word_cloud.pdf\", format = 'pdf')"
   ]
  },
  {
   "cell_type": "markdown",
   "metadata": {},
   "source": [
    "## <span style=\"color:red\">*Exercise 2*</span>\n",
    "\n",
    "<span style=\"color:red\">Construct cells immediately below this that filter, stem and lemmatize the tokens in your corpus, and then creates plots (with titles and labels) that map the word frequency distribution, word probability distribution, and at least two conditional probability distributions that help us better understand the social and cultural game underlying the production of your corpus. Create a wordl of words (or normalized words) and add a few vague comments about what mysteries are revealed through it.</span>"
   ]
  },
  {
   "cell_type": "code",
   "execution_count": 11,
   "metadata": {},
   "outputs": [],
   "source": [
    "def normalizeTokens(word_list, extra_stop=[]):\n",
    "    #We can use a generator here as we just need to iterate over it\n",
    "    normalized = []\n",
    "    if type(word_list) == list and len(word_list) == 1:\n",
    "        word_list = word_list[0]\n",
    "\n",
    "    if type(word_list) == list:\n",
    "        word_list = ' '.join([str(elem) for elem in word_list]) \n",
    "\n",
    "    doc = nlp(word_list.lower())\n",
    "    \n",
    "    # add the property of stop word to words considered as stop words\n",
    "    if len(extra_stop) > 0:\n",
    "        for stopword in extra_stop:\n",
    "            lexeme = nlp.vocab[stopword]\n",
    "            lexeme.is_stop = True\n",
    "\n",
    "    for w in doc:\n",
    "        # if it's not a stop word or punctuation mark, add it to our article\n",
    "        if w.text != '\\n' and not w.is_stop and not w.is_punct and not w.like_num and len(w.text.strip()) > 0:\n",
    "            # we add the lematized version of the word\n",
    "            normalized.append(str(w.lemma_))\n",
    "\n",
    "    return normalized\n",
    "\n",
    "def spacy_pos(word_list):\n",
    "    tags = []\n",
    "    doc = nlp(word_list.lower())\n",
    "    for w in doc:\n",
    "        tags.append((w.text, w.tag_))\n",
    "    return tags"
   ]
  },
  {
   "cell_type": "code",
   "execution_count": 12,
   "metadata": {},
   "outputs": [
    {
     "data": {
      "text/plain": [
       "[('the', 25320),\n",
       " ('of', 19908),\n",
       " ('in', 7242),\n",
       " ('and', 6701),\n",
       " ('to', 5883),\n",
       " ('a', 5548),\n",
       " ('is', 4731),\n",
       " ('that', 3374),\n",
       " ('labour', 3344),\n",
       " ('as', 3293),\n",
       " ('value', 2992),\n",
       " ('by', 2758),\n",
       " ('for', 2389),\n",
       " ('The', 2358),\n",
       " ('it', 2350),\n",
       " ('which', 1750),\n",
       " ('with', 1680),\n",
       " ('on', 1650),\n",
       " ('or', 1588),\n",
       " ('be', 1580)]"
      ]
     },
     "execution_count": 12,
     "metadata": {},
     "output_type": "execute_result"
    }
   ],
   "source": [
    "countsDict = {}\n",
    "for word in capital_corpus['tokenized_text'].sum():\n",
    "    if word in countsDict:\n",
    "        countsDict[word] += 1\n",
    "    else:\n",
    "        countsDict[word] = 1\n",
    "word_counts = sorted(countsDict.items(), key = lambda x : x[1], reverse = True)\n",
    "word_counts[:20]"
   ]
  },
  {
   "cell_type": "markdown",
   "metadata": {},
   "source": [
    "**Comment:** Despite what the title would suggest, \"capital\" is not front and center in the lexical vocabulary of *Capital.* Indeed, the key player in the text is \"labour,\" ranking at eigth most used word in the entire text overall, ahead of words such as \"it\" and \"as.\" Whew. Honorable mention to \"value,\" with under 400 fewer mentions than \"labour.\" "
   ]
  },
  {
   "cell_type": "code",
   "execution_count": 13,
   "metadata": {},
   "outputs": [
    {
     "data": {
      "text/plain": [
       "['the', 'of', 'in', 'and', 'to', 'a', 'is', 'that']"
      ]
     },
     "execution_count": 13,
     "metadata": {},
     "output_type": "execute_result"
    }
   ],
   "source": [
    "stop_words_freq = []\n",
    "for word, count in word_counts:\n",
    "    if word == 'labour':\n",
    "        break\n",
    "    else:\n",
    "        stop_words_freq.append(word)\n",
    "stop_words_freq"
   ]
  },
  {
   "cell_type": "code",
   "execution_count": 14,
   "metadata": {},
   "outputs": [
    {
     "data": {
      "text/html": [
       "<div>\n",
       "<style scoped>\n",
       "    .dataframe tbody tr th:only-of-type {\n",
       "        vertical-align: middle;\n",
       "    }\n",
       "\n",
       "    .dataframe tbody tr th {\n",
       "        vertical-align: top;\n",
       "    }\n",
       "\n",
       "    .dataframe thead th {\n",
       "        text-align: right;\n",
       "    }\n",
       "</style>\n",
       "<table border=\"1\" class=\"dataframe\">\n",
       "  <thead>\n",
       "    <tr style=\"text-align: right;\">\n",
       "      <th></th>\n",
       "      <th>Unnamed: 0</th>\n",
       "      <th>source</th>\n",
       "      <th>paragraph_text</th>\n",
       "      <th>source-paragraph-text</th>\n",
       "      <th>tokenized_text</th>\n",
       "      <th>normalized_tokens</th>\n",
       "      <th>normalized_tokens_count</th>\n",
       "    </tr>\n",
       "  </thead>\n",
       "  <tbody>\n",
       "    <tr>\n",
       "      <th>0</th>\n",
       "      <td>4</td>\n",
       "      <td>https://www.marxists.org/archive/marx/works/18...</td>\n",
       "      <td>Contents</td>\n",
       "      <td>Commodities</td>\n",
       "      <td>[Contents]</td>\n",
       "      <td>[content]</td>\n",
       "      <td>1</td>\n",
       "    </tr>\n",
       "    <tr>\n",
       "      <th>1</th>\n",
       "      <td>5</td>\n",
       "      <td>https://www.marxists.org/archive/marx/works/18...</td>\n",
       "      <td>Section 1 - The Two Factors of a Commodity: ...</td>\n",
       "      <td>Commodities</td>\n",
       "      <td>[Section, 1, The, Two, Factors, of, a, Commodi...</td>\n",
       "      <td>[section, factor, commodity, use, value, value...</td>\n",
       "      <td>17</td>\n",
       "    </tr>\n",
       "    <tr>\n",
       "      <th>2</th>\n",
       "      <td>6</td>\n",
       "      <td>https://www.marxists.org/archive/marx/works/18...</td>\n",
       "      <td>A. Elementary or Accidental Form of Value</td>\n",
       "      <td>Commodities</td>\n",
       "      <td>[A., Elementary, or, Accidental, Form, of, Value]</td>\n",
       "      <td>[a., elementary, accidental, form, value]</td>\n",
       "      <td>5</td>\n",
       "    </tr>\n",
       "    <tr>\n",
       "      <th>3</th>\n",
       "      <td>7</td>\n",
       "      <td>https://www.marxists.org/archive/marx/works/18...</td>\n",
       "      <td>1. The Two Poles of the Expression of Value:...</td>\n",
       "      <td>Commodities</td>\n",
       "      <td>[1, The, Two, Poles, of, the, Expression, of, ...</td>\n",
       "      <td>[pole, expression, value, relative, form, equi...</td>\n",
       "      <td>10</td>\n",
       "    </tr>\n",
       "    <tr>\n",
       "      <th>4</th>\n",
       "      <td>8</td>\n",
       "      <td>https://www.marxists.org/archive/marx/works/18...</td>\n",
       "      <td>a. The Nature and Import of this Form   b. Q...</td>\n",
       "      <td>Commodities</td>\n",
       "      <td>[a., The, Nature, and, Import, of, this, Form,...</td>\n",
       "      <td>[a., nature, import, form, b., quantitative, d...</td>\n",
       "      <td>9</td>\n",
       "    </tr>\n",
       "    <tr>\n",
       "      <th>...</th>\n",
       "      <td>...</td>\n",
       "      <td>...</td>\n",
       "      <td>...</td>\n",
       "      <td>...</td>\n",
       "      <td>...</td>\n",
       "      <td>...</td>\n",
       "      <td>...</td>\n",
       "    </tr>\n",
       "    <tr>\n",
       "      <th>3336</th>\n",
       "      <td>4049</td>\n",
       "      <td>https://www.marxists.org/archive/marx/letters/...</td>\n",
       "      <td>In 1864, the founding of the International Wor...</td>\n",
       "      <td>Letters on Capital</td>\n",
       "      <td>[In, 1864, the, founding, of, the, Internation...</td>\n",
       "      <td>[founding, international, workingmen, associat...</td>\n",
       "      <td>20</td>\n",
       "    </tr>\n",
       "    <tr>\n",
       "      <th>3337</th>\n",
       "      <td>4050</td>\n",
       "      <td>https://www.marxists.org/archive/marx/letters/...</td>\n",
       "      <td>The German edition of Volume I of Capital was ...</td>\n",
       "      <td>Letters on Capital</td>\n",
       "      <td>[The, German, edition, of, Volume, I, of, Capi...</td>\n",
       "      <td>[german, edition, volume, capital, publish, july]</td>\n",
       "      <td>6</td>\n",
       "    </tr>\n",
       "    <tr>\n",
       "      <th>3338</th>\n",
       "      <td>4051</td>\n",
       "      <td>https://www.marxists.org/archive/marx/letters/...</td>\n",
       "      <td>In the Spring and Summer of 1868, Engels studi...</td>\n",
       "      <td>Letters on Capital</td>\n",
       "      <td>[In, the, Spring, and, Summer, of, 1868, Engel...</td>\n",
       "      <td>[spring, summer, engel, study, capital, write,...</td>\n",
       "      <td>14</td>\n",
       "    </tr>\n",
       "    <tr>\n",
       "      <th>3339</th>\n",
       "      <td>4052</td>\n",
       "      <td>https://www.marxists.org/archive/marx/letters/...</td>\n",
       "      <td>Marx's Economic Works |  Letters Index Politi...</td>\n",
       "      <td>Letters on Capital</td>\n",
       "      <td>[Marx, 's, Economic, Works, |, Letters, Index,...</td>\n",
       "      <td>[marx, economic, work, |, letter, index, polit...</td>\n",
       "      <td>12</td>\n",
       "    </tr>\n",
       "    <tr>\n",
       "      <th>3340</th>\n",
       "      <td>4054</td>\n",
       "      <td>https://www.marxists.org/archive/marx/index.htm</td>\n",
       "      <td>MIA: M.I.A. Library: Marx &amp; Engels</td>\n",
       "      <td>Marx-Engels Archive</td>\n",
       "      <td>[MIA, M.I.A., Library, Marx, Engels]</td>\n",
       "      <td>[mia, m.i.a, library, marx, engel]</td>\n",
       "      <td>5</td>\n",
       "    </tr>\n",
       "  </tbody>\n",
       "</table>\n",
       "<p>3341 rows × 7 columns</p>\n",
       "</div>"
      ],
      "text/plain": [
       "      Unnamed: 0                                             source  \\\n",
       "0              4  https://www.marxists.org/archive/marx/works/18...   \n",
       "1              5  https://www.marxists.org/archive/marx/works/18...   \n",
       "2              6  https://www.marxists.org/archive/marx/works/18...   \n",
       "3              7  https://www.marxists.org/archive/marx/works/18...   \n",
       "4              8  https://www.marxists.org/archive/marx/works/18...   \n",
       "...          ...                                                ...   \n",
       "3336        4049  https://www.marxists.org/archive/marx/letters/...   \n",
       "3337        4050  https://www.marxists.org/archive/marx/letters/...   \n",
       "3338        4051  https://www.marxists.org/archive/marx/letters/...   \n",
       "3339        4052  https://www.marxists.org/archive/marx/letters/...   \n",
       "3340        4054    https://www.marxists.org/archive/marx/index.htm   \n",
       "\n",
       "                                         paragraph_text source-paragraph-text  \\\n",
       "0                                             Contents            Commodities   \n",
       "1       Section 1 - The Two Factors of a Commodity: ...           Commodities   \n",
       "2           A. Elementary or Accidental Form of Value             Commodities   \n",
       "3       1. The Two Poles of the Expression of Value:...           Commodities   \n",
       "4       a. The Nature and Import of this Form   b. Q...           Commodities   \n",
       "...                                                 ...                   ...   \n",
       "3336  In 1864, the founding of the International Wor...    Letters on Capital   \n",
       "3337  The German edition of Volume I of Capital was ...    Letters on Capital   \n",
       "3338  In the Spring and Summer of 1868, Engels studi...    Letters on Capital   \n",
       "3339   Marx's Economic Works |  Letters Index Politi...    Letters on Capital   \n",
       "3340               MIA: M.I.A. Library: Marx & Engels     Marx-Engels Archive   \n",
       "\n",
       "                                         tokenized_text  \\\n",
       "0                                            [Contents]   \n",
       "1     [Section, 1, The, Two, Factors, of, a, Commodi...   \n",
       "2     [A., Elementary, or, Accidental, Form, of, Value]   \n",
       "3     [1, The, Two, Poles, of, the, Expression, of, ...   \n",
       "4     [a., The, Nature, and, Import, of, this, Form,...   \n",
       "...                                                 ...   \n",
       "3336  [In, 1864, the, founding, of, the, Internation...   \n",
       "3337  [The, German, edition, of, Volume, I, of, Capi...   \n",
       "3338  [In, the, Spring, and, Summer, of, 1868, Engel...   \n",
       "3339  [Marx, 's, Economic, Works, |, Letters, Index,...   \n",
       "3340               [MIA, M.I.A., Library, Marx, Engels]   \n",
       "\n",
       "                                      normalized_tokens  \\\n",
       "0                                             [content]   \n",
       "1     [section, factor, commodity, use, value, value...   \n",
       "2             [a., elementary, accidental, form, value]   \n",
       "3     [pole, expression, value, relative, form, equi...   \n",
       "4     [a., nature, import, form, b., quantitative, d...   \n",
       "...                                                 ...   \n",
       "3336  [founding, international, workingmen, associat...   \n",
       "3337  [german, edition, volume, capital, publish, july]   \n",
       "3338  [spring, summer, engel, study, capital, write,...   \n",
       "3339  [marx, economic, work, |, letter, index, polit...   \n",
       "3340                 [mia, m.i.a, library, marx, engel]   \n",
       "\n",
       "      normalized_tokens_count  \n",
       "0                           1  \n",
       "1                          17  \n",
       "2                           5  \n",
       "3                          10  \n",
       "4                           9  \n",
       "...                       ...  \n",
       "3336                       20  \n",
       "3337                        6  \n",
       "3338                       14  \n",
       "3339                       12  \n",
       "3340                        5  \n",
       "\n",
       "[3341 rows x 7 columns]"
      ]
     },
     "execution_count": 14,
     "metadata": {},
     "output_type": "execute_result"
    }
   ],
   "source": [
    "capital_corpus['normalized_tokens'] = capital_corpus['tokenized_text'].apply(lambda x: normalizeTokens(x))\n",
    "\n",
    "capital_corpus['normalized_tokens_count'] = capital_corpus['normalized_tokens'].apply(lambda x: len(x))\n",
    "\n",
    "capital_corpus"
   ]
  },
  {
   "cell_type": "code",
   "execution_count": 22,
   "metadata": {},
   "outputs": [
    {
     "name": "stdout",
     "output_type": "stream",
     "text": [
      "Total words in Capital: 141988\n"
     ]
    },
    {
     "data": {
      "image/png": "[encoded data removed]",
      "text/plain": [
       "<Figure size 432x288 with 1 Axes>"
      ]
     },
     "metadata": {},
     "output_type": "display_data"
    },
    {
     "data": {
      "text/plain": [
       "<AxesSubplot:title={'center':\"Word Frequency Distribution in Marx's Capital\"}, xlabel='Samples', ylabel='Counts'>"
      ]
     },
     "execution_count": 22,
     "metadata": {},
     "output_type": "execute_result"
    }
   ],
   "source": [
    "#.sum() adds together the lists from each row into a single list\n",
    "capital_fdist = nltk.ConditionalFreqDist(((len(w), w) for w in capital_corpus['normalized_tokens'].sum()))\n",
    "\n",
    "#print the number of words\n",
    "print(\"Total words in Capital:\",capital_fdist.N())\n",
    "\n",
    "capital_fdist[3].plot(title=\"Word Frequency Distribution in Marx's Capital\")"
   ]
  },
  {
   "cell_type": "code",
   "execution_count": 24,
   "metadata": {},
   "outputs": [],
   "source": [
    "capital_pdist = nltk.ConditionalProbDist(capital_fdist, nltk.ELEProbDist)"
   ]
  },
  {
   "cell_type": "code",
   "execution_count": 25,
   "metadata": {},
   "outputs": [
    {
     "name": "stdout",
     "output_type": "stream",
     "text": [
      "exchangeability\n",
      "0.14058355437665782\n"
     ]
    }
   ],
   "source": [
    "#print the most common 15! letter word\n",
    "print(capital_pdist[15].max())\n",
    "\n",
    "#And its probability\n",
    "print(capital_pdist[15].prob(capital_pdist[15].max()))"
   ]
  },
  {
   "cell_type": "code",
   "execution_count": 26,
   "metadata": {},
   "outputs": [],
   "source": [
    "capital_corpus['normalized_tokens_POS'] = [spacy_pos(t) for t in capital_corpus['paragraph_text']]"
   ]
  },
  {
   "cell_type": "code",
   "execution_count": 27,
   "metadata": {},
   "outputs": [
    {
     "data": {
      "text/plain": [
       "[('  ', FreqDist({'_SP': 849})),\n",
       " ('contents', FreqDist({'NNS': 13, 'VBZ': 1})),\n",
       " ('section', FreqDist({'NN': 46, 'NNP': 3})),\n",
       " ('1', FreqDist({'CD': 231, 'LS': 56})),\n",
       " ('-',\n",
       "  FreqDist({'HYPH': 4440, 'SYM': 122, 'NN': 99, 'JJ': 73, ':': 26, 'NNS': 25, ',': 21, 'VB': 13, 'VBN': 7, 'NNP': 2, ...})),\n",
       " ('the', FreqDist({'DT': 27682})),\n",
       " ('two', FreqDist({'CD': 412})),\n",
       " ('factors', FreqDist({'NNS': 37})),\n",
       " ('of', FreqDist({'IN': 19948, 'RB': 19, 'JJ': 1})),\n",
       " ('a', FreqDist({'DT': 5827, 'NN': 27, 'LS': 10, 'RB': 2, 'NNP': 2}))]"
      ]
     },
     "execution_count": 27,
     "metadata": {},
     "output_type": "execute_result"
    }
   ],
   "source": [
    "capital_fdist_WordtoPOS = nltk.ConditionalFreqDist(capital_corpus['normalized_tokens_POS'].sum())\n",
    "list(capital_fdist_WordtoPOS.items())[:10]"
   ]
  },
  {
   "cell_type": "code",
   "execution_count": 28,
   "metadata": {},
   "outputs": [
    {
     "data": {
      "text/plain": [
       "[('value', 3089),\n",
       " ('labour', 3070),\n",
       " ('form', 1206),\n",
       " ('production', 1149),\n",
       " ('capital', 1143)]"
      ]
     },
     "execution_count": 28,
     "metadata": {},
     "output_type": "execute_result"
    }
   ],
   "source": [
    "capital_fdist_POStoWord = nltk.ConditionalFreqDist((p, w) for w, p in capital_corpus['normalized_tokens_POS'].sum())\n",
    "capital_fdist_POStoWord['NN'].most_common(5)"
   ]
  },
  {
   "cell_type": "code",
   "execution_count": 29,
   "metadata": {},
   "outputs": [
    {
     "data": {
      "image/png": "[encoded data removed]",
      "text/plain": [
       "<Figure size 432x288 with 1 Axes>"
      ]
     },
     "metadata": {},
     "output_type": "display_data"
    },
    {
     "data": {
      "text/plain": [
       "<AxesSubplot:xlabel='Samples', ylabel='Counts'>"
      ]
     },
     "execution_count": 29,
     "metadata": {},
     "output_type": "execute_result"
    }
   ],
   "source": [
    "capital_fdist_POStoWord['JJ'].plot()"
   ]
  },
  {
   "cell_type": "code",
   "execution_count": 49,
   "metadata": {},
   "outputs": [],
   "source": [
    "cloud_list = []\n",
    "for token_text in capital_corpus.normalized_tokens:\n",
    "    cloud_list.extend(token_text)\n",
    "cloud_text = ' '.join(map(str,cloud_list))"
   ]
  },
  {
   "cell_type": "code",
   "execution_count": 50,
   "metadata": {},
   "outputs": [
    {
     "data": {
      "image/png": "[encoded data removed]",
      "text/plain": [
       "<Figure size 432x288 with 1 Axes>"
      ]
     },
     "metadata": {},
     "output_type": "display_data"
    }
   ],
   "source": [
    "wc = wordcloud.WordCloud(background_color=\"white\", max_words=500, width= 5000, height = 5000, mode ='RGBA', scale=0.5).generate(cloud_text)\n",
    "plt.imshow(wc)\n",
    "plt.axis(\"off\")\n",
    "plt.savefig(\"capital_word_cloud.pdf\", format = 'pdf')\n",
    "#' '.join(capital_corpus['normalized_tokens'].sum()"
   ]
  },
  {
   "cell_type": "markdown",
   "metadata": {},
   "source": [
    "**Comment:** This wordcloud, in contrast to the raw word count we made at the beginning of this section AND to the generation onf most frequent \"NN\" tokens in the text, seems to indicate that *Capital* is about \"capital' after all! What can account for this phenomenon? A closer look at the wordcloud shows that the most frequent salient words in our corpus - especially \"labour\" and \"capital\" - are in fact here decomposed into their bigram forms, while \"capital,\" not being a part of a salient bigram, is displayed front and center. Meanwhile, \"labour\" is split visually between \"labour\" and \"labour power,\" while \"value\" has to contend with \"surplus value,\" \"use value,\" and \"exchange value\" on the graph."
   ]
  },
  {
   "cell_type": "code",
   "execution_count": 36,
   "metadata": {},
   "outputs": [
    {
     "data": {
      "text/plain": [
       "FreqDist({'NN': 1143, 'NNP': 19, 'JJ': 2, 'VB': 1})"
      ]
     },
     "execution_count": 36,
     "metadata": {},
     "output_type": "execute_result"
    }
   ],
   "source": [
    "capital_fdist_WordtoPOS['capital']"
   ]
  },
  {
   "cell_type": "markdown",
   "metadata": {},
   "source": [
    "## Davies Corpora\n",
    "\n",
    "Now that we have our basic cleaning down, we can arrange our Davies Corpora. Let us try this with the movies corpora we have already loaded.\n",
    "\n",
    "We'll use a smaller corpus of a 1000 movies for this demonstration."
   ]
  },
  {
   "cell_type": "code",
   "execution_count": null,
   "metadata": {},
   "outputs": [],
   "source": [
    "zfile = zipfile.ZipFile(corpus_name + \"/sources_movies.zip\")\n",
    "source = []"
   ]
  },
  {
   "cell_type": "code",
   "execution_count": null,
   "metadata": {},
   "outputs": [],
   "source": [
    "for file in zfile.namelist():\n",
    "    with zfile.open(file) as f:\n",
    "        for line in f:\n",
    "            source.append(line)"
   ]
  },
  {
   "cell_type": "code",
   "execution_count": null,
   "metadata": {},
   "outputs": [],
   "source": [
    "source[0:20]"
   ]
  },
  {
   "cell_type": "markdown",
   "metadata": {},
   "source": [
    "It looks dirty because the file is encoded as bytes, but we can certainly see the information there. The file id is also present in the original raw text data: as the first \"word\". Look back at the normalized/tokenized words to confirm that. We're going to use this to create a dataframe with: Fileid, movie name, genre, year, and country.\n",
    "\n",
    "It is advised that you run a similar check of the source file before you do other extraction.\n",
    "\n",
    "First, let us create a dictionary mapping file-id to all the text. Each movie will be mapped to a list of the tokenized words.\n",
    "\n",
    "In this example, I only use it to load 100 movies. You can comment this out or increase/decrease the number as you see fit."
   ]
  },
  {
   "cell_type": "code",
   "execution_count": null,
   "metadata": {},
   "outputs": [],
   "source": [
    "movie_texts = {}"
   ]
  },
  {
   "cell_type": "code",
   "execution_count": null,
   "metadata": {},
   "outputs": [],
   "source": [
    "for files in movie_raw:\n",
    "    if len(movie_texts) > 100:\n",
    "        break\n",
    "    movies = clean_raw_text(movie_raw[files][1:])\n",
    "    for movie in movies:\n",
    "        txts = lucem_illud_2020.word_tokenize(movie)\n",
    "        try:\n",
    "            movie_texts[txts[0][2:]] = txts[1:]\n",
    "        except IndexError:\n",
    "            continue"
   ]
  },
  {
   "cell_type": "code",
   "execution_count": null,
   "metadata": {},
   "outputs": [],
   "source": [
    "import pandas as pd"
   ]
  },
  {
   "cell_type": "code",
   "execution_count": null,
   "metadata": {},
   "outputs": [],
   "source": [
    "movie_df = pd.DataFrame(columns=[\"Movie Name\", \"Genre\", \"Year\", \"Country\", \"Tokenized Texts\"])"
   ]
  },
  {
   "cell_type": "code",
   "execution_count": null,
   "metadata": {},
   "outputs": [],
   "source": [
    "for movie in source[3:]:\n",
    "    try:\n",
    "        tid, fileid, total_words, genre, year, lang, country, imdb, title = movie.decode(\"utf-8\").split(\"\\t\")\n",
    "    except UnicodeDecodeError:\n",
    "        continue\n",
    "    try:\n",
    "        movie_df.loc[fileid.strip()] = [title.strip(), genre.strip(), year.strip(), country.strip(), movie_texts[fileid.strip()]]\n",
    "    except KeyError:\n",
    "        continue"
   ]
  },
  {
   "cell_type": "code",
   "execution_count": null,
   "metadata": {},
   "outputs": [],
   "source": [
    "movie_df.head()"
   ]
  },
  {
   "cell_type": "markdown",
   "metadata": {},
   "source": [
    "# Part-of-Speech (POS) tagging"
   ]
  },
  {
   "cell_type": "markdown",
   "metadata": {},
   "source": [
    "In POS tagging, we classify each word by its semantic role in a sentence. We will be using the in-built spaCy pos-tagging.\n",
    "\n",
    "https://spacy.io/usage/linguistic-features\n",
    "\n",
    "|#. |Tag |Description |\n",
    "|---|----|------------|\n",
    "|1.\t|CC\t|Coordinating conjunction\n",
    "|2.\t|CD\t|Cardinal number\n",
    "|3.\t|DT\t|Determiner\n",
    "|4.\t|EX\t|Existential there\n",
    "|5.\t|FW\t|Foreign word\n",
    "|6.\t|IN\t|Preposition or subordinating conjunction\n",
    "|7.\t|JJ\t|Adjective\n",
    "|8.\t|JJR|\tAdjective, comparative\n",
    "|9.\t|JJS|\tAdjective, superlative\n",
    "|10.|\tLS\t|List item marker\n",
    "|11.|\tMD\t|Modal\n",
    "|12.|\tNN\t|Noun, singular or mass\n",
    "|13.|\tNNS\t|Noun, plural\n",
    "|14.|\tNNP\t|Proper noun, singular\n",
    "|15.|\tNNPS|\tProper noun, plural\n",
    "|16.|\tPDT\t|Predeterminer\n",
    "|17.|\tPOS\t|Possessive ending\n",
    "|18.|\tPRP\t|Personal pronoun\n",
    "|19.|\tPRP\\$|\tPossessive pronoun\n",
    "|20.|\tRB\t|Adverb\n",
    "|21.|\tRBR\t|Adverb, comparative\n",
    "|22.|\tRBS\t|Adverb, superlative\n",
    "|23.|\tRP\t|Particle\n",
    "|24.|\tSYM\t|Symbol\n",
    "|25.|\tTO\t|to\n",
    "|26.|\tUH\t|Interjection\n",
    "|27.|\tVB\t|Verb, base form\n",
    "|28.|\tVBD\t|Verb, past tense\n",
    "|29.|\tVBG\t|Verb, gerund or present participle\n",
    "|30.|\tVBN\t|Verb, past participle\n",
    "|31.|\tVBP\t|Verb, non-3rd person singular present\n",
    "|32.|\tVBZ\t|Verb, 3rd person singular present\n",
    "|33.|\tWDT\t|Wh-determiner\n",
    "|34.|\tWP\t|Wh-pronoun\n",
    "|35.|\tWP$\t|Possessive wh-pronoun\n",
    "|36.|\tWRB\t|Wh-adverb\n",
    "\n",
    "spaCy pos-tags word as we run it through the english language model. A small example:"
   ]
  },
  {
   "cell_type": "code",
   "execution_count": 78,
   "metadata": {},
   "outputs": [],
   "source": [
    "sent = nlp(u\"Tom went to IKEA to get some of those delicious Swedish meatballs.\")\n"
   ]
  },
  {
   "cell_type": "code",
   "execution_count": 79,
   "metadata": {},
   "outputs": [
    {
     "name": "stdout",
     "output_type": "stream",
     "text": [
      "Tom PROPN NNP\n",
      "went VERB VBD\n",
      "to ADP IN\n",
      "IKEA PROPN NNP\n",
      "to PART TO\n",
      "get AUX VB\n",
      "some DET DT\n",
      "of ADP IN\n",
      "those DET DT\n",
      "delicious ADJ JJ\n",
      "Swedish ADJ JJ\n",
      "meatballs NOUN NNS\n",
      ". PUNCT .\n"
     ]
    }
   ],
   "source": [
    "for token in sent:\n",
    "    print(token.text, token.pos_, token.tag_)"
   ]
  },
  {
   "cell_type": "markdown",
   "metadata": {},
   "source": [
    "This looks quite good. Now we will try POS tagging with a somewhat larger corpus. We consider a few of the top posts from the reddit data we used last week."
   ]
  },
  {
   "cell_type": "code",
   "execution_count": null,
   "metadata": {},
   "outputs": [],
   "source": [
    "redditDF = pandas.read_csv('../data/reddit.csv')"
   ]
  },
  {
   "cell_type": "markdown",
   "metadata": {},
   "source": [
    "Grabbing the 10 highest scoring posts and tokenizing the sentences. Once again, notice that we aren't going to do any kind of stemming this week (although *semantic* normalization may be performed where we translate synonyms into the same focal word). Here, we will use sentences tokenized by spaCy. Like before, these methods can also be found in lucem_illud.\n",
    "\n"
   ]
  },
  {
   "cell_type": "code",
   "execution_count": null,
   "metadata": {},
   "outputs": [],
   "source": [
    "def sent_tokenize(word_list):\n",
    "    doc = nlp(word_list)\n",
    "    sentences = [sent.string.strip() for sent in doc.sents]\n",
    "    return sentences"
   ]
  },
  {
   "cell_type": "code",
   "execution_count": null,
   "metadata": {},
   "outputs": [],
   "source": [
    "redditTopScores = redditDF.sort_values('score')[-10:]\n",
    "redditTopScores['sentences'] = redditTopScores['text'].apply(lambda x: [word_tokenize(s) for s in sent_tokenize(x)])\n",
    "redditTopScores.index = range(len(redditTopScores) - 1, -1,-1) #Reindex to make things nice in the future\n",
    "redditTopScores"
   ]
  },
  {
   "cell_type": "code",
   "execution_count": null,
   "metadata": {},
   "outputs": [],
   "source": [
    "def tag_sents_pos(sentences):\n",
    "    \"\"\"\n",
    "    function which replicates NLTK pos tagging on sentences.\n",
    "    \"\"\"\n",
    "    new_sents = []\n",
    "    for sentence in sentences:\n",
    "        new_sent = ' '.join(sentence)\n",
    "        new_sents.append(new_sent)\n",
    "    final_string = ' '.join(new_sents)\n",
    "    doc = nlp(final_string)\n",
    "    \n",
    "    pos_sents = []\n",
    "    for sent in doc.sents:\n",
    "        pos_sent = []\n",
    "        for token in sent:\n",
    "            pos_sent.append((token.text, token.tag_))\n",
    "        pos_sents.append(pos_sent)\n",
    "    \n",
    "    return pos_sents"
   ]
  },
  {
   "cell_type": "code",
   "execution_count": null,
   "metadata": {},
   "outputs": [],
   "source": [
    "redditTopScores['POS_sents'] = redditTopScores['sentences'].apply(lambda x: tag_sents_pos(x))"
   ]
  },
  {
   "cell_type": "code",
   "execution_count": null,
   "metadata": {},
   "outputs": [],
   "source": [
    "redditTopScores['POS_sents']"
   ]
  },
  {
   "cell_type": "markdown",
   "metadata": {},
   "source": [
    "And count the number of `NN` (nouns)"
   ]
  },
  {
   "cell_type": "code",
   "execution_count": null,
   "metadata": {},
   "outputs": [],
   "source": [
    "countTarget = 'NN'\n",
    "targetCounts = {}\n",
    "for entry in redditTopScores['POS_sents']:\n",
    "    for sentence in entry:\n",
    "        for ent, kind in sentence:\n",
    "            if kind != countTarget:\n",
    "                continue\n",
    "            elif ent in targetCounts:\n",
    "                targetCounts[ent] += 1\n",
    "            else:\n",
    "                targetCounts[ent] = 1\n",
    "sortedTargets = sorted(targetCounts.items(), key = lambda x: x[1], reverse = True)\n",
    "sortedTargets[:20]"
   ]
  },
  {
   "cell_type": "markdown",
   "metadata": {},
   "source": [
    "What about the adjectives that modify the word, \"computer\"?"
   ]
  },
  {
   "cell_type": "code",
   "execution_count": null,
   "metadata": {},
   "outputs": [],
   "source": [
    "NTarget = 'JJ'\n",
    "Word = 'computer'\n",
    "NResults = set()\n",
    "for entry in redditTopScores['POS_sents']:\n",
    "    for sentence in entry:\n",
    "        for (ent1, kind1),(ent2,kind2) in zip(sentence[:-1], sentence[1:]):\n",
    "            if (kind1,ent2.lower())==(NTarget,Word):\n",
    "                NResults.add(ent1)\n",
    "            else:\n",
    "                continue\n",
    "\n",
    "print(NResults)     "
   ]
  },
  {
   "cell_type": "markdown",
   "metadata": {},
   "source": [
    "## <span style=\"color:red\">*Your turn*</span>\n",
    "\n",
    "<span style=\"color:red\">In the cells immediately following, perform POS tagging on a meaningful (but modest) subset of a corpus associated with your final project. Examine the list of words associated with at least three different parts of speech. Consider conditional associations (e.g., adjectives associated with nouns or adverbs with verbs of interest). What do these distributions suggest about your corpus?"
   ]
  },
  {
   "cell_type": "code",
   "execution_count": 53,
   "metadata": {},
   "outputs": [],
   "source": [
    "def sent_tokenize(word_list):\n",
    "    doc = nlp(word_list)\n",
    "    sentences = [sent.string.strip() for sent in doc.sents]\n",
    "    return sentences\n",
    "\n",
    "def tag_sents_pos(sentences):\n",
    "    \"\"\"\n",
    "    function which replicates NLTK pos tagging on sentences.\n",
    "    \"\"\"\n",
    "    new_sents = []\n",
    "    for sentence in sentences:\n",
    "        new_sent = ' '.join(sentence)\n",
    "        new_sents.append(new_sent)\n",
    "    final_string = ' '.join(new_sents)\n",
    "    doc = nlp(final_string)\n",
    "    \n",
    "    pos_sents = []\n",
    "    for sent in doc.sents:\n",
    "        pos_sent = []\n",
    "        for token in sent:\n",
    "            pos_sent.append((token.text, token.tag_))\n",
    "        pos_sents.append(pos_sent)\n",
    "    \n",
    "    return pos_sents"
   ]
  },
  {
   "cell_type": "markdown",
   "metadata": {},
   "source": [
    "**Comment:** For this exercise, I will be selecting a famous (and favorite) subsection of *Capital*: Marx's famous opening analysis of the commodity form."
   ]
  },
  {
   "cell_type": "code",
   "execution_count": 54,
   "metadata": {},
   "outputs": [
    {
     "data": {
      "text/html": [
       "<div>\n",
       "<style scoped>\n",
       "    .dataframe tbody tr th:only-of-type {\n",
       "        vertical-align: middle;\n",
       "    }\n",
       "\n",
       "    .dataframe tbody tr th {\n",
       "        vertical-align: top;\n",
       "    }\n",
       "\n",
       "    .dataframe thead th {\n",
       "        text-align: right;\n",
       "    }\n",
       "</style>\n",
       "<table border=\"1\" class=\"dataframe\">\n",
       "  <thead>\n",
       "    <tr style=\"text-align: right;\">\n",
       "      <th></th>\n",
       "      <th>Unnamed: 0</th>\n",
       "      <th>source</th>\n",
       "      <th>paragraph_text</th>\n",
       "      <th>source-paragraph-text</th>\n",
       "      <th>tokenized_text</th>\n",
       "      <th>normalized_tokens</th>\n",
       "      <th>normalized_tokens_count</th>\n",
       "      <th>normalized_tokens_POS</th>\n",
       "    </tr>\n",
       "  </thead>\n",
       "  <tbody>\n",
       "    <tr>\n",
       "      <th>0</th>\n",
       "      <td>4</td>\n",
       "      <td>https://www.marxists.org/archive/marx/works/18...</td>\n",
       "      <td>Contents</td>\n",
       "      <td>Commodities</td>\n",
       "      <td>[Contents]</td>\n",
       "      <td>[content]</td>\n",
       "      <td>1</td>\n",
       "      <td>[(  , _SP), (contents, NNS)]</td>\n",
       "    </tr>\n",
       "    <tr>\n",
       "      <th>1</th>\n",
       "      <td>5</td>\n",
       "      <td>https://www.marxists.org/archive/marx/works/18...</td>\n",
       "      <td>Section 1 - The Two Factors of a Commodity: ...</td>\n",
       "      <td>Commodities</td>\n",
       "      <td>[Section, 1, The, Two, Factors, of, a, Commodi...</td>\n",
       "      <td>[section, factor, commodity, use, value, value...</td>\n",
       "      <td>17</td>\n",
       "      <td>[(  , _SP), (section, NN), (1, CD), (-, ,), (t...</td>\n",
       "    </tr>\n",
       "    <tr>\n",
       "      <th>2</th>\n",
       "      <td>6</td>\n",
       "      <td>https://www.marxists.org/archive/marx/works/18...</td>\n",
       "      <td>A. Elementary or Accidental Form of Value</td>\n",
       "      <td>Commodities</td>\n",
       "      <td>[A., Elementary, or, Accidental, Form, of, Value]</td>\n",
       "      <td>[a., elementary, accidental, form, value]</td>\n",
       "      <td>5</td>\n",
       "      <td>[(  , _SP), (a., NNP), (elementary, NNP), (or,...</td>\n",
       "    </tr>\n",
       "    <tr>\n",
       "      <th>3</th>\n",
       "      <td>7</td>\n",
       "      <td>https://www.marxists.org/archive/marx/works/18...</td>\n",
       "      <td>1. The Two Poles of the Expression of Value:...</td>\n",
       "      <td>Commodities</td>\n",
       "      <td>[1, The, Two, Poles, of, the, Expression, of, ...</td>\n",
       "      <td>[pole, expression, value, relative, form, equi...</td>\n",
       "      <td>10</td>\n",
       "      <td>[(  , _SP), (1, CD), (., .), (the, DT), (two, ...</td>\n",
       "    </tr>\n",
       "    <tr>\n",
       "      <th>4</th>\n",
       "      <td>8</td>\n",
       "      <td>https://www.marxists.org/archive/marx/works/18...</td>\n",
       "      <td>a. The Nature and Import of this Form   b. Q...</td>\n",
       "      <td>Commodities</td>\n",
       "      <td>[a., The, Nature, and, Import, of, this, Form,...</td>\n",
       "      <td>[a., nature, import, form, b., quantitative, d...</td>\n",
       "      <td>9</td>\n",
       "      <td>[(  , _SP), (a., NN), (the, DT), (nature, NN),...</td>\n",
       "    </tr>\n",
       "    <tr>\n",
       "      <th>...</th>\n",
       "      <td>...</td>\n",
       "      <td>...</td>\n",
       "      <td>...</td>\n",
       "      <td>...</td>\n",
       "      <td>...</td>\n",
       "      <td>...</td>\n",
       "      <td>...</td>\n",
       "      <td>...</td>\n",
       "    </tr>\n",
       "    <tr>\n",
       "      <th>200</th>\n",
       "      <td>214</td>\n",
       "      <td>https://www.marxists.org/archive/marx/works/18...</td>\n",
       "      <td>35.   “Observations on certain verbal dispute...</td>\n",
       "      <td>Commodities</td>\n",
       "      <td>[35, Observations, on, certain, verbal, disput...</td>\n",
       "      <td>[observation, certain, verbal, dispute, pol, e...</td>\n",
       "      <td>13</td>\n",
       "      <td>[( , _SP), (35, CD), (., .), (  , _SP), (“, ``...</td>\n",
       "    </tr>\n",
       "    <tr>\n",
       "      <th>201</th>\n",
       "      <td>215</td>\n",
       "      <td>https://www.marxists.org/archive/marx/works/18...</td>\n",
       "      <td>36.  S. Bailey, l.c., p. 165.</td>\n",
       "      <td>Commodities</td>\n",
       "      <td>[36, S., Bailey, l.c, p., 165]</td>\n",
       "      <td>[s., bailey, l.c, p.]</td>\n",
       "      <td>4</td>\n",
       "      <td>[( , _SP), (36, CD), (., .), ( , _SP), (s., NN...</td>\n",
       "    </tr>\n",
       "    <tr>\n",
       "      <th>202</th>\n",
       "      <td>216</td>\n",
       "      <td>https://www.marxists.org/archive/marx/works/18...</td>\n",
       "      <td>37.  The author of “Observations” and S. Bail...</td>\n",
       "      <td>Commodities</td>\n",
       "      <td>[37, The, author, of, Observations, and, S., B...</td>\n",
       "      <td>[author, observation, s., bailey, accuse, rica...</td>\n",
       "      <td>55</td>\n",
       "      <td>[( , _SP), (37, CD), (., .), ( , _SP), (the, D...</td>\n",
       "    </tr>\n",
       "    <tr>\n",
       "      <th>203</th>\n",
       "      <td>217</td>\n",
       "      <td>https://www.marxists.org/archive/marx/works/18...</td>\n",
       "      <td>Note. This oft-quoted aphorism was included i...</td>\n",
       "      <td>Commodities</td>\n",
       "      <td>[Note, This, oft, quoted, aphorism, was, inclu...</td>\n",
       "      <td>[note, oft, quote, aphorism, include, english,...</td>\n",
       "      <td>22</td>\n",
       "      <td>[( , _SP), (note, NN), (., .), (this, DT), (of...</td>\n",
       "    </tr>\n",
       "    <tr>\n",
       "      <th>204</th>\n",
       "      <td>219</td>\n",
       "      <td>https://www.marxists.org/archive/marx/works/18...</td>\n",
       "      <td>Transcribed by Bert Schultz (1993)  Html Mar...</td>\n",
       "      <td>Commodities</td>\n",
       "      <td>[Transcribed, by, Bert, Schultz, 1993, Html, M...</td>\n",
       "      <td>[transcribe, bert, schultz, html, markup, bria...</td>\n",
       "      <td>13</td>\n",
       "      <td>[(  , _SP), (transcribed, VBN), (by, IN), (ber...</td>\n",
       "    </tr>\n",
       "  </tbody>\n",
       "</table>\n",
       "<p>205 rows × 8 columns</p>\n",
       "</div>"
      ],
      "text/plain": [
       "     Unnamed: 0                                             source  \\\n",
       "0             4  https://www.marxists.org/archive/marx/works/18...   \n",
       "1             5  https://www.marxists.org/archive/marx/works/18...   \n",
       "2             6  https://www.marxists.org/archive/marx/works/18...   \n",
       "3             7  https://www.marxists.org/archive/marx/works/18...   \n",
       "4             8  https://www.marxists.org/archive/marx/works/18...   \n",
       "..          ...                                                ...   \n",
       "200         214  https://www.marxists.org/archive/marx/works/18...   \n",
       "201         215  https://www.marxists.org/archive/marx/works/18...   \n",
       "202         216  https://www.marxists.org/archive/marx/works/18...   \n",
       "203         217  https://www.marxists.org/archive/marx/works/18...   \n",
       "204         219  https://www.marxists.org/archive/marx/works/18...   \n",
       "\n",
       "                                        paragraph_text source-paragraph-text  \\\n",
       "0                                            Contents            Commodities   \n",
       "1      Section 1 - The Two Factors of a Commodity: ...           Commodities   \n",
       "2          A. Elementary or Accidental Form of Value             Commodities   \n",
       "3      1. The Two Poles of the Expression of Value:...           Commodities   \n",
       "4      a. The Nature and Import of this Form   b. Q...           Commodities   \n",
       "..                                                 ...                   ...   \n",
       "200   35.   “Observations on certain verbal dispute...           Commodities   \n",
       "201                    36.  S. Bailey, l.c., p. 165.             Commodities   \n",
       "202   37.  The author of “Observations” and S. Bail...           Commodities   \n",
       "203   Note. This oft-quoted aphorism was included i...           Commodities   \n",
       "204    Transcribed by Bert Schultz (1993)  Html Mar...           Commodities   \n",
       "\n",
       "                                        tokenized_text  \\\n",
       "0                                           [Contents]   \n",
       "1    [Section, 1, The, Two, Factors, of, a, Commodi...   \n",
       "2    [A., Elementary, or, Accidental, Form, of, Value]   \n",
       "3    [1, The, Two, Poles, of, the, Expression, of, ...   \n",
       "4    [a., The, Nature, and, Import, of, this, Form,...   \n",
       "..                                                 ...   \n",
       "200  [35, Observations, on, certain, verbal, disput...   \n",
       "201                     [36, S., Bailey, l.c, p., 165]   \n",
       "202  [37, The, author, of, Observations, and, S., B...   \n",
       "203  [Note, This, oft, quoted, aphorism, was, inclu...   \n",
       "204  [Transcribed, by, Bert, Schultz, 1993, Html, M...   \n",
       "\n",
       "                                     normalized_tokens  \\\n",
       "0                                            [content]   \n",
       "1    [section, factor, commodity, use, value, value...   \n",
       "2            [a., elementary, accidental, form, value]   \n",
       "3    [pole, expression, value, relative, form, equi...   \n",
       "4    [a., nature, import, form, b., quantitative, d...   \n",
       "..                                                 ...   \n",
       "200  [observation, certain, verbal, dispute, pol, e...   \n",
       "201                              [s., bailey, l.c, p.]   \n",
       "202  [author, observation, s., bailey, accuse, rica...   \n",
       "203  [note, oft, quote, aphorism, include, english,...   \n",
       "204  [transcribe, bert, schultz, html, markup, bria...   \n",
       "\n",
       "     normalized_tokens_count  \\\n",
       "0                          1   \n",
       "1                         17   \n",
       "2                          5   \n",
       "3                         10   \n",
       "4                          9   \n",
       "..                       ...   \n",
       "200                       13   \n",
       "201                        4   \n",
       "202                       55   \n",
       "203                       22   \n",
       "204                       13   \n",
       "\n",
       "                                 normalized_tokens_POS  \n",
       "0                         [(  , _SP), (contents, NNS)]  \n",
       "1    [(  , _SP), (section, NN), (1, CD), (-, ,), (t...  \n",
       "2    [(  , _SP), (a., NNP), (elementary, NNP), (or,...  \n",
       "3    [(  , _SP), (1, CD), (., .), (the, DT), (two, ...  \n",
       "4    [(  , _SP), (a., NN), (the, DT), (nature, NN),...  \n",
       "..                                                 ...  \n",
       "200  [( , _SP), (35, CD), (., .), (  , _SP), (“, ``...  \n",
       "201  [( , _SP), (36, CD), (., .), ( , _SP), (s., NN...  \n",
       "202  [( , _SP), (37, CD), (., .), ( , _SP), (the, D...  \n",
       "203  [( , _SP), (note, NN), (., .), (this, DT), (of...  \n",
       "204  [(  , _SP), (transcribed, VBN), (by, IN), (ber...  \n",
       "\n",
       "[205 rows x 8 columns]"
      ]
     },
     "execution_count": 54,
     "metadata": {},
     "output_type": "execute_result"
    }
   ],
   "source": [
    "commod_corpus = capital_corpus[capital_corpus['source-paragraph-text'] == 'Commodities']\n",
    "commod_corpus"
   ]
  },
  {
   "cell_type": "code",
   "execution_count": 55,
   "metadata": {},
   "outputs": [
    {
     "name": "stderr",
     "output_type": "stream",
     "text": [
      "C:\\Users\\super\\anaconda3\\lib\\site-packages\\ipykernel_launcher.py:1: SettingWithCopyWarning: \n",
      "A value is trying to be set on a copy of a slice from a DataFrame.\n",
      "Try using .loc[row_indexer,col_indexer] = value instead\n",
      "\n",
      "See the caveats in the documentation: https://pandas.pydata.org/pandas-docs/stable/user_guide/indexing.html#returning-a-view-versus-a-copy\n",
      "  \"\"\"Entry point for launching an IPython kernel.\n",
      "C:\\Users\\super\\anaconda3\\lib\\site-packages\\ipykernel_launcher.py:2: SettingWithCopyWarning: \n",
      "A value is trying to be set on a copy of a slice from a DataFrame.\n",
      "Try using .loc[row_indexer,col_indexer] = value instead\n",
      "\n",
      "See the caveats in the documentation: https://pandas.pydata.org/pandas-docs/stable/user_guide/indexing.html#returning-a-view-versus-a-copy\n",
      "  \n"
     ]
    }
   ],
   "source": [
    "commod_corpus['sentences'] = commod_corpus['paragraph_text'].apply(lambda x: [word_tokenize(s) for s in sent_tokenize(x)])\n",
    "commod_corpus['POS_sents'] = commod_corpus['sentences'].apply(lambda x: tag_sents_pos(x))"
   ]
  },
  {
   "cell_type": "code",
   "execution_count": 64,
   "metadata": {},
   "outputs": [
    {
     "name": "stdout",
     "output_type": "stream",
     "text": [
      "Nouns:\n",
      "[('value', 481), ('labour', 320), ('form', 246), ('commodity', 172), ('linen', 162), ('coat', 125), ('use', 83), ('relation', 75), ('production', 67), ('time', 64), ('expression', 60), ('exchange', 57), ('character', 52), ('quantity', 44), ('society', 36), ('product', 35), ('power', 34), ('hand', 32), ('equivalent', 31), ('kind', 30)]\n",
      "\n",
      "Adjectives:\n",
      "[('other', 112), ('social', 84), ('different', 79), ('same', 79), ('human', 73), ('relative', 52), ('equivalent', 44), ('useful', 41), ('such', 35), ('general', 33), ('labour', 32), ('first', 31), ('common', 31), ('own', 31), ('equal', 30), ('definite', 30), ('particular', 25), ('necessary', 23), ('much', 19), ('single', 18)]\n",
      "\n",
      "Verbs:\n",
      "[('be', 102), ('have', 22), ('express', 15), ('Let', 8), ('take', 7), ('serve', 7), ('consider', 6), ('appear', 6), ('assume', 5), ('play', 5), ('say', 5), ('show', 4), ('produce', 4), ('remain', 4), ('become', 4), ('vary', 4), ('find', 4), ('use', 3), ('think', 3), ('fall', 3)]\n",
      "\n"
     ]
    }
   ],
   "source": [
    "def get_top_twenty(type):\n",
    "    targetCounts = {}\n",
    "    for entry in commod_corpus['POS_sents']:\n",
    "        for sentence in entry:\n",
    "            for ent, kind in sentence:\n",
    "                if kind != type:\n",
    "                    continue\n",
    "                elif ent in targetCounts:\n",
    "                    targetCounts[ent] += 1\n",
    "                else:\n",
    "                    targetCounts[ent] = 1\n",
    "    sortedTargets = sorted(targetCounts.items(), key = lambda x: x[1], reverse = True)\n",
    "    return sortedTargets[:20]\n",
    "\n",
    "print(\"Nouns:\",get_top_twenty(\"NN\"),'',sep = \"\\n\")\n",
    "print(\"Adjectives:\",get_top_twenty(\"JJ\"),'',sep = \"\\n\")\n",
    "print(\"Verbs:\",get_top_twenty(\"VB\"),'',sep = \"\\n\")"
   ]
  },
  {
   "cell_type": "markdown",
   "metadata": {},
   "source": [
    "**Comment:** The most frequently used noun in this sample text, \"value,\" was more frequently used than the top twently most frequently used verbs combined. Sociology students attempting to read Capital in English for the first time will understand instantly: Marx's long, complicated sentences tend to emphasize noun vocabulary and consist of clauses mashed together which minimize the need for verbs. In other words, it makes for sentences you need to read twice."
   ]
  },
  {
   "cell_type": "code",
   "execution_count": 99,
   "metadata": {},
   "outputs": [
    {
     "name": "stdout",
     "output_type": "stream",
     "text": [
      "{'total', 'relative', 'elementary', 'great', 'Relative', 'own', 'express', 'equal', 'opposite', 'same', 'general', 'former', 'full'}\n"
     ]
    }
   ],
   "source": [
    "NTarget = 'JJ'\n",
    "Word = 'value'\n",
    "NResults = set()\n",
    "for entry in commod_corpus['POS_sents']:\n",
    "    for sentence in entry:\n",
    "        for (ent1, kind1),(ent2,kind2) in zip(sentence[:-1], sentence[1:]):\n",
    "            if (kind1,ent2.lower())==(NTarget,Word):\n",
    "                NResults.add(ent1)\n",
    "            else:\n",
    "                continue\n",
    "\n",
    "print(NResults)     "
   ]
  },
  {
   "cell_type": "markdown",
   "metadata": {},
   "source": [
    "**Comment:** The above list shows that, in this selection, we do not yet see the famous bigrams associated with \"value\" which fans of the earlier WordCloud will be familiar with (\"use value,\" \"surplus value,\" \"exchange value.\") Interestingly, although \"value\" as a general word in modern usage might tend to be associated with words which emphasize its scalar nature - more value, less value, high value, low value, etc. - Marx eschews this kind of vocabulary in favor of speaking about \"value\" as binary trait. In other words, there is \"total\" or \"full\" value, or \"equal\" and \"opposite\" value."
   ]
  },
  {
   "cell_type": "code",
   "execution_count": 65,
   "metadata": {},
   "outputs": [
    {
     "name": "stdout",
     "output_type": "stream",
     "text": [
      "{'equivalent', 'new', 'particular', 'material', 'individual', 'first', 'same', 'simple', 'third', 'other', 'different', 'single', 'second'}\n"
     ]
    }
   ],
   "source": [
    "NTarget = 'JJ'\n",
    "Word = 'commodity'\n",
    "NResults = set()\n",
    "for entry in commod_corpus['POS_sents']:\n",
    "    for sentence in entry:\n",
    "        for (ent1, kind1),(ent2,kind2) in zip(sentence[:-1], sentence[1:]):\n",
    "            if (kind1,ent2.lower())==(NTarget,Word):\n",
    "                NResults.add(ent1)\n",
    "            else:\n",
    "                continue\n",
    "\n",
    "print(NResults)   "
   ]
  },
  {
   "cell_type": "markdown",
   "metadata": {},
   "source": [
    "**Comment:** Despite being the subject of this section, notice that the above list of adjectives describing the \"commodity\" are rather plain and generally unrevealing. This can perhaps be used to showcase the fact that, whereas other terms (like \"labour\" or \"value\") are the subject of many technical and specific modifiers, Marx tends to view the \"commodity\" as a unified concept and generally eschew descriptive/modifying labels."
   ]
  },
  {
   "cell_type": "markdown",
   "metadata": {},
   "source": [
    "# Collocations"
   ]
  },
  {
   "cell_type": "markdown",
   "metadata": {},
   "source": [
    "As illustrated above, we might want to find significant bigrams (two-word phrases), trigrams (three-word phrases), n-grams (*n*-word phrases) or skip-grams (noncontinguous 'phrases' with skip-length *n*). \n",
    "\n",
    "We will begin with the [`nltk.collocations.BigramCollocationFinder`](http://www.nltk.org/api/nltk.html?highlight=bigramcollocationfinder#nltk.collocations.BigramCollocationFinder) class, which can be given raw lists of strings with the `from_words()` method. By default it only looks at continuous bigrams but there is an option (`window_size`) to allow skip-grams."
   ]
  },
  {
   "cell_type": "code",
   "execution_count": null,
   "metadata": {},
   "outputs": [],
   "source": [
    "whBigrams = nltk.collocations.BigramCollocationFinder.from_words(whReleases['normalized_tokens'].sum())\n",
    "print(\"There are {} bigrams in the finder\".format(whBigrams.N))"
   ]
  },
  {
   "cell_type": "markdown",
   "metadata": {},
   "source": [
    "To compare the bigrams we need to tell nltk what our score function is. Initially, we will look at the raw counts."
   ]
  },
  {
   "cell_type": "code",
   "execution_count": null,
   "metadata": {},
   "outputs": [],
   "source": [
    "def bigramScoring(count, wordsTuple, total):\n",
    "    return count\n",
    "\n",
    "print(whBigrams.nbest(bigramScoring, 10))"
   ]
  },
  {
   "cell_type": "markdown",
   "metadata": {},
   "source": [
    "One note about how `BigramCollocationFinder` works. It doesn't use the strings internally."
   ]
  },
  {
   "cell_type": "code",
   "execution_count": null,
   "metadata": {},
   "outputs": [],
   "source": [
    "birgramScores = []\n",
    "\n",
    "def bigramPrinting(count, wordsTuple, total):\n",
    "    global birgramScores\n",
    "    birgramScores.append(\"The first word is:  {}, The second word is: {}\".format(*wordsTuple))\n",
    "    #Returns None so all the tuples are considered to have the same rank\n",
    "\n",
    "whBigrams.nbest(bigramPrinting, 10)\n",
    "print('\\n'.join(birgramScores[:10]))"
   ]
  },
  {
   "cell_type": "markdown",
   "metadata": {},
   "source": [
    "The words are each given numeric IDs and there is a dictionary that maps the IDs to the words they represent. This is a common performance optimization.\n",
    "\n",
    "Two words can appear together by chance. Recall from  Manning and Schütze's textbook that a t-value can be computed for each bigram to see how significant the association is. You may also want to try computing the $\\chi^2$, likelihood ratio, and pointwise mutual information statistics. "
   ]
  },
  {
   "cell_type": "code",
   "execution_count": null,
   "metadata": {},
   "outputs": [],
   "source": [
    "bigram_measures = nltk.collocations.BigramAssocMeasures()\n",
    "whBigrams.score_ngrams(bigram_measures.likelihood_ratio)[:40]\n",
    "# other options include student_t, chi_sq, likelihood_ratio, pmi"
   ]
  },
  {
   "cell_type": "markdown",
   "metadata": {},
   "source": [
    "There are a few other available measures"
   ]
  },
  {
   "cell_type": "code",
   "execution_count": null,
   "metadata": {},
   "outputs": [],
   "source": [
    "[s for s in dir(bigram_measures) if s[0] != '_']"
   ]
  },
  {
   "cell_type": "markdown",
   "metadata": {},
   "source": [
    "We can also look at trigrams"
   ]
  },
  {
   "cell_type": "code",
   "execution_count": null,
   "metadata": {},
   "outputs": [],
   "source": [
    "trigram_measures = nltk.collocations.TrigramAssocMeasures()\n",
    "whTrigrams = nltk.collocations.TrigramCollocationFinder.from_words(whReleases['normalized_tokens'].sum())\n",
    "whTrigrams.score_ngrams(trigram_measures.student_t)[:20]"
   ]
  },
  {
   "cell_type": "markdown",
   "metadata": {},
   "source": [
    "Or n-grams (for any number n)"
   ]
  },
  {
   "cell_type": "code",
   "execution_count": null,
   "metadata": {},
   "outputs": [],
   "source": [
    "Ngrams = nltk.ngrams(whReleases['normalized_tokens'].sum(), 4)\n",
    "Counts = {}\n",
    "for ngram in list(Ngrams):\n",
    "    if ngram in Counts.keys():\n",
    "        Counts[ngram] += 1\n",
    "    else:\n",
    "        Counts[ngram] = 1\n",
    "Filtered = {}\n",
    "for key in Counts.keys():\n",
    "    if Counts[key] < 2:\n",
    "        pass\n",
    "    else:\n",
    "        Filtered[key] = Counts[key]\n",
    "print(Filtered)"
   ]
  },
  {
   "cell_type": "markdown",
   "metadata": {},
   "source": [
    "Gensim is another important python text processing package which allows us to use collocations, among other cool methods (which we will explore later weeks)."
   ]
  },
  {
   "cell_type": "code",
   "execution_count": null,
   "metadata": {},
   "outputs": [],
   "source": [
    "import gensim"
   ]
  },
  {
   "cell_type": "code",
   "execution_count": null,
   "metadata": {},
   "outputs": [],
   "source": [
    "bigram = gensim.models.Phrases(whReleases['normalized_tokens'])"
   ]
  },
  {
   "cell_type": "code",
   "execution_count": null,
   "metadata": {},
   "outputs": [],
   "source": [
    "texts = [bigram[line] for line in whReleases['normalized_tokens']]"
   ]
  },
  {
   "cell_type": "code",
   "execution_count": null,
   "metadata": {},
   "outputs": [],
   "source": [
    "texts[0]"
   ]
  },
  {
   "cell_type": "markdown",
   "metadata": {},
   "source": [
    "## <span style=\"color:red\">*Exercise 3*</span>\n",
    "\n",
    "<span style=\"color:red\">Construct cells immediately below this that identify statistically significant bigrams, trigrams, quadgrams, higher-order *n*grams and skipgrams. Explore whether these collocations are idiomatic and so irreducible to the semantic sum of their component words. You can do this by examination of conditional frequencies (e.g., what else is 'united' besides the 'United States'). If these phrases are idiomatic, what do they suggest about the culture of the world producing them?\n",
    "\n",
    "<span style=\"color:red\">**Stretch**: In Manning and Schütze's textbook, there Section 5.3.2 explores how to use the *t*-test to find words whose co-occurance patterns best distinguish two words. Implement that and use it to explore phrases in your corpus. For instance, you could tell what words come after \"America\" much more often than after \"Iraq\"?</span> "
   ]
  },
  {
   "cell_type": "code",
   "execution_count": 66,
   "metadata": {},
   "outputs": [],
   "source": [
    "def bigramScoring(count, wordsTuple, total):\n",
    "    return count"
   ]
  },
  {
   "cell_type": "code",
   "execution_count": 67,
   "metadata": {},
   "outputs": [
    {
     "name": "stdout",
     "output_type": "stream",
     "text": [
      "There are 141988 bigrams in the finder\n",
      "[('labour', 'power'), ('surplus', 'value'), ('use', 'value'), ('work', 'day'), ('value', 'commodity'), ('mean', 'production'), ('value', 'labour'), ('human', 'labour'), ('value', 'form'), ('labour', 'time')]\n"
     ]
    }
   ],
   "source": [
    "capital_bigrams = nltk.collocations.BigramCollocationFinder.from_words(capital_corpus['normalized_tokens'].sum())\n",
    "print(\"There are {} bigrams in the finder\".format(capital_bigrams.N))\n",
    "print(capital_bigrams.nbest(bigramScoring, 10))"
   ]
  },
  {
   "cell_type": "code",
   "execution_count": 68,
   "metadata": {},
   "outputs": [
    {
     "data": {
      "text/plain": [
       "[(('labour', 'power'), 23.734742623344122),\n",
       " (('surplus', 'value'), 20.894433495245472),\n",
       " (('use', 'value'), 17.770154052582708),\n",
       " (('work', 'day'), 17.479428389944847),\n",
       " (('mean', 'production'), 14.471009141918449),\n",
       " (('human', 'labour'), 13.816081545124343),\n",
       " (('yard', 'linen'), 12.714449517026464),\n",
       " (('value', 'commodity'), 12.441612978380972),\n",
       " (('division', 'labour'), 11.886954348751896),\n",
       " (('relative', 'value'), 11.511596996153395),\n",
       " (('l.', 'c.'), 11.446081568092618),\n",
       " (('labour', 'time'), 11.011831881101736),\n",
       " (('exchange', 'value'), 10.98598688616775),\n",
       " (('value', 'form'), 10.914171174809889),\n",
       " (('mode', 'production'), 10.618752793025521),\n",
       " (('l.c', 'p.'), 10.420405047356478),\n",
       " (('equivalent', 'form'), 10.191905851364002),\n",
       " (('political', 'economy'), 9.982895033383103),\n",
       " (('raw', 'material'), 9.927506850598139),\n",
       " (('capitalist', 'production'), 9.91960027838086),\n",
       " (('labour', 'process'), 9.660218190111703),\n",
       " (('expression', 'value'), 9.611967556785071),\n",
       " (('mean', 'subsistence'), 9.593763326655521),\n",
       " (('c.', 'p.'), 9.552837699723886),\n",
       " (('variable', 'capital'), 9.515593930933935),\n",
       " (('surplus', 'labour'), 9.33560976973546),\n",
       " (('process', 'production'), 9.232306869924871),\n",
       " (('linen', '='), 9.180853208420363),\n",
       " (('price', 'labour'), 9.030085315318525),\n",
       " (('value', 'labour'), 9.000341156545703),\n",
       " (('instrument', 'labour'), 8.934499810225978),\n",
       " (('productive', 'power'), 8.583417574110195),\n",
       " (('productiveness', 'labour'), 8.512125538036742),\n",
       " (('take', 'place'), 8.41526441653727),\n",
       " (('factory', 'act'), 8.388768081429353),\n",
       " (('agricultural', 'labourer'), 8.185117139774416),\n",
       " (('form', 'commodity'), 8.064756026175283),\n",
       " (('co', 'operation'), 8.047870250209385),\n",
       " (('modern', 'industry'), 8.019477872377326),\n",
       " (('necessary', 'labour'), 7.9269515733723965)]"
      ]
     },
     "execution_count": 68,
     "metadata": {},
     "output_type": "execute_result"
    }
   ],
   "source": [
    "bigram_measures = nltk.collocations.BigramAssocMeasures()\n",
    "capital_bigrams.score_ngrams(bigram_measures.student_t)[:40]\n",
    "# other options include student_t, chi_sq, likelihood_ratio, pmi"
   ]
  },
  {
   "cell_type": "markdown",
   "metadata": {},
   "source": [
    "**Comment:** Nothing surprising about our bigrams. As I mentioned in a previous comment, fans of our WordCloud will quickly recognize Marx's most famous bigrams here (\"labour power,\" \"surplus value,\" \"use value\" being the top three.) Let's try tri-grams."
   ]
  },
  {
   "cell_type": "code",
   "execution_count": 70,
   "metadata": {},
   "outputs": [
    {
     "name": "stdout",
     "output_type": "stream",
     "text": [
      "{('capitalist', 'mode', 'production'): 42, ('use', 'value', 'commodity'): 30, ('human', 'labour', 'power'): 32, ('necessary', 'labour', 'time'): 36, ('yard', 'linen', '='): 79, ('abstract', 'human', 'labour'): 30, ('linen', '=', 'coat'): 63, ('relative', 'value', 'form'): 60, ('productive', 'power', 'labour'): 31, ('html', 'markup', 'stephen'): 33, ('markup', 'stephen', 'baird'): 33, ('stephen', 'baird', 'chapter'): 30, ('l.', 'c.', 'p.'): 79, ('value', 'labour', 'power'): 156, ('price', 'labour', 'power'): 31, ('production', 'surplus', 'value'): 31, ('rate', 'surplus', 'value'): 61, ('work', 'day', 'hour'): 43, ('insp', 'fact', '31st'): 34, ('fact', '31st', 'oct'): 30, ('rep', 'insp', 'fact'): 32}\n"
     ]
    }
   ],
   "source": [
    "Ngrams = nltk.ngrams(capital_corpus['normalized_tokens'].sum(), 3)\n",
    "Counts = {}\n",
    "for ngram in list(Ngrams):\n",
    "    if ngram in Counts.keys():\n",
    "        Counts[ngram] += 1\n",
    "    else:\n",
    "        Counts[ngram] = 1\n",
    "Filtered = {}\n",
    "for key in Counts.keys():\n",
    "    if Counts[key] < 30:\n",
    "        pass\n",
    "    else:\n",
    "        Filtered[key] = Counts[key]\n",
    "print(Filtered)"
   ]
  },
  {
   "cell_type": "markdown",
   "metadata": {},
   "source": [
    "**Comment:** Many of this tri-grams will strike readers of Marx as pretty clearly non-idiomatic. For instance, \"capitalist mode (of) production\" and \"use value (of a) commodity\" are generally reducible to constituitive words and bigrams. But what about \"necessary labor time\"?"
   ]
  },
  {
   "cell_type": "code",
   "execution_count": 72,
   "metadata": {},
   "outputs": [
    {
     "name": "stdout",
     "output_type": "stream",
     "text": [
      "{'first', 'same', 'labour'}\n",
      "{'concrete', 'wage', 'Human', 'case', 'human', 'slave', 'time', 'one', 'value'}\n",
      "{'much', 'private', 'useful', 'concrete', 'average', 'Human', 'common', 'simple', 'opposite', 'individual', 'abstract', 'personal', 'particular', 'collective', 'productive', 'uniform', 'own', 'identical', 'undifferentiated', 'Useful', 'human', 'total', 'latter', 'whole', 'Compulsory', 'same', 'actual', 'aggregate', 'other', 'unskilled', 'social'}\n",
      "{'time', 'labour'}\n"
     ]
    }
   ],
   "source": [
    "NTarget = 'JJ'\n",
    "Word = 'time'\n",
    "NResults = set()\n",
    "for entry in commod_corpus['POS_sents']:\n",
    "    for sentence in entry:\n",
    "        for (ent1, kind1),(ent2,kind2) in zip(sentence[:-1], sentence[1:]):\n",
    "            if (kind1,ent2.lower())==(NTarget,Word):\n",
    "                NResults.add(ent1)\n",
    "            else:\n",
    "                continue\n",
    "\n",
    "print(NResults)  \n",
    "\n",
    "NTarget = 'NN'\n",
    "Word = 'labour'\n",
    "NResults = set()\n",
    "for entry in commod_corpus['POS_sents']:\n",
    "    for sentence in entry:\n",
    "        for (ent1, kind1),(ent2,kind2) in zip(sentence[:-1], sentence[1:]):\n",
    "            if (kind1,ent2.lower())==(NTarget,Word):\n",
    "                NResults.add(ent1)\n",
    "            else:\n",
    "                continue\n",
    "\n",
    "print(NResults)\n",
    "\n",
    "NTarget = 'JJ'\n",
    "Word = 'labour'\n",
    "NResults = set()\n",
    "for entry in commod_corpus['POS_sents']:\n",
    "    for sentence in entry:\n",
    "        for (ent1, kind1),(ent2,kind2) in zip(sentence[:-1], sentence[1:]):\n",
    "            if (kind1,ent2.lower())==(NTarget,Word):\n",
    "                NResults.add(ent1)\n",
    "            else:\n",
    "                continue\n",
    "\n",
    "print(NResults)  \n",
    "\n",
    "NTarget = 'NN'\n",
    "Word = 'necessary'\n",
    "NResults = set()\n",
    "for entry in commod_corpus['POS_sents']:\n",
    "    for sentence in entry:\n",
    "        for (ent1, kind1),(ent2,kind2) in zip(sentence[:-1], sentence[1:]):\n",
    "            if (kind1,ent2.lower())==(NTarget,Word):\n",
    "                NResults.add(ent1)\n",
    "            else:\n",
    "                continue\n",
    "\n",
    "print(NResults) "
   ]
  },
  {
   "cell_type": "markdown",
   "metadata": {},
   "source": [
    "**Comment:** The above cell gives us a fairly clear answer to our question. What adjectives describe \"time\" in this text? Only three, one of which is \"labour.\" In turn, \"labour\" is only used to describe 9 nouns (one of which, \"Human,\" is likely mistaken and instead the first word of the next sentence.) Meanwhile, when labour is a noun there are 31 adjectives used to describe it. Finally, \"necessary\" is only connected with two other words - \"time\" and \"labor\"! Overall, this is somewhat persuasive evidence that \"necessary labour time\" is an idiomatic phrase. (Hence, \"necessary labour time\" is Marx's label for a phenomena that doesn't follow immediately from the individual words' meanings.)"
   ]
  },
  {
   "cell_type": "markdown",
   "metadata": {},
   "source": [
    "# Named-Entity Recognition\n",
    "\n",
    "Named Entity Recognition (NER) is also a classification task, which identifies named objects. \n",
    "Like every other part of the pipeline, spaCy also tags words with their tagged entity (https://spacy.io/api/entityrecognizer). You can see the full capacity of what spaCy does by checking out: https://spacy.io/usage/linguistic-features.\n",
    "\n",
    "For training the identification of such entities, spaCy uses a deep learning model."
   ]
  },
  {
   "cell_type": "markdown",
   "metadata": {},
   "source": [
    "Let's try it on a basic sentence:"
   ]
  },
  {
   "cell_type": "code",
   "execution_count": null,
   "metadata": {},
   "outputs": [],
   "source": [
    "sent = nlp(u\"Tom went to IKEA to get some of those delicious Swedish meatballs.\")"
   ]
  },
  {
   "cell_type": "code",
   "execution_count": null,
   "metadata": {},
   "outputs": [],
   "source": [
    "for token in sent:\n",
    "    print(token.text, token.ent_type_)"
   ]
  },
  {
   "cell_type": "markdown",
   "metadata": {},
   "source": [
    "For only finding ents-"
   ]
  },
  {
   "cell_type": "code",
   "execution_count": null,
   "metadata": {},
   "outputs": [],
   "source": [
    "for ent in sent.ents:\n",
    "    print(ent.text, ent.label_)"
   ]
  },
  {
   "cell_type": "code",
   "execution_count": null,
   "metadata": {},
   "outputs": [],
   "source": [
    "def tag_sents_ner(sentences):\n",
    "    \"\"\"\n",
    "    function which replicates NLTK ner tagging on sentences.\n",
    "    \"\"\"\n",
    "    new_sents = []\n",
    "    for sentence in sentences:\n",
    "        new_sent = ' '.join(sentence)\n",
    "        new_sents.append(new_sent)\n",
    "    final_string = ' '.join(new_sents)\n",
    "    doc = nlp(final_string)\n",
    "    \n",
    "    pos_sents = []\n",
    "    for sent in doc.sents:\n",
    "        pos_sent = []\n",
    "        for ent in sent.ents:\n",
    "            pos_sent.append((ent.text, ent.label_))\n",
    "        pos_sents.append(pos_sent)\n",
    "    \n",
    "    return pos_sents"
   ]
  },
  {
   "cell_type": "markdown",
   "metadata": {},
   "source": [
    "We can also run NER over our entire corpus:"
   ]
  },
  {
   "cell_type": "code",
   "execution_count": null,
   "metadata": {},
   "outputs": [],
   "source": [
    "redditTopScores['classified_sents'] = redditTopScores['sentences'].apply(lambda x: tag_sents_ner(x))"
   ]
  },
  {
   "cell_type": "code",
   "execution_count": null,
   "metadata": {},
   "outputs": [],
   "source": [
    "redditTopScores['classified_sents']"
   ]
  },
  {
   "cell_type": "markdown",
   "metadata": {},
   "source": [
    "Find the most common entities (which are, of course, boring):"
   ]
  },
  {
   "cell_type": "code",
   "execution_count": null,
   "metadata": {},
   "outputs": [],
   "source": [
    "entityCounts = {}\n",
    "for entry in redditTopScores['classified_sents']:\n",
    "    for sentence in entry:\n",
    "        for ent, kind in sentence:\n",
    "            if ent in entityCounts:\n",
    "                entityCounts[ent] += 1\n",
    "            else:\n",
    "                entityCounts[ent] = 1\n",
    "sortedEntities = sorted(entityCounts.items(), key = lambda x: x[1], reverse = True)\n",
    "sortedEntities[:10]"
   ]
  },
  {
   "cell_type": "markdown",
   "metadata": {},
   "source": [
    "Or those occurring only twice:"
   ]
  },
  {
   "cell_type": "code",
   "execution_count": null,
   "metadata": {},
   "outputs": [],
   "source": [
    "[x[0] for x in sortedEntities if x[1] == 2]"
   ]
  },
  {
   "cell_type": "markdown",
   "metadata": {},
   "source": [
    "We could also list the most common \"non-objects\". (We note that we're not graphing these because there are so few here.)"
   ]
  },
  {
   "cell_type": "code",
   "execution_count": null,
   "metadata": {},
   "outputs": [],
   "source": [
    "nonObjCounts = {}\n",
    "for entry in redditTopScores['classified_sents']:\n",
    "    for sentence in entry:\n",
    "        for ent, kind in sentence:\n",
    "            if kind == 'ORG':\n",
    "                continue\n",
    "            elif ent in nonObjCounts:\n",
    "                nonObjCounts[ent] += 1\n",
    "            else:\n",
    "                nonObjCounts[ent] = 1\n",
    "sortedNonObj = sorted(nonObjCounts.items(), key = lambda x: x[1], reverse = True)\n",
    "sortedNonObj[:10]"
   ]
  },
  {
   "cell_type": "markdown",
   "metadata": {},
   "source": [
    "What about the Organizations?"
   ]
  },
  {
   "cell_type": "code",
   "execution_count": null,
   "metadata": {},
   "outputs": [],
   "source": [
    "OrgCounts = {}\n",
    "for entry in redditTopScores['classified_sents']:\n",
    "    for sentence in entry:\n",
    "        for ent, kind in sentence:\n",
    "            if kind == 'ORG':\n",
    "                print(ent)"
   ]
  },
  {
   "cell_type": "markdown",
   "metadata": {},
   "source": [
    "These, of course, have much smaller counts.\n",
    "\n",
    "In this particular example we didn't find the most interesting entities - you can remedy that in exercise 4!"
   ]
  },
  {
   "cell_type": "markdown",
   "metadata": {},
   "source": [
    "## <span style=\"color:red\">*Exercise 4*</span>\n",
    "\n",
    "<span style=\"color:red\">In the cells immediately following, perform NER on a (modest) subset of your corpus of interest. List all of the different kinds of entities tagged? What does their distribution suggest about the focus of your corpus? For a subset of your corpus, tally at least one type of named entity and calculate the Precision, Recall and F-score for the NER classification just performed."
   ]
  },
  {
   "cell_type": "code",
   "execution_count": 73,
   "metadata": {},
   "outputs": [],
   "source": [
    "def tag_sents_ner(sentences):\n",
    "    \"\"\"\n",
    "    function which replicates NLTK ner tagging on sentences.\n",
    "    \"\"\"\n",
    "    new_sents = []\n",
    "    for sentence in sentences:\n",
    "        new_sent = ' '.join(sentence)\n",
    "        new_sents.append(new_sent)\n",
    "    final_string = ' '.join(new_sents)\n",
    "    doc = nlp(final_string)\n",
    "    \n",
    "    pos_sents = []\n",
    "    for sent in doc.sents:\n",
    "        pos_sent = []\n",
    "        for ent in sent.ents:\n",
    "            pos_sent.append((ent.text, ent.label_))\n",
    "        pos_sents.append(pos_sent)\n",
    "    \n",
    "    return pos_sents"
   ]
  },
  {
   "cell_type": "markdown",
   "metadata": {},
   "source": [
    "**Comment:** First, we will run NER on the entire Commodities section of *Capital.*"
   ]
  },
  {
   "cell_type": "code",
   "execution_count": 74,
   "metadata": {},
   "outputs": [
    {
     "name": "stderr",
     "output_type": "stream",
     "text": [
      "C:\\Users\\super\\anaconda3\\lib\\site-packages\\ipykernel_launcher.py:1: SettingWithCopyWarning: \n",
      "A value is trying to be set on a copy of a slice from a DataFrame.\n",
      "Try using .loc[row_indexer,col_indexer] = value instead\n",
      "\n",
      "See the caveats in the documentation: https://pandas.pydata.org/pandas-docs/stable/user_guide/indexing.html#returning-a-view-versus-a-copy\n",
      "  \"\"\"Entry point for launching an IPython kernel.\n"
     ]
    }
   ],
   "source": [
    "commod_corpus['classified_sents'] = commod_corpus['sentences'].apply(lambda x: tag_sents_ner(x))"
   ]
  },
  {
   "cell_type": "code",
   "execution_count": 75,
   "metadata": {},
   "outputs": [
    {
     "data": {
      "text/plain": [
       "[('one', 48),\n",
       " ('two', 42),\n",
       " ('first', 36),\n",
       " ('20 yards', 33),\n",
       " ('1', 32),\n",
       " ('Nature', 12),\n",
       " ('10', 10),\n",
       " ('second', 8),\n",
       " ('2', 7),\n",
       " ('Ricardo', 7)]"
      ]
     },
     "execution_count": 75,
     "metadata": {},
     "output_type": "execute_result"
    }
   ],
   "source": [
    "entityCounts = {}\n",
    "for entry in commod_corpus['classified_sents']:\n",
    "    for sentence in entry:\n",
    "        for ent, kind in sentence:\n",
    "            if ent in entityCounts:\n",
    "                entityCounts[ent] += 1\n",
    "            else:\n",
    "                entityCounts[ent] = 1\n",
    "sortedEntities = sorted(entityCounts.items(), key = lambda x: x[1], reverse = True)\n",
    "sortedEntities[:10]"
   ]
  },
  {
   "cell_type": "markdown",
   "metadata": {},
   "source": [
    "**Comment:** The most frequent entity counts (numerals, ordinals, and other numbers) provide strong evidence for the focus of this corpus: technical evaluation of the value of commodities, and the equivalence and exchange of value."
   ]
  },
  {
   "cell_type": "code",
   "execution_count": 76,
   "metadata": {},
   "outputs": [
    {
     "data": {
      "text/plain": [
       "[('one', 48),\n",
       " ('two', 42),\n",
       " ('first', 36),\n",
       " ('20 yards', 33),\n",
       " ('1', 32),\n",
       " ('10', 10),\n",
       " ('second', 8),\n",
       " ('2', 7),\n",
       " ('Ricardo', 7),\n",
       " ('one half', 6)]"
      ]
     },
     "execution_count": 76,
     "metadata": {},
     "output_type": "execute_result"
    }
   ],
   "source": [
    "nonObjCounts = {}\n",
    "for entry in commod_corpus['classified_sents']:\n",
    "    for sentence in entry:\n",
    "        for ent, kind in sentence:\n",
    "            if kind == 'ORG':\n",
    "                continue\n",
    "            elif ent in nonObjCounts:\n",
    "                nonObjCounts[ent] += 1\n",
    "            else:\n",
    "                nonObjCounts[ent] = 1\n",
    "sortedNonObj = sorted(nonObjCounts.items(), key = lambda x: x[1], reverse = True)\n",
    "sortedNonObj[:10]"
   ]
  },
  {
   "cell_type": "code",
   "execution_count": 77,
   "metadata": {},
   "outputs": [
    {
     "name": "stdout",
     "output_type": "stream",
     "text": [
      "Accidental Form of Value\n",
      "the Expression of Value Relative Form and Equivalent Form 2\n",
      "The Expanded Relative Form of Value 2\n",
      "The Interdependent Development of the Relative Form of Value\n",
      "the General Form of Value\n",
      "Eschwege\n",
      "Nature\n",
      "Nature\n",
      "Productive\n",
      "bien une messe\n",
      "b. Quantitative\n",
      "I.\n",
      "II\n",
      "III\n",
      "II\n",
      "Bailey\n",
      "Nature\n",
      "Nature\n",
      "Nature\n",
      "adunaton\n",
      "Aristotle\n",
      "Aristotle\n",
      "Bastiat\n",
      "Robinson\n",
      "Labour\n",
      "Christianity\n",
      "Nature\n",
      "Nature\n",
      "Nature\n",
      "telle\n",
      "Butler\n",
      "Capital\n",
      "Accostare\n",
      "Custodi\n",
      "Wealth of Nations b. I. ch\n",
      "Franklin\n",
      "Sparks Boston 1836\n",
      "Franklin\n",
      "Du\n",
      "II\n",
      "nec\n",
      "Custodi\n",
      "Scrittori Classici Italiani\n",
      "the London Exchange\n",
      "Romans Teutons\n",
      "Celts\n",
      "Destutt de Tracy\n",
      "Riches Their Distinctive Properties\n",
      "eux\n",
      "Aristotle\n",
      "Bastiat\n",
      "Observations\n",
      "Bailey\n",
      "Engels\n",
      "Transcribed\n"
     ]
    }
   ],
   "source": [
    "OrgCounts = {}\n",
    "for entry in commod_corpus['classified_sents']:\n",
    "    for sentence in entry:\n",
    "        for ent, kind in sentence:\n",
    "            if kind == 'ORG':\n",
    "                print(ent)"
   ]
  },
  {
   "cell_type": "markdown",
   "metadata": {},
   "source": [
    "**Comment:** Entity recognition was a bit of a mixed bag on the corpus as a whole. The most frequent entities detected were numerals, like \"one\" and \"two.\" While I guess that this behavior is technically correct for the model, it is not particularly insightful in this case. The most interesting list is the Organization counts. While this list accurately captures some organizations (\"the London Exchange,\" \"Romans Teutons,\" and the \"Celts,\") it is also filled with many false positives: names of persons (11), random capitalized n-grams (16), foreign words, and other errors. Let us now concentrate on a specific example passage and see how it does in more detail."
   ]
  },
  {
   "cell_type": "code",
   "execution_count": 181,
   "metadata": {},
   "outputs": [
    {
     "data": {
      "text/plain": [
       "' 33.  It is one of the chief failings of classical economy that it has never succeeded, by means of its analysis of commodities, and, in particular, of their value, in discovering that form under which value becomes exchange value. Even Adam Smith and Ricardo, the best representatives of the school, treat the form of value as a thing of no importance, as having no connection with the inherent nature of commodities. The reason for this is not solely because their attention is entirely absorbed in the analysis of the magnitude of value. It lies deeper. The value form of the product of labour is not only the most abstract, but is also the most universal form, taken by the product in bourgeois production, and stamps that production as a particular species of social production, and thereby gives it its special historical character. If then we treat this mode of production as one eternally fixed by Nature for every state of society, we necessarily overlook that which is the differentia specifica of the value form, and consequently of the commodity form, and of its further developments, money form, capital form, &c. We consequently find that economists, who are thoroughly agreed as to labour time being the measure of the magnitude of value, have the most strange and contradictory ideas of money, the perfected form of the general equivalent. This is seen in a striking manner when they treat of banking, where the commonplace definitions of money will no longer hold water. This led to the rise of a restored mercantile system (Ganilh, &c.), which sees in value nothing but a social form, or rather the unsubstantial ghost of that form. Once for all I may here state, that by classical Political Economy, I understand that economy which, since the time of W. Petty, has investigated the real relations of production in bourgeois society in contradistinction to vulgar economy, which deals with appearances only, ruminates without ceasing on the materials long since provided by scientific economy, and there seeks plausible explanations of the most obtrusive phenomena, for bourgeois daily use, but for the rest, confines itself to systematising in a pedantic way, and proclaiming for everlasting truths, the trite ideas held by the self-complacent bourgeoisie with regard to their own world, to them the best of all possible worlds.  '"
      ]
     },
     "execution_count": 181,
     "metadata": {},
     "output_type": "execute_result"
    }
   ],
   "source": [
    "example_passage = commod_corpus.iloc[198:199]\n",
    "example_passage.iloc[0,2]"
   ]
  },
  {
   "cell_type": "code",
   "execution_count": 182,
   "metadata": {},
   "outputs": [
    {
     "name": "stdout",
     "output_type": "stream",
     "text": [
      "[[('33', 'CARDINAL')], [], [('Adam Smith', 'PERSON'), ('Ricardo', 'PERSON')], [], [], [('Nature', 'WORK_OF_ART')], [], [('Ganilh c.', 'PERSON')], [('W. Petty', 'GPE'), ('daily', 'DATE')]]\n"
     ]
    },
    {
     "data": {
      "text/plain": [
       "[('33', 1),\n",
       " ('Adam Smith', 1),\n",
       " ('Ricardo', 1),\n",
       " ('Nature', 1),\n",
       " ('Ganilh c.', 1),\n",
       " ('W. Petty', 1),\n",
       " ('daily', 1)]"
      ]
     },
     "execution_count": 182,
     "metadata": {},
     "output_type": "execute_result"
    }
   ],
   "source": [
    "print(example_passage.iloc[0,10])\n",
    "\n",
    "entityCounts = {}\n",
    "for entry in example_passage['classified_sents']:\n",
    "    for sentence in entry:\n",
    "        for ent, kind in sentence:\n",
    "            if ent in entityCounts:\n",
    "                entityCounts[ent] += 1\n",
    "            else:\n",
    "                entityCounts[ent] = 1\n",
    "sortedEntities = sorted(entityCounts.items(), key = lambda x: x[1], reverse = True)\n",
    "sortedEntities"
   ]
  },
  {
   "cell_type": "markdown",
   "metadata": {},
   "source": [
    "**Comment:** The NER did better on this smaller selection of text. False positives: \"Nature\", \"W. Petty\" (a person mis-tagged as a place) (2)\n",
    "False negatives: 0 (!!)\n",
    "\n",
    "Thus:\n",
    "\n",
    "Precision = 6/(6+1) = 6/7\n",
    "\n",
    "Recall = 6/(6+0) = 1\n",
    "\n",
    "F-Score = 2*(6/7*1)/(6/7+1) = 0.9230769231"
   ]
  },
  {
   "cell_type": "markdown",
   "metadata": {},
   "source": [
    "## Dependency parsing and graph representations\n",
    "\n",
    "Dependency parsing was developed to robustly capture linguistic dependencies from text. The complex tags associated with these parses are detailed [here]('http://universaldependencies.org/u/overview/syntax.html'). When parsing with the dependency parser, we will work directly from the untokenized text. Note that no *processing* takes place before parsing sentences--we do not remove so-called stop words or anything that plays a syntactic role in the sentence, although anaphora resolution and related normalization may be performed before or after parsing to enhance the value of information extraction. "
   ]
  },
  {
   "cell_type": "markdown",
   "metadata": {},
   "source": [
    "We will be using spaCy's built in dependancy parser to go about exploring the tree.\n",
    "Note that unlike previous examples, large corpuses or collections of sentences don't give us as much information, so we will be navigating smaller sentences.\n",
    "\n",
    "Let us start by exploring noun chunks. Noun chunks are “base noun phrases” – flat phrases that have a noun as their head. You can think of noun chunks as a noun plus the words describing the noun – for example, “the lavish green grass” or “the world’s largest tech fund”. To get the noun chunks in a document, simply iterate over the sentences noun chunks."
   ]
  },
  {
   "cell_type": "code",
   "execution_count": 183,
   "metadata": {},
   "outputs": [],
   "source": [
    "from spacy import displacy"
   ]
  },
  {
   "cell_type": "code",
   "execution_count": null,
   "metadata": {},
   "outputs": [],
   "source": [
    "doc = nlp(\"Autonomous cars shift insurance liability toward manufacturers\")"
   ]
  },
  {
   "cell_type": "code",
   "execution_count": null,
   "metadata": {},
   "outputs": [],
   "source": [
    "displacy.render(doc, style='dep')"
   ]
  },
  {
   "cell_type": "code",
   "execution_count": null,
   "metadata": {},
   "outputs": [],
   "source": [
    "for chunk in doc.noun_chunks:\n",
    "    print(chunk.text, chunk.root.text, chunk.root.dep_, chunk.root.head.text)"
   ]
  },
  {
   "cell_type": "markdown",
   "metadata": {},
   "source": [
    "spaCy uses the terms head and child to describe the words connected by a single arc in the dependency tree. The term dep is used for the arc label, which describes the type of syntactic relation that connects the child to the head. As with other attributes, the value of .dep is a hash value. You can get the string value with .dep_.\n",
    "\n",
    "For your reference:\n",
    "\n",
    "Text: The original token text.\n",
    "\n",
    "Dep: The syntactic relation connecting child to head.\n",
    "\n",
    "Head text: The original text of the token head.\n",
    "\n",
    "Head POS: The part-of-speech tag of the token head.\n",
    "\n",
    "Children: The immediate syntactic dependents of the token."
   ]
  },
  {
   "cell_type": "code",
   "execution_count": null,
   "metadata": {},
   "outputs": [],
   "source": [
    "for token in doc:\n",
    "    print(token.text, token.dep_, token.head.text, token.head.pos_,\n",
    "            [child for child in token.children])"
   ]
  },
  {
   "cell_type": "markdown",
   "metadata": {},
   "source": [
    "Because the syntactic relations form a tree, every word has exactly one head. You can therefore iterate over the arcs in the tree by iterating over the words in the sentence. This is usually the best way to match an arc of interest — from below:"
   ]
  },
  {
   "cell_type": "code",
   "execution_count": 83,
   "metadata": {},
   "outputs": [],
   "source": [
    "from spacy.symbols import nsubj, VERB"
   ]
  },
  {
   "cell_type": "code",
   "execution_count": null,
   "metadata": {},
   "outputs": [],
   "source": [
    "verbs = set()\n",
    "for possible_subject in doc:\n",
    "    if possible_subject.dep == nsubj and possible_subject.head.pos == VERB:\n",
    "        verbs.add(possible_subject.head)\n",
    "print(verbs)"
   ]
  },
  {
   "cell_type": "markdown",
   "metadata": {},
   "source": [
    "You can *also* navigate from above. It isn't as efficient though."
   ]
  },
  {
   "cell_type": "code",
   "execution_count": null,
   "metadata": {},
   "outputs": [],
   "source": [
    "verbs = []\n",
    "for possible_verb in doc:\n",
    "    if possible_verb.pos == VERB:\n",
    "        for possible_subject in possible_verb.children:\n",
    "            if possible_subject.dep == nsubj:\n",
    "                verbs.append(possible_verb)\n",
    "                break"
   ]
  },
  {
   "cell_type": "code",
   "execution_count": null,
   "metadata": {},
   "outputs": [],
   "source": [
    "print(verbs)"
   ]
  },
  {
   "cell_type": "markdown",
   "metadata": {},
   "source": [
    "### Iterating around the local tree\n",
    "A few more convenience attributes are provided for iterating around the local tree from the token. Token.lefts and Token.rights attributes provide sequences of syntactic children that occur before and after the token. Both sequences are in sentence order. There are also two integer-typed attributes, Token.n_lefts and Token.n_rights that give the number of left and right children."
   ]
  },
  {
   "cell_type": "code",
   "execution_count": 84,
   "metadata": {},
   "outputs": [
    {
     "name": "stdout",
     "output_type": "stream",
     "text": [
      "['bright', 'red']\n",
      "['on']\n",
      "2\n",
      "1\n"
     ]
    }
   ],
   "source": [
    "doc = nlp(\"bright red apples on the tree\")\n",
    "print([token.text for token in doc[2].lefts])  # ['bright', 'red']\n",
    "print([token.text for token in doc[2].rights])  # ['on']\n",
    "print(doc[2].n_lefts)  # 2\n",
    "print(doc[2].n_rights)  # 1"
   ]
  },
  {
   "cell_type": "markdown",
   "metadata": {},
   "source": [
    "You can get a whole phrase by its syntactic head using the Token.subtree attribute. This returns an ordered sequence of tokens. You can walk up the tree with the Token.ancestors attribute, and check dominance with Token.is_ancestor"
   ]
  },
  {
   "cell_type": "code",
   "execution_count": 90,
   "metadata": {},
   "outputs": [
    {
     "name": "stdout",
     "output_type": "stream",
     "text": [
      "Credit nmod 0 2 ['holders', 'submit']\n",
      "and cc 0 0 ['Credit', 'holders', 'submit']\n",
      "mortgage compound 0 0 ['account', 'Credit', 'holders', 'submit']\n",
      "account conj 1 0 ['Credit', 'holders', 'submit']\n",
      "holders nsubj 1 0 ['submit']\n"
     ]
    }
   ],
   "source": [
    "doc = nlp(\"Credit and mortgage account holders must submit their requests\")\n",
    "\n",
    "root = [token for token in doc if token.head == token][0]\n",
    "subject = list(root.lefts)[0]\n",
    "for descendant in subject.subtree:\n",
    "    assert subject is descendant or subject.is_ancestor(descendant)\n",
    "    print(descendant.text, descendant.dep_, descendant.n_lefts,\n",
    "            descendant.n_rights,\n",
    "            [ancestor.text for ancestor in descendant.ancestors])"
   ]
  },
  {
   "cell_type": "markdown",
   "metadata": {},
   "source": [
    "Finally, the .left_edge and .right_edge attributes can be especially useful, because they give you the first and last token of the subtree. This is the easiest way to create a Span object for a syntactic phrase. Note that .right_edge gives a token within the subtree — so if you use it as the end-point of a range, don’t forget to +1!"
   ]
  },
  {
   "cell_type": "code",
   "execution_count": 91,
   "metadata": {},
   "outputs": [
    {
     "name": "stdout",
     "output_type": "stream",
     "text": [
      "Credit and mortgage account holders NOUN nsubj submit\n",
      "must VERB aux submit\n",
      "submit VERB ROOT submit\n",
      "their DET poss requests\n",
      "requests NOUN dobj submit\n"
     ]
    }
   ],
   "source": [
    "span = doc[doc[4].left_edge.i : doc[4].right_edge.i+1]\n",
    "with doc.retokenize() as retokenizer:\n",
    "    retokenizer.merge(span)\n",
    "for token in doc:\n",
    "    print(token.text, token.pos_, token.dep_, token.head.text)"
   ]
  },
  {
   "cell_type": "code",
   "execution_count": 92,
   "metadata": {},
   "outputs": [
    {
     "data": {
      "text/html": [
       "<span class=\"tex2jax_ignore\"><svg xmlns=\"http://www.w3.org/2000/svg\" xmlns:xlink=\"http://www.w3.org/1999/xlink\" xml:lang=\"en\" id=\"bc15de91d36e480ca68a67b15ad3c045-0\" class=\"displacy\" width=\"925\" height=\"312.0\" direction=\"ltr\" style=\"max-width: none; height: 312.0px; color: #000000; background: #ffffff; font-family: Arial; direction: ltr\">\n",
       "<text class=\"displacy-token\" fill=\"currentColor\" text-anchor=\"middle\" y=\"222.0\">\n",
       "    <tspan class=\"displacy-word\" fill=\"currentColor\" x=\"50\">Credit and mortgage account holders</tspan>\n",
       "    <tspan class=\"displacy-tag\" dy=\"2em\" fill=\"currentColor\" x=\"50\">NOUN</tspan>\n",
       "</text>\n",
       "\n",
       "<text class=\"displacy-token\" fill=\"currentColor\" text-anchor=\"middle\" y=\"222.0\">\n",
       "    <tspan class=\"displacy-word\" fill=\"currentColor\" x=\"225\">must</tspan>\n",
       "    <tspan class=\"displacy-tag\" dy=\"2em\" fill=\"currentColor\" x=\"225\">VERB</tspan>\n",
       "</text>\n",
       "\n",
       "<text class=\"displacy-token\" fill=\"currentColor\" text-anchor=\"middle\" y=\"222.0\">\n",
       "    <tspan class=\"displacy-word\" fill=\"currentColor\" x=\"400\">submit</tspan>\n",
       "    <tspan class=\"displacy-tag\" dy=\"2em\" fill=\"currentColor\" x=\"400\">VERB</tspan>\n",
       "</text>\n",
       "\n",
       "<text class=\"displacy-token\" fill=\"currentColor\" text-anchor=\"middle\" y=\"222.0\">\n",
       "    <tspan class=\"displacy-word\" fill=\"currentColor\" x=\"575\">their</tspan>\n",
       "    <tspan class=\"displacy-tag\" dy=\"2em\" fill=\"currentColor\" x=\"575\">DET</tspan>\n",
       "</text>\n",
       "\n",
       "<text class=\"displacy-token\" fill=\"currentColor\" text-anchor=\"middle\" y=\"222.0\">\n",
       "    <tspan class=\"displacy-word\" fill=\"currentColor\" x=\"750\">requests</tspan>\n",
       "    <tspan class=\"displacy-tag\" dy=\"2em\" fill=\"currentColor\" x=\"750\">NOUN</tspan>\n",
       "</text>\n",
       "\n",
       "<g class=\"displacy-arrow\">\n",
       "    <path class=\"displacy-arc\" id=\"arrow-bc15de91d36e480ca68a67b15ad3c045-0-0\" stroke-width=\"2px\" d=\"M70,177.0 C70,2.0 400.0,2.0 400.0,177.0\" fill=\"none\" stroke=\"currentColor\"/>\n",
       "    <text dy=\"1.25em\" style=\"font-size: 0.8em; letter-spacing: 1px\">\n",
       "        <textPath xlink:href=\"#arrow-bc15de91d36e480ca68a67b15ad3c045-0-0\" class=\"displacy-label\" startOffset=\"50%\" side=\"left\" fill=\"currentColor\" text-anchor=\"middle\">nsubj</textPath>\n",
       "    </text>\n",
       "    <path class=\"displacy-arrowhead\" d=\"M70,179.0 L62,167.0 78,167.0\" fill=\"currentColor\"/>\n",
       "</g>\n",
       "\n",
       "<g class=\"displacy-arrow\">\n",
       "    <path class=\"displacy-arc\" id=\"arrow-bc15de91d36e480ca68a67b15ad3c045-0-1\" stroke-width=\"2px\" d=\"M245,177.0 C245,89.5 395.0,89.5 395.0,177.0\" fill=\"none\" stroke=\"currentColor\"/>\n",
       "    <text dy=\"1.25em\" style=\"font-size: 0.8em; letter-spacing: 1px\">\n",
       "        <textPath xlink:href=\"#arrow-bc15de91d36e480ca68a67b15ad3c045-0-1\" class=\"displacy-label\" startOffset=\"50%\" side=\"left\" fill=\"currentColor\" text-anchor=\"middle\">aux</textPath>\n",
       "    </text>\n",
       "    <path class=\"displacy-arrowhead\" d=\"M245,179.0 L237,167.0 253,167.0\" fill=\"currentColor\"/>\n",
       "</g>\n",
       "\n",
       "<g class=\"displacy-arrow\">\n",
       "    <path class=\"displacy-arc\" id=\"arrow-bc15de91d36e480ca68a67b15ad3c045-0-2\" stroke-width=\"2px\" d=\"M595,177.0 C595,89.5 745.0,89.5 745.0,177.0\" fill=\"none\" stroke=\"currentColor\"/>\n",
       "    <text dy=\"1.25em\" style=\"font-size: 0.8em; letter-spacing: 1px\">\n",
       "        <textPath xlink:href=\"#arrow-bc15de91d36e480ca68a67b15ad3c045-0-2\" class=\"displacy-label\" startOffset=\"50%\" side=\"left\" fill=\"currentColor\" text-anchor=\"middle\">poss</textPath>\n",
       "    </text>\n",
       "    <path class=\"displacy-arrowhead\" d=\"M595,179.0 L587,167.0 603,167.0\" fill=\"currentColor\"/>\n",
       "</g>\n",
       "\n",
       "<g class=\"displacy-arrow\">\n",
       "    <path class=\"displacy-arc\" id=\"arrow-bc15de91d36e480ca68a67b15ad3c045-0-3\" stroke-width=\"2px\" d=\"M420,177.0 C420,2.0 750.0,2.0 750.0,177.0\" fill=\"none\" stroke=\"currentColor\"/>\n",
       "    <text dy=\"1.25em\" style=\"font-size: 0.8em; letter-spacing: 1px\">\n",
       "        <textPath xlink:href=\"#arrow-bc15de91d36e480ca68a67b15ad3c045-0-3\" class=\"displacy-label\" startOffset=\"50%\" side=\"left\" fill=\"currentColor\" text-anchor=\"middle\">dobj</textPath>\n",
       "    </text>\n",
       "    <path class=\"displacy-arrowhead\" d=\"M750.0,179.0 L758.0,167.0 742.0,167.0\" fill=\"currentColor\"/>\n",
       "</g>\n",
       "</svg></span>"
      ],
      "text/plain": [
       "<IPython.core.display.HTML object>"
      ]
     },
     "metadata": {},
     "output_type": "display_data"
    }
   ],
   "source": [
    "displacy.render(doc, style='dep')"
   ]
  },
  {
   "cell_type": "markdown",
   "metadata": {},
   "source": [
    "### Information Extraction\n",
    "\n",
    "How can dependancy graphs be useful? We can extract information from the sentences based on relationships between words within parsed phrases. Let us see if we can do this to glean any information, from, say, our movies dataset. \n",
    "\n",
    "How violent are the movies? Who is killing who?"
   ]
  },
  {
   "cell_type": "code",
   "execution_count": null,
   "metadata": {},
   "outputs": [],
   "source": [
    "movie_violences = {}"
   ]
  },
  {
   "cell_type": "code",
   "execution_count": null,
   "metadata": {},
   "outputs": [],
   "source": [
    "for index, row in movie_df.iterrows():\n",
    "    text = ' '.join(row['Tokenized Texts'])\n",
    "    movie_violences[row['Movie Name']] = ([], [])\n",
    "    doc = nlp(text)\n",
    "    for chunk in doc.noun_chunks:\n",
    "        subject = 0\n",
    "        object_ = 0\n",
    "        # if the verb or the root of the sentence is kill\n",
    "        if chunk.root.head.text == 'kill':\n",
    "            # we find the subjects and objects around the word, and if it does exist, add it to the tuple\n",
    "            if chunk.root.dep_ == 'nsubj':\n",
    "                subject = chunk.root.text\n",
    "            if chunk.root.dep_ == 'dobj':\n",
    "                object_ = chunk.root.text\n",
    "            if subject is not 0:\n",
    "                movie_violences[row['Movie Name']][0].append(subject)\n",
    "            if object_ is not 0:\n",
    "                movie_violences[row['Movie Name']][1].append(object_)"
   ]
  },
  {
   "cell_type": "code",
   "execution_count": null,
   "metadata": {},
   "outputs": [],
   "source": [
    "movie_violences"
   ]
  },
  {
   "cell_type": "markdown",
   "metadata": {},
   "source": [
    "That's pretty neat: we can see who tried to kill who, or at least talked about it. A lot of 'I' killing 'you', as we'd imagine. What else can we see?\n",
    "\n",
    "The movie, about time, which is about time travel, funnily enough has:\n",
    "`'About Time': (['I'], ['Hitler'])`"
   ]
  },
  {
   "cell_type": "markdown",
   "metadata": {},
   "source": [
    "## <span style=\"color:red\">*Your turn*</span>\n",
    "\n",
    "<span style=\"color:red\">In the cells immediately following, parse a (modest) subset of your corpus of interest. How deep are the phrase structure and dependency parse trees nested? How does parse depth relate to perceived sentence complexity? What are five things you can extract from these parses for subsequent analysis? (e.g., nouns collocated in a noun phrase; adjectives that modify a noun; etc.) Capture these sets of things for a focal set of words (e.g., \"Bush\", \"Obama\", \"Trump\"). What do they reveal about the roles that these entities are perceive to play in the social world inscribed by your texts?"
   ]
  },
  {
   "cell_type": "code",
   "execution_count": 78,
   "metadata": {},
   "outputs": [],
   "source": [
    "from spacy import displacy"
   ]
  },
  {
   "cell_type": "markdown",
   "metadata": {},
   "source": [
    "**Comment:** Let's start our dependency analysis by looking at an example sentence that I took from the passage we used in the last exercise. It's kind of a doozy of a sentence."
   ]
  },
  {
   "cell_type": "code",
   "execution_count": 79,
   "metadata": {},
   "outputs": [
    {
     "data": {
      "text/html": [
       "<span class=\"tex2jax_ignore\"><svg xmlns=\"http://www.w3.org/2000/svg\" xmlns:xlink=\"http://www.w3.org/1999/xlink\" xml:lang=\"en\" id=\"557d6e7ee11141fb84d464f3ee0d85a5-0\" class=\"displacy\" width=\"6700\" height=\"924.5\" direction=\"ltr\" style=\"max-width: none; height: 924.5px; color: #000000; background: #ffffff; font-family: Arial; direction: ltr\">\n",
       "<text class=\"displacy-token\" fill=\"currentColor\" text-anchor=\"middle\" y=\"834.5\">\n",
       "    <tspan class=\"displacy-word\" fill=\"currentColor\" x=\"50\">It</tspan>\n",
       "    <tspan class=\"displacy-tag\" dy=\"2em\" fill=\"currentColor\" x=\"50\">PRON</tspan>\n",
       "</text>\n",
       "\n",
       "<text class=\"displacy-token\" fill=\"currentColor\" text-anchor=\"middle\" y=\"834.5\">\n",
       "    <tspan class=\"displacy-word\" fill=\"currentColor\" x=\"225\">is</tspan>\n",
       "    <tspan class=\"displacy-tag\" dy=\"2em\" fill=\"currentColor\" x=\"225\">AUX</tspan>\n",
       "</text>\n",
       "\n",
       "<text class=\"displacy-token\" fill=\"currentColor\" text-anchor=\"middle\" y=\"834.5\">\n",
       "    <tspan class=\"displacy-word\" fill=\"currentColor\" x=\"400\">one</tspan>\n",
       "    <tspan class=\"displacy-tag\" dy=\"2em\" fill=\"currentColor\" x=\"400\">NUM</tspan>\n",
       "</text>\n",
       "\n",
       "<text class=\"displacy-token\" fill=\"currentColor\" text-anchor=\"middle\" y=\"834.5\">\n",
       "    <tspan class=\"displacy-word\" fill=\"currentColor\" x=\"575\">of</tspan>\n",
       "    <tspan class=\"displacy-tag\" dy=\"2em\" fill=\"currentColor\" x=\"575\">ADP</tspan>\n",
       "</text>\n",
       "\n",
       "<text class=\"displacy-token\" fill=\"currentColor\" text-anchor=\"middle\" y=\"834.5\">\n",
       "    <tspan class=\"displacy-word\" fill=\"currentColor\" x=\"750\">the</tspan>\n",
       "    <tspan class=\"displacy-tag\" dy=\"2em\" fill=\"currentColor\" x=\"750\">DET</tspan>\n",
       "</text>\n",
       "\n",
       "<text class=\"displacy-token\" fill=\"currentColor\" text-anchor=\"middle\" y=\"834.5\">\n",
       "    <tspan class=\"displacy-word\" fill=\"currentColor\" x=\"925\">chief</tspan>\n",
       "    <tspan class=\"displacy-tag\" dy=\"2em\" fill=\"currentColor\" x=\"925\">ADJ</tspan>\n",
       "</text>\n",
       "\n",
       "<text class=\"displacy-token\" fill=\"currentColor\" text-anchor=\"middle\" y=\"834.5\">\n",
       "    <tspan class=\"displacy-word\" fill=\"currentColor\" x=\"1100\">failings</tspan>\n",
       "    <tspan class=\"displacy-tag\" dy=\"2em\" fill=\"currentColor\" x=\"1100\">NOUN</tspan>\n",
       "</text>\n",
       "\n",
       "<text class=\"displacy-token\" fill=\"currentColor\" text-anchor=\"middle\" y=\"834.5\">\n",
       "    <tspan class=\"displacy-word\" fill=\"currentColor\" x=\"1275\">of</tspan>\n",
       "    <tspan class=\"displacy-tag\" dy=\"2em\" fill=\"currentColor\" x=\"1275\">ADP</tspan>\n",
       "</text>\n",
       "\n",
       "<text class=\"displacy-token\" fill=\"currentColor\" text-anchor=\"middle\" y=\"834.5\">\n",
       "    <tspan class=\"displacy-word\" fill=\"currentColor\" x=\"1450\">classical</tspan>\n",
       "    <tspan class=\"displacy-tag\" dy=\"2em\" fill=\"currentColor\" x=\"1450\">ADJ</tspan>\n",
       "</text>\n",
       "\n",
       "<text class=\"displacy-token\" fill=\"currentColor\" text-anchor=\"middle\" y=\"834.5\">\n",
       "    <tspan class=\"displacy-word\" fill=\"currentColor\" x=\"1625\">economy</tspan>\n",
       "    <tspan class=\"displacy-tag\" dy=\"2em\" fill=\"currentColor\" x=\"1625\">NOUN</tspan>\n",
       "</text>\n",
       "\n",
       "<text class=\"displacy-token\" fill=\"currentColor\" text-anchor=\"middle\" y=\"834.5\">\n",
       "    <tspan class=\"displacy-word\" fill=\"currentColor\" x=\"1800\">that</tspan>\n",
       "    <tspan class=\"displacy-tag\" dy=\"2em\" fill=\"currentColor\" x=\"1800\">SCONJ</tspan>\n",
       "</text>\n",
       "\n",
       "<text class=\"displacy-token\" fill=\"currentColor\" text-anchor=\"middle\" y=\"834.5\">\n",
       "    <tspan class=\"displacy-word\" fill=\"currentColor\" x=\"1975\">it</tspan>\n",
       "    <tspan class=\"displacy-tag\" dy=\"2em\" fill=\"currentColor\" x=\"1975\">PRON</tspan>\n",
       "</text>\n",
       "\n",
       "<text class=\"displacy-token\" fill=\"currentColor\" text-anchor=\"middle\" y=\"834.5\">\n",
       "    <tspan class=\"displacy-word\" fill=\"currentColor\" x=\"2150\">has</tspan>\n",
       "    <tspan class=\"displacy-tag\" dy=\"2em\" fill=\"currentColor\" x=\"2150\">AUX</tspan>\n",
       "</text>\n",
       "\n",
       "<text class=\"displacy-token\" fill=\"currentColor\" text-anchor=\"middle\" y=\"834.5\">\n",
       "    <tspan class=\"displacy-word\" fill=\"currentColor\" x=\"2325\">never</tspan>\n",
       "    <tspan class=\"displacy-tag\" dy=\"2em\" fill=\"currentColor\" x=\"2325\">ADV</tspan>\n",
       "</text>\n",
       "\n",
       "<text class=\"displacy-token\" fill=\"currentColor\" text-anchor=\"middle\" y=\"834.5\">\n",
       "    <tspan class=\"displacy-word\" fill=\"currentColor\" x=\"2500\">succeeded,</tspan>\n",
       "    <tspan class=\"displacy-tag\" dy=\"2em\" fill=\"currentColor\" x=\"2500\">VERB</tspan>\n",
       "</text>\n",
       "\n",
       "<text class=\"displacy-token\" fill=\"currentColor\" text-anchor=\"middle\" y=\"834.5\">\n",
       "    <tspan class=\"displacy-word\" fill=\"currentColor\" x=\"2675\">by</tspan>\n",
       "    <tspan class=\"displacy-tag\" dy=\"2em\" fill=\"currentColor\" x=\"2675\">ADP</tspan>\n",
       "</text>\n",
       "\n",
       "<text class=\"displacy-token\" fill=\"currentColor\" text-anchor=\"middle\" y=\"834.5\">\n",
       "    <tspan class=\"displacy-word\" fill=\"currentColor\" x=\"2850\">means</tspan>\n",
       "    <tspan class=\"displacy-tag\" dy=\"2em\" fill=\"currentColor\" x=\"2850\">NOUN</tspan>\n",
       "</text>\n",
       "\n",
       "<text class=\"displacy-token\" fill=\"currentColor\" text-anchor=\"middle\" y=\"834.5\">\n",
       "    <tspan class=\"displacy-word\" fill=\"currentColor\" x=\"3025\">of</tspan>\n",
       "    <tspan class=\"displacy-tag\" dy=\"2em\" fill=\"currentColor\" x=\"3025\">ADP</tspan>\n",
       "</text>\n",
       "\n",
       "<text class=\"displacy-token\" fill=\"currentColor\" text-anchor=\"middle\" y=\"834.5\">\n",
       "    <tspan class=\"displacy-word\" fill=\"currentColor\" x=\"3200\">its</tspan>\n",
       "    <tspan class=\"displacy-tag\" dy=\"2em\" fill=\"currentColor\" x=\"3200\">DET</tspan>\n",
       "</text>\n",
       "\n",
       "<text class=\"displacy-token\" fill=\"currentColor\" text-anchor=\"middle\" y=\"834.5\">\n",
       "    <tspan class=\"displacy-word\" fill=\"currentColor\" x=\"3375\">analysis</tspan>\n",
       "    <tspan class=\"displacy-tag\" dy=\"2em\" fill=\"currentColor\" x=\"3375\">NOUN</tspan>\n",
       "</text>\n",
       "\n",
       "<text class=\"displacy-token\" fill=\"currentColor\" text-anchor=\"middle\" y=\"834.5\">\n",
       "    <tspan class=\"displacy-word\" fill=\"currentColor\" x=\"3550\">of</tspan>\n",
       "    <tspan class=\"displacy-tag\" dy=\"2em\" fill=\"currentColor\" x=\"3550\">ADP</tspan>\n",
       "</text>\n",
       "\n",
       "<text class=\"displacy-token\" fill=\"currentColor\" text-anchor=\"middle\" y=\"834.5\">\n",
       "    <tspan class=\"displacy-word\" fill=\"currentColor\" x=\"3725\">commodities,</tspan>\n",
       "    <tspan class=\"displacy-tag\" dy=\"2em\" fill=\"currentColor\" x=\"3725\">NOUN</tspan>\n",
       "</text>\n",
       "\n",
       "<text class=\"displacy-token\" fill=\"currentColor\" text-anchor=\"middle\" y=\"834.5\">\n",
       "    <tspan class=\"displacy-word\" fill=\"currentColor\" x=\"3900\">and,</tspan>\n",
       "    <tspan class=\"displacy-tag\" dy=\"2em\" fill=\"currentColor\" x=\"3900\">CCONJ</tspan>\n",
       "</text>\n",
       "\n",
       "<text class=\"displacy-token\" fill=\"currentColor\" text-anchor=\"middle\" y=\"834.5\">\n",
       "    <tspan class=\"displacy-word\" fill=\"currentColor\" x=\"4075\">in</tspan>\n",
       "    <tspan class=\"displacy-tag\" dy=\"2em\" fill=\"currentColor\" x=\"4075\">ADP</tspan>\n",
       "</text>\n",
       "\n",
       "<text class=\"displacy-token\" fill=\"currentColor\" text-anchor=\"middle\" y=\"834.5\">\n",
       "    <tspan class=\"displacy-word\" fill=\"currentColor\" x=\"4250\">particular,</tspan>\n",
       "    <tspan class=\"displacy-tag\" dy=\"2em\" fill=\"currentColor\" x=\"4250\">ADJ</tspan>\n",
       "</text>\n",
       "\n",
       "<text class=\"displacy-token\" fill=\"currentColor\" text-anchor=\"middle\" y=\"834.5\">\n",
       "    <tspan class=\"displacy-word\" fill=\"currentColor\" x=\"4425\">of</tspan>\n",
       "    <tspan class=\"displacy-tag\" dy=\"2em\" fill=\"currentColor\" x=\"4425\">ADP</tspan>\n",
       "</text>\n",
       "\n",
       "<text class=\"displacy-token\" fill=\"currentColor\" text-anchor=\"middle\" y=\"834.5\">\n",
       "    <tspan class=\"displacy-word\" fill=\"currentColor\" x=\"4600\">their</tspan>\n",
       "    <tspan class=\"displacy-tag\" dy=\"2em\" fill=\"currentColor\" x=\"4600\">DET</tspan>\n",
       "</text>\n",
       "\n",
       "<text class=\"displacy-token\" fill=\"currentColor\" text-anchor=\"middle\" y=\"834.5\">\n",
       "    <tspan class=\"displacy-word\" fill=\"currentColor\" x=\"4775\">value,</tspan>\n",
       "    <tspan class=\"displacy-tag\" dy=\"2em\" fill=\"currentColor\" x=\"4775\">NOUN</tspan>\n",
       "</text>\n",
       "\n",
       "<text class=\"displacy-token\" fill=\"currentColor\" text-anchor=\"middle\" y=\"834.5\">\n",
       "    <tspan class=\"displacy-word\" fill=\"currentColor\" x=\"4950\">in</tspan>\n",
       "    <tspan class=\"displacy-tag\" dy=\"2em\" fill=\"currentColor\" x=\"4950\">ADP</tspan>\n",
       "</text>\n",
       "\n",
       "<text class=\"displacy-token\" fill=\"currentColor\" text-anchor=\"middle\" y=\"834.5\">\n",
       "    <tspan class=\"displacy-word\" fill=\"currentColor\" x=\"5125\">discovering</tspan>\n",
       "    <tspan class=\"displacy-tag\" dy=\"2em\" fill=\"currentColor\" x=\"5125\">VERB</tspan>\n",
       "</text>\n",
       "\n",
       "<text class=\"displacy-token\" fill=\"currentColor\" text-anchor=\"middle\" y=\"834.5\">\n",
       "    <tspan class=\"displacy-word\" fill=\"currentColor\" x=\"5300\">that</tspan>\n",
       "    <tspan class=\"displacy-tag\" dy=\"2em\" fill=\"currentColor\" x=\"5300\">DET</tspan>\n",
       "</text>\n",
       "\n",
       "<text class=\"displacy-token\" fill=\"currentColor\" text-anchor=\"middle\" y=\"834.5\">\n",
       "    <tspan class=\"displacy-word\" fill=\"currentColor\" x=\"5475\">form</tspan>\n",
       "    <tspan class=\"displacy-tag\" dy=\"2em\" fill=\"currentColor\" x=\"5475\">NOUN</tspan>\n",
       "</text>\n",
       "\n",
       "<text class=\"displacy-token\" fill=\"currentColor\" text-anchor=\"middle\" y=\"834.5\">\n",
       "    <tspan class=\"displacy-word\" fill=\"currentColor\" x=\"5650\">under</tspan>\n",
       "    <tspan class=\"displacy-tag\" dy=\"2em\" fill=\"currentColor\" x=\"5650\">ADP</tspan>\n",
       "</text>\n",
       "\n",
       "<text class=\"displacy-token\" fill=\"currentColor\" text-anchor=\"middle\" y=\"834.5\">\n",
       "    <tspan class=\"displacy-word\" fill=\"currentColor\" x=\"5825\">which</tspan>\n",
       "    <tspan class=\"displacy-tag\" dy=\"2em\" fill=\"currentColor\" x=\"5825\">DET</tspan>\n",
       "</text>\n",
       "\n",
       "<text class=\"displacy-token\" fill=\"currentColor\" text-anchor=\"middle\" y=\"834.5\">\n",
       "    <tspan class=\"displacy-word\" fill=\"currentColor\" x=\"6000\">value</tspan>\n",
       "    <tspan class=\"displacy-tag\" dy=\"2em\" fill=\"currentColor\" x=\"6000\">NOUN</tspan>\n",
       "</text>\n",
       "\n",
       "<text class=\"displacy-token\" fill=\"currentColor\" text-anchor=\"middle\" y=\"834.5\">\n",
       "    <tspan class=\"displacy-word\" fill=\"currentColor\" x=\"6175\">becomes</tspan>\n",
       "    <tspan class=\"displacy-tag\" dy=\"2em\" fill=\"currentColor\" x=\"6175\">VERB</tspan>\n",
       "</text>\n",
       "\n",
       "<text class=\"displacy-token\" fill=\"currentColor\" text-anchor=\"middle\" y=\"834.5\">\n",
       "    <tspan class=\"displacy-word\" fill=\"currentColor\" x=\"6350\">exchange</tspan>\n",
       "    <tspan class=\"displacy-tag\" dy=\"2em\" fill=\"currentColor\" x=\"6350\">NOUN</tspan>\n",
       "</text>\n",
       "\n",
       "<text class=\"displacy-token\" fill=\"currentColor\" text-anchor=\"middle\" y=\"834.5\">\n",
       "    <tspan class=\"displacy-word\" fill=\"currentColor\" x=\"6525\">value.</tspan>\n",
       "    <tspan class=\"displacy-tag\" dy=\"2em\" fill=\"currentColor\" x=\"6525\">NOUN</tspan>\n",
       "</text>\n",
       "\n",
       "<g class=\"displacy-arrow\">\n",
       "    <path class=\"displacy-arc\" id=\"arrow-557d6e7ee11141fb84d464f3ee0d85a5-0-0\" stroke-width=\"2px\" d=\"M70,789.5 C70,702.0 185.0,702.0 185.0,789.5\" fill=\"none\" stroke=\"currentColor\"/>\n",
       "    <text dy=\"1.25em\" style=\"font-size: 0.8em; letter-spacing: 1px\">\n",
       "        <textPath xlink:href=\"#arrow-557d6e7ee11141fb84d464f3ee0d85a5-0-0\" class=\"displacy-label\" startOffset=\"50%\" side=\"left\" fill=\"currentColor\" text-anchor=\"middle\">nsubj</textPath>\n",
       "    </text>\n",
       "    <path class=\"displacy-arrowhead\" d=\"M70,791.5 L62,779.5 78,779.5\" fill=\"currentColor\"/>\n",
       "</g>\n",
       "\n",
       "<g class=\"displacy-arrow\">\n",
       "    <path class=\"displacy-arc\" id=\"arrow-557d6e7ee11141fb84d464f3ee0d85a5-0-1\" stroke-width=\"2px\" d=\"M245,789.5 C245,702.0 360.0,702.0 360.0,789.5\" fill=\"none\" stroke=\"currentColor\"/>\n",
       "    <text dy=\"1.25em\" style=\"font-size: 0.8em; letter-spacing: 1px\">\n",
       "        <textPath xlink:href=\"#arrow-557d6e7ee11141fb84d464f3ee0d85a5-0-1\" class=\"displacy-label\" startOffset=\"50%\" side=\"left\" fill=\"currentColor\" text-anchor=\"middle\">attr</textPath>\n",
       "    </text>\n",
       "    <path class=\"displacy-arrowhead\" d=\"M360.0,791.5 L368.0,779.5 352.0,779.5\" fill=\"currentColor\"/>\n",
       "</g>\n",
       "\n",
       "<g class=\"displacy-arrow\">\n",
       "    <path class=\"displacy-arc\" id=\"arrow-557d6e7ee11141fb84d464f3ee0d85a5-0-2\" stroke-width=\"2px\" d=\"M420,789.5 C420,702.0 535.0,702.0 535.0,789.5\" fill=\"none\" stroke=\"currentColor\"/>\n",
       "    <text dy=\"1.25em\" style=\"font-size: 0.8em; letter-spacing: 1px\">\n",
       "        <textPath xlink:href=\"#arrow-557d6e7ee11141fb84d464f3ee0d85a5-0-2\" class=\"displacy-label\" startOffset=\"50%\" side=\"left\" fill=\"currentColor\" text-anchor=\"middle\">prep</textPath>\n",
       "    </text>\n",
       "    <path class=\"displacy-arrowhead\" d=\"M535.0,791.5 L543.0,779.5 527.0,779.5\" fill=\"currentColor\"/>\n",
       "</g>\n",
       "\n",
       "<g class=\"displacy-arrow\">\n",
       "    <path class=\"displacy-arc\" id=\"arrow-557d6e7ee11141fb84d464f3ee0d85a5-0-3\" stroke-width=\"2px\" d=\"M770,789.5 C770,614.5 1065.0,614.5 1065.0,789.5\" fill=\"none\" stroke=\"currentColor\"/>\n",
       "    <text dy=\"1.25em\" style=\"font-size: 0.8em; letter-spacing: 1px\">\n",
       "        <textPath xlink:href=\"#arrow-557d6e7ee11141fb84d464f3ee0d85a5-0-3\" class=\"displacy-label\" startOffset=\"50%\" side=\"left\" fill=\"currentColor\" text-anchor=\"middle\">det</textPath>\n",
       "    </text>\n",
       "    <path class=\"displacy-arrowhead\" d=\"M770,791.5 L762,779.5 778,779.5\" fill=\"currentColor\"/>\n",
       "</g>\n",
       "\n",
       "<g class=\"displacy-arrow\">\n",
       "    <path class=\"displacy-arc\" id=\"arrow-557d6e7ee11141fb84d464f3ee0d85a5-0-4\" stroke-width=\"2px\" d=\"M945,789.5 C945,702.0 1060.0,702.0 1060.0,789.5\" fill=\"none\" stroke=\"currentColor\"/>\n",
       "    <text dy=\"1.25em\" style=\"font-size: 0.8em; letter-spacing: 1px\">\n",
       "        <textPath xlink:href=\"#arrow-557d6e7ee11141fb84d464f3ee0d85a5-0-4\" class=\"displacy-label\" startOffset=\"50%\" side=\"left\" fill=\"currentColor\" text-anchor=\"middle\">amod</textPath>\n",
       "    </text>\n",
       "    <path class=\"displacy-arrowhead\" d=\"M945,791.5 L937,779.5 953,779.5\" fill=\"currentColor\"/>\n",
       "</g>\n",
       "\n",
       "<g class=\"displacy-arrow\">\n",
       "    <path class=\"displacy-arc\" id=\"arrow-557d6e7ee11141fb84d464f3ee0d85a5-0-5\" stroke-width=\"2px\" d=\"M595,789.5 C595,527.0 1070.0,527.0 1070.0,789.5\" fill=\"none\" stroke=\"currentColor\"/>\n",
       "    <text dy=\"1.25em\" style=\"font-size: 0.8em; letter-spacing: 1px\">\n",
       "        <textPath xlink:href=\"#arrow-557d6e7ee11141fb84d464f3ee0d85a5-0-5\" class=\"displacy-label\" startOffset=\"50%\" side=\"left\" fill=\"currentColor\" text-anchor=\"middle\">pobj</textPath>\n",
       "    </text>\n",
       "    <path class=\"displacy-arrowhead\" d=\"M1070.0,791.5 L1078.0,779.5 1062.0,779.5\" fill=\"currentColor\"/>\n",
       "</g>\n",
       "\n",
       "<g class=\"displacy-arrow\">\n",
       "    <path class=\"displacy-arc\" id=\"arrow-557d6e7ee11141fb84d464f3ee0d85a5-0-6\" stroke-width=\"2px\" d=\"M1120,789.5 C1120,702.0 1235.0,702.0 1235.0,789.5\" fill=\"none\" stroke=\"currentColor\"/>\n",
       "    <text dy=\"1.25em\" style=\"font-size: 0.8em; letter-spacing: 1px\">\n",
       "        <textPath xlink:href=\"#arrow-557d6e7ee11141fb84d464f3ee0d85a5-0-6\" class=\"displacy-label\" startOffset=\"50%\" side=\"left\" fill=\"currentColor\" text-anchor=\"middle\">prep</textPath>\n",
       "    </text>\n",
       "    <path class=\"displacy-arrowhead\" d=\"M1235.0,791.5 L1243.0,779.5 1227.0,779.5\" fill=\"currentColor\"/>\n",
       "</g>\n",
       "\n",
       "<g class=\"displacy-arrow\">\n",
       "    <path class=\"displacy-arc\" id=\"arrow-557d6e7ee11141fb84d464f3ee0d85a5-0-7\" stroke-width=\"2px\" d=\"M1470,789.5 C1470,702.0 1585.0,702.0 1585.0,789.5\" fill=\"none\" stroke=\"currentColor\"/>\n",
       "    <text dy=\"1.25em\" style=\"font-size: 0.8em; letter-spacing: 1px\">\n",
       "        <textPath xlink:href=\"#arrow-557d6e7ee11141fb84d464f3ee0d85a5-0-7\" class=\"displacy-label\" startOffset=\"50%\" side=\"left\" fill=\"currentColor\" text-anchor=\"middle\">amod</textPath>\n",
       "    </text>\n",
       "    <path class=\"displacy-arrowhead\" d=\"M1470,791.5 L1462,779.5 1478,779.5\" fill=\"currentColor\"/>\n",
       "</g>\n",
       "\n",
       "<g class=\"displacy-arrow\">\n",
       "    <path class=\"displacy-arc\" id=\"arrow-557d6e7ee11141fb84d464f3ee0d85a5-0-8\" stroke-width=\"2px\" d=\"M1295,789.5 C1295,614.5 1590.0,614.5 1590.0,789.5\" fill=\"none\" stroke=\"currentColor\"/>\n",
       "    <text dy=\"1.25em\" style=\"font-size: 0.8em; letter-spacing: 1px\">\n",
       "        <textPath xlink:href=\"#arrow-557d6e7ee11141fb84d464f3ee0d85a5-0-8\" class=\"displacy-label\" startOffset=\"50%\" side=\"left\" fill=\"currentColor\" text-anchor=\"middle\">pobj</textPath>\n",
       "    </text>\n",
       "    <path class=\"displacy-arrowhead\" d=\"M1590.0,791.5 L1598.0,779.5 1582.0,779.5\" fill=\"currentColor\"/>\n",
       "</g>\n",
       "\n",
       "<g class=\"displacy-arrow\">\n",
       "    <path class=\"displacy-arc\" id=\"arrow-557d6e7ee11141fb84d464f3ee0d85a5-0-9\" stroke-width=\"2px\" d=\"M1820,789.5 C1820,439.5 2475.0,439.5 2475.0,789.5\" fill=\"none\" stroke=\"currentColor\"/>\n",
       "    <text dy=\"1.25em\" style=\"font-size: 0.8em; letter-spacing: 1px\">\n",
       "        <textPath xlink:href=\"#arrow-557d6e7ee11141fb84d464f3ee0d85a5-0-9\" class=\"displacy-label\" startOffset=\"50%\" side=\"left\" fill=\"currentColor\" text-anchor=\"middle\">mark</textPath>\n",
       "    </text>\n",
       "    <path class=\"displacy-arrowhead\" d=\"M1820,791.5 L1812,779.5 1828,779.5\" fill=\"currentColor\"/>\n",
       "</g>\n",
       "\n",
       "<g class=\"displacy-arrow\">\n",
       "    <path class=\"displacy-arc\" id=\"arrow-557d6e7ee11141fb84d464f3ee0d85a5-0-10\" stroke-width=\"2px\" d=\"M1995,789.5 C1995,527.0 2470.0,527.0 2470.0,789.5\" fill=\"none\" stroke=\"currentColor\"/>\n",
       "    <text dy=\"1.25em\" style=\"font-size: 0.8em; letter-spacing: 1px\">\n",
       "        <textPath xlink:href=\"#arrow-557d6e7ee11141fb84d464f3ee0d85a5-0-10\" class=\"displacy-label\" startOffset=\"50%\" side=\"left\" fill=\"currentColor\" text-anchor=\"middle\">nsubj</textPath>\n",
       "    </text>\n",
       "    <path class=\"displacy-arrowhead\" d=\"M1995,791.5 L1987,779.5 2003,779.5\" fill=\"currentColor\"/>\n",
       "</g>\n",
       "\n",
       "<g class=\"displacy-arrow\">\n",
       "    <path class=\"displacy-arc\" id=\"arrow-557d6e7ee11141fb84d464f3ee0d85a5-0-11\" stroke-width=\"2px\" d=\"M2170,789.5 C2170,614.5 2465.0,614.5 2465.0,789.5\" fill=\"none\" stroke=\"currentColor\"/>\n",
       "    <text dy=\"1.25em\" style=\"font-size: 0.8em; letter-spacing: 1px\">\n",
       "        <textPath xlink:href=\"#arrow-557d6e7ee11141fb84d464f3ee0d85a5-0-11\" class=\"displacy-label\" startOffset=\"50%\" side=\"left\" fill=\"currentColor\" text-anchor=\"middle\">aux</textPath>\n",
       "    </text>\n",
       "    <path class=\"displacy-arrowhead\" d=\"M2170,791.5 L2162,779.5 2178,779.5\" fill=\"currentColor\"/>\n",
       "</g>\n",
       "\n",
       "<g class=\"displacy-arrow\">\n",
       "    <path class=\"displacy-arc\" id=\"arrow-557d6e7ee11141fb84d464f3ee0d85a5-0-12\" stroke-width=\"2px\" d=\"M2345,789.5 C2345,702.0 2460.0,702.0 2460.0,789.5\" fill=\"none\" stroke=\"currentColor\"/>\n",
       "    <text dy=\"1.25em\" style=\"font-size: 0.8em; letter-spacing: 1px\">\n",
       "        <textPath xlink:href=\"#arrow-557d6e7ee11141fb84d464f3ee0d85a5-0-12\" class=\"displacy-label\" startOffset=\"50%\" side=\"left\" fill=\"currentColor\" text-anchor=\"middle\">neg</textPath>\n",
       "    </text>\n",
       "    <path class=\"displacy-arrowhead\" d=\"M2345,791.5 L2337,779.5 2353,779.5\" fill=\"currentColor\"/>\n",
       "</g>\n",
       "\n",
       "<g class=\"displacy-arrow\">\n",
       "    <path class=\"displacy-arc\" id=\"arrow-557d6e7ee11141fb84d464f3ee0d85a5-0-13\" stroke-width=\"2px\" d=\"M1120,789.5 C1120,352.0 2480.0,352.0 2480.0,789.5\" fill=\"none\" stroke=\"currentColor\"/>\n",
       "    <text dy=\"1.25em\" style=\"font-size: 0.8em; letter-spacing: 1px\">\n",
       "        <textPath xlink:href=\"#arrow-557d6e7ee11141fb84d464f3ee0d85a5-0-13\" class=\"displacy-label\" startOffset=\"50%\" side=\"left\" fill=\"currentColor\" text-anchor=\"middle\">relcl</textPath>\n",
       "    </text>\n",
       "    <path class=\"displacy-arrowhead\" d=\"M2480.0,791.5 L2488.0,779.5 2472.0,779.5\" fill=\"currentColor\"/>\n",
       "</g>\n",
       "\n",
       "<g class=\"displacy-arrow\">\n",
       "    <path class=\"displacy-arc\" id=\"arrow-557d6e7ee11141fb84d464f3ee0d85a5-0-14\" stroke-width=\"2px\" d=\"M245,789.5 C245,264.5 2660.0,264.5 2660.0,789.5\" fill=\"none\" stroke=\"currentColor\"/>\n",
       "    <text dy=\"1.25em\" style=\"font-size: 0.8em; letter-spacing: 1px\">\n",
       "        <textPath xlink:href=\"#arrow-557d6e7ee11141fb84d464f3ee0d85a5-0-14\" class=\"displacy-label\" startOffset=\"50%\" side=\"left\" fill=\"currentColor\" text-anchor=\"middle\">prep</textPath>\n",
       "    </text>\n",
       "    <path class=\"displacy-arrowhead\" d=\"M2660.0,791.5 L2668.0,779.5 2652.0,779.5\" fill=\"currentColor\"/>\n",
       "</g>\n",
       "\n",
       "<g class=\"displacy-arrow\">\n",
       "    <path class=\"displacy-arc\" id=\"arrow-557d6e7ee11141fb84d464f3ee0d85a5-0-15\" stroke-width=\"2px\" d=\"M2695,789.5 C2695,702.0 2810.0,702.0 2810.0,789.5\" fill=\"none\" stroke=\"currentColor\"/>\n",
       "    <text dy=\"1.25em\" style=\"font-size: 0.8em; letter-spacing: 1px\">\n",
       "        <textPath xlink:href=\"#arrow-557d6e7ee11141fb84d464f3ee0d85a5-0-15\" class=\"displacy-label\" startOffset=\"50%\" side=\"left\" fill=\"currentColor\" text-anchor=\"middle\">pobj</textPath>\n",
       "    </text>\n",
       "    <path class=\"displacy-arrowhead\" d=\"M2810.0,791.5 L2818.0,779.5 2802.0,779.5\" fill=\"currentColor\"/>\n",
       "</g>\n",
       "\n",
       "<g class=\"displacy-arrow\">\n",
       "    <path class=\"displacy-arc\" id=\"arrow-557d6e7ee11141fb84d464f3ee0d85a5-0-16\" stroke-width=\"2px\" d=\"M2870,789.5 C2870,702.0 2985.0,702.0 2985.0,789.5\" fill=\"none\" stroke=\"currentColor\"/>\n",
       "    <text dy=\"1.25em\" style=\"font-size: 0.8em; letter-spacing: 1px\">\n",
       "        <textPath xlink:href=\"#arrow-557d6e7ee11141fb84d464f3ee0d85a5-0-16\" class=\"displacy-label\" startOffset=\"50%\" side=\"left\" fill=\"currentColor\" text-anchor=\"middle\">prep</textPath>\n",
       "    </text>\n",
       "    <path class=\"displacy-arrowhead\" d=\"M2985.0,791.5 L2993.0,779.5 2977.0,779.5\" fill=\"currentColor\"/>\n",
       "</g>\n",
       "\n",
       "<g class=\"displacy-arrow\">\n",
       "    <path class=\"displacy-arc\" id=\"arrow-557d6e7ee11141fb84d464f3ee0d85a5-0-17\" stroke-width=\"2px\" d=\"M3220,789.5 C3220,702.0 3335.0,702.0 3335.0,789.5\" fill=\"none\" stroke=\"currentColor\"/>\n",
       "    <text dy=\"1.25em\" style=\"font-size: 0.8em; letter-spacing: 1px\">\n",
       "        <textPath xlink:href=\"#arrow-557d6e7ee11141fb84d464f3ee0d85a5-0-17\" class=\"displacy-label\" startOffset=\"50%\" side=\"left\" fill=\"currentColor\" text-anchor=\"middle\">poss</textPath>\n",
       "    </text>\n",
       "    <path class=\"displacy-arrowhead\" d=\"M3220,791.5 L3212,779.5 3228,779.5\" fill=\"currentColor\"/>\n",
       "</g>\n",
       "\n",
       "<g class=\"displacy-arrow\">\n",
       "    <path class=\"displacy-arc\" id=\"arrow-557d6e7ee11141fb84d464f3ee0d85a5-0-18\" stroke-width=\"2px\" d=\"M3045,789.5 C3045,614.5 3340.0,614.5 3340.0,789.5\" fill=\"none\" stroke=\"currentColor\"/>\n",
       "    <text dy=\"1.25em\" style=\"font-size: 0.8em; letter-spacing: 1px\">\n",
       "        <textPath xlink:href=\"#arrow-557d6e7ee11141fb84d464f3ee0d85a5-0-18\" class=\"displacy-label\" startOffset=\"50%\" side=\"left\" fill=\"currentColor\" text-anchor=\"middle\">pobj</textPath>\n",
       "    </text>\n",
       "    <path class=\"displacy-arrowhead\" d=\"M3340.0,791.5 L3348.0,779.5 3332.0,779.5\" fill=\"currentColor\"/>\n",
       "</g>\n",
       "\n",
       "<g class=\"displacy-arrow\">\n",
       "    <path class=\"displacy-arc\" id=\"arrow-557d6e7ee11141fb84d464f3ee0d85a5-0-19\" stroke-width=\"2px\" d=\"M3395,789.5 C3395,702.0 3510.0,702.0 3510.0,789.5\" fill=\"none\" stroke=\"currentColor\"/>\n",
       "    <text dy=\"1.25em\" style=\"font-size: 0.8em; letter-spacing: 1px\">\n",
       "        <textPath xlink:href=\"#arrow-557d6e7ee11141fb84d464f3ee0d85a5-0-19\" class=\"displacy-label\" startOffset=\"50%\" side=\"left\" fill=\"currentColor\" text-anchor=\"middle\">prep</textPath>\n",
       "    </text>\n",
       "    <path class=\"displacy-arrowhead\" d=\"M3510.0,791.5 L3518.0,779.5 3502.0,779.5\" fill=\"currentColor\"/>\n",
       "</g>\n",
       "\n",
       "<g class=\"displacy-arrow\">\n",
       "    <path class=\"displacy-arc\" id=\"arrow-557d6e7ee11141fb84d464f3ee0d85a5-0-20\" stroke-width=\"2px\" d=\"M3570,789.5 C3570,702.0 3685.0,702.0 3685.0,789.5\" fill=\"none\" stroke=\"currentColor\"/>\n",
       "    <text dy=\"1.25em\" style=\"font-size: 0.8em; letter-spacing: 1px\">\n",
       "        <textPath xlink:href=\"#arrow-557d6e7ee11141fb84d464f3ee0d85a5-0-20\" class=\"displacy-label\" startOffset=\"50%\" side=\"left\" fill=\"currentColor\" text-anchor=\"middle\">pobj</textPath>\n",
       "    </text>\n",
       "    <path class=\"displacy-arrowhead\" d=\"M3685.0,791.5 L3693.0,779.5 3677.0,779.5\" fill=\"currentColor\"/>\n",
       "</g>\n",
       "\n",
       "<g class=\"displacy-arrow\">\n",
       "    <path class=\"displacy-arc\" id=\"arrow-557d6e7ee11141fb84d464f3ee0d85a5-0-21\" stroke-width=\"2px\" d=\"M245,789.5 C245,177.0 3890.0,177.0 3890.0,789.5\" fill=\"none\" stroke=\"currentColor\"/>\n",
       "    <text dy=\"1.25em\" style=\"font-size: 0.8em; letter-spacing: 1px\">\n",
       "        <textPath xlink:href=\"#arrow-557d6e7ee11141fb84d464f3ee0d85a5-0-21\" class=\"displacy-label\" startOffset=\"50%\" side=\"left\" fill=\"currentColor\" text-anchor=\"middle\">cc</textPath>\n",
       "    </text>\n",
       "    <path class=\"displacy-arrowhead\" d=\"M3890.0,791.5 L3898.0,779.5 3882.0,779.5\" fill=\"currentColor\"/>\n",
       "</g>\n",
       "\n",
       "<g class=\"displacy-arrow\">\n",
       "    <path class=\"displacy-arc\" id=\"arrow-557d6e7ee11141fb84d464f3ee0d85a5-0-22\" stroke-width=\"2px\" d=\"M245,789.5 C245,89.5 4070.0,89.5 4070.0,789.5\" fill=\"none\" stroke=\"currentColor\"/>\n",
       "    <text dy=\"1.25em\" style=\"font-size: 0.8em; letter-spacing: 1px\">\n",
       "        <textPath xlink:href=\"#arrow-557d6e7ee11141fb84d464f3ee0d85a5-0-22\" class=\"displacy-label\" startOffset=\"50%\" side=\"left\" fill=\"currentColor\" text-anchor=\"middle\">prep</textPath>\n",
       "    </text>\n",
       "    <path class=\"displacy-arrowhead\" d=\"M4070.0,791.5 L4078.0,779.5 4062.0,779.5\" fill=\"currentColor\"/>\n",
       "</g>\n",
       "\n",
       "<g class=\"displacy-arrow\">\n",
       "    <path class=\"displacy-arc\" id=\"arrow-557d6e7ee11141fb84d464f3ee0d85a5-0-23\" stroke-width=\"2px\" d=\"M4095,789.5 C4095,702.0 4210.0,702.0 4210.0,789.5\" fill=\"none\" stroke=\"currentColor\"/>\n",
       "    <text dy=\"1.25em\" style=\"font-size: 0.8em; letter-spacing: 1px\">\n",
       "        <textPath xlink:href=\"#arrow-557d6e7ee11141fb84d464f3ee0d85a5-0-23\" class=\"displacy-label\" startOffset=\"50%\" side=\"left\" fill=\"currentColor\" text-anchor=\"middle\">amod</textPath>\n",
       "    </text>\n",
       "    <path class=\"displacy-arrowhead\" d=\"M4210.0,791.5 L4218.0,779.5 4202.0,779.5\" fill=\"currentColor\"/>\n",
       "</g>\n",
       "\n",
       "<g class=\"displacy-arrow\">\n",
       "    <path class=\"displacy-arc\" id=\"arrow-557d6e7ee11141fb84d464f3ee0d85a5-0-24\" stroke-width=\"2px\" d=\"M4095,789.5 C4095,614.5 4390.0,614.5 4390.0,789.5\" fill=\"none\" stroke=\"currentColor\"/>\n",
       "    <text dy=\"1.25em\" style=\"font-size: 0.8em; letter-spacing: 1px\">\n",
       "        <textPath xlink:href=\"#arrow-557d6e7ee11141fb84d464f3ee0d85a5-0-24\" class=\"displacy-label\" startOffset=\"50%\" side=\"left\" fill=\"currentColor\" text-anchor=\"middle\">prep</textPath>\n",
       "    </text>\n",
       "    <path class=\"displacy-arrowhead\" d=\"M4390.0,791.5 L4398.0,779.5 4382.0,779.5\" fill=\"currentColor\"/>\n",
       "</g>\n",
       "\n",
       "<g class=\"displacy-arrow\">\n",
       "    <path class=\"displacy-arc\" id=\"arrow-557d6e7ee11141fb84d464f3ee0d85a5-0-25\" stroke-width=\"2px\" d=\"M4620,789.5 C4620,702.0 4735.0,702.0 4735.0,789.5\" fill=\"none\" stroke=\"currentColor\"/>\n",
       "    <text dy=\"1.25em\" style=\"font-size: 0.8em; letter-spacing: 1px\">\n",
       "        <textPath xlink:href=\"#arrow-557d6e7ee11141fb84d464f3ee0d85a5-0-25\" class=\"displacy-label\" startOffset=\"50%\" side=\"left\" fill=\"currentColor\" text-anchor=\"middle\">poss</textPath>\n",
       "    </text>\n",
       "    <path class=\"displacy-arrowhead\" d=\"M4620,791.5 L4612,779.5 4628,779.5\" fill=\"currentColor\"/>\n",
       "</g>\n",
       "\n",
       "<g class=\"displacy-arrow\">\n",
       "    <path class=\"displacy-arc\" id=\"arrow-557d6e7ee11141fb84d464f3ee0d85a5-0-26\" stroke-width=\"2px\" d=\"M4445,789.5 C4445,614.5 4740.0,614.5 4740.0,789.5\" fill=\"none\" stroke=\"currentColor\"/>\n",
       "    <text dy=\"1.25em\" style=\"font-size: 0.8em; letter-spacing: 1px\">\n",
       "        <textPath xlink:href=\"#arrow-557d6e7ee11141fb84d464f3ee0d85a5-0-26\" class=\"displacy-label\" startOffset=\"50%\" side=\"left\" fill=\"currentColor\" text-anchor=\"middle\">pobj</textPath>\n",
       "    </text>\n",
       "    <path class=\"displacy-arrowhead\" d=\"M4740.0,791.5 L4748.0,779.5 4732.0,779.5\" fill=\"currentColor\"/>\n",
       "</g>\n",
       "\n",
       "<g class=\"displacy-arrow\">\n",
       "    <path class=\"displacy-arc\" id=\"arrow-557d6e7ee11141fb84d464f3ee0d85a5-0-27\" stroke-width=\"2px\" d=\"M245,789.5 C245,2.0 4950.0,2.0 4950.0,789.5\" fill=\"none\" stroke=\"currentColor\"/>\n",
       "    <text dy=\"1.25em\" style=\"font-size: 0.8em; letter-spacing: 1px\">\n",
       "        <textPath xlink:href=\"#arrow-557d6e7ee11141fb84d464f3ee0d85a5-0-27\" class=\"displacy-label\" startOffset=\"50%\" side=\"left\" fill=\"currentColor\" text-anchor=\"middle\">prep</textPath>\n",
       "    </text>\n",
       "    <path class=\"displacy-arrowhead\" d=\"M4950.0,791.5 L4958.0,779.5 4942.0,779.5\" fill=\"currentColor\"/>\n",
       "</g>\n",
       "\n",
       "<g class=\"displacy-arrow\">\n",
       "    <path class=\"displacy-arc\" id=\"arrow-557d6e7ee11141fb84d464f3ee0d85a5-0-28\" stroke-width=\"2px\" d=\"M4970,789.5 C4970,702.0 5085.0,702.0 5085.0,789.5\" fill=\"none\" stroke=\"currentColor\"/>\n",
       "    <text dy=\"1.25em\" style=\"font-size: 0.8em; letter-spacing: 1px\">\n",
       "        <textPath xlink:href=\"#arrow-557d6e7ee11141fb84d464f3ee0d85a5-0-28\" class=\"displacy-label\" startOffset=\"50%\" side=\"left\" fill=\"currentColor\" text-anchor=\"middle\">pcomp</textPath>\n",
       "    </text>\n",
       "    <path class=\"displacy-arrowhead\" d=\"M5085.0,791.5 L5093.0,779.5 5077.0,779.5\" fill=\"currentColor\"/>\n",
       "</g>\n",
       "\n",
       "<g class=\"displacy-arrow\">\n",
       "    <path class=\"displacy-arc\" id=\"arrow-557d6e7ee11141fb84d464f3ee0d85a5-0-29\" stroke-width=\"2px\" d=\"M5320,789.5 C5320,702.0 5435.0,702.0 5435.0,789.5\" fill=\"none\" stroke=\"currentColor\"/>\n",
       "    <text dy=\"1.25em\" style=\"font-size: 0.8em; letter-spacing: 1px\">\n",
       "        <textPath xlink:href=\"#arrow-557d6e7ee11141fb84d464f3ee0d85a5-0-29\" class=\"displacy-label\" startOffset=\"50%\" side=\"left\" fill=\"currentColor\" text-anchor=\"middle\">det</textPath>\n",
       "    </text>\n",
       "    <path class=\"displacy-arrowhead\" d=\"M5320,791.5 L5312,779.5 5328,779.5\" fill=\"currentColor\"/>\n",
       "</g>\n",
       "\n",
       "<g class=\"displacy-arrow\">\n",
       "    <path class=\"displacy-arc\" id=\"arrow-557d6e7ee11141fb84d464f3ee0d85a5-0-30\" stroke-width=\"2px\" d=\"M5145,789.5 C5145,614.5 5440.0,614.5 5440.0,789.5\" fill=\"none\" stroke=\"currentColor\"/>\n",
       "    <text dy=\"1.25em\" style=\"font-size: 0.8em; letter-spacing: 1px\">\n",
       "        <textPath xlink:href=\"#arrow-557d6e7ee11141fb84d464f3ee0d85a5-0-30\" class=\"displacy-label\" startOffset=\"50%\" side=\"left\" fill=\"currentColor\" text-anchor=\"middle\">dobj</textPath>\n",
       "    </text>\n",
       "    <path class=\"displacy-arrowhead\" d=\"M5440.0,791.5 L5448.0,779.5 5432.0,779.5\" fill=\"currentColor\"/>\n",
       "</g>\n",
       "\n",
       "<g class=\"displacy-arrow\">\n",
       "    <path class=\"displacy-arc\" id=\"arrow-557d6e7ee11141fb84d464f3ee0d85a5-0-31\" stroke-width=\"2px\" d=\"M5670,789.5 C5670,527.0 6145.0,527.0 6145.0,789.5\" fill=\"none\" stroke=\"currentColor\"/>\n",
       "    <text dy=\"1.25em\" style=\"font-size: 0.8em; letter-spacing: 1px\">\n",
       "        <textPath xlink:href=\"#arrow-557d6e7ee11141fb84d464f3ee0d85a5-0-31\" class=\"displacy-label\" startOffset=\"50%\" side=\"left\" fill=\"currentColor\" text-anchor=\"middle\">prep</textPath>\n",
       "    </text>\n",
       "    <path class=\"displacy-arrowhead\" d=\"M5670,791.5 L5662,779.5 5678,779.5\" fill=\"currentColor\"/>\n",
       "</g>\n",
       "\n",
       "<g class=\"displacy-arrow\">\n",
       "    <path class=\"displacy-arc\" id=\"arrow-557d6e7ee11141fb84d464f3ee0d85a5-0-32\" stroke-width=\"2px\" d=\"M5845,789.5 C5845,702.0 5960.0,702.0 5960.0,789.5\" fill=\"none\" stroke=\"currentColor\"/>\n",
       "    <text dy=\"1.25em\" style=\"font-size: 0.8em; letter-spacing: 1px\">\n",
       "        <textPath xlink:href=\"#arrow-557d6e7ee11141fb84d464f3ee0d85a5-0-32\" class=\"displacy-label\" startOffset=\"50%\" side=\"left\" fill=\"currentColor\" text-anchor=\"middle\">det</textPath>\n",
       "    </text>\n",
       "    <path class=\"displacy-arrowhead\" d=\"M5845,791.5 L5837,779.5 5853,779.5\" fill=\"currentColor\"/>\n",
       "</g>\n",
       "\n",
       "<g class=\"displacy-arrow\">\n",
       "    <path class=\"displacy-arc\" id=\"arrow-557d6e7ee11141fb84d464f3ee0d85a5-0-33\" stroke-width=\"2px\" d=\"M6020,789.5 C6020,702.0 6135.0,702.0 6135.0,789.5\" fill=\"none\" stroke=\"currentColor\"/>\n",
       "    <text dy=\"1.25em\" style=\"font-size: 0.8em; letter-spacing: 1px\">\n",
       "        <textPath xlink:href=\"#arrow-557d6e7ee11141fb84d464f3ee0d85a5-0-33\" class=\"displacy-label\" startOffset=\"50%\" side=\"left\" fill=\"currentColor\" text-anchor=\"middle\">nsubj</textPath>\n",
       "    </text>\n",
       "    <path class=\"displacy-arrowhead\" d=\"M6020,791.5 L6012,779.5 6028,779.5\" fill=\"currentColor\"/>\n",
       "</g>\n",
       "\n",
       "<g class=\"displacy-arrow\">\n",
       "    <path class=\"displacy-arc\" id=\"arrow-557d6e7ee11141fb84d464f3ee0d85a5-0-34\" stroke-width=\"2px\" d=\"M5495,789.5 C5495,439.5 6150.0,439.5 6150.0,789.5\" fill=\"none\" stroke=\"currentColor\"/>\n",
       "    <text dy=\"1.25em\" style=\"font-size: 0.8em; letter-spacing: 1px\">\n",
       "        <textPath xlink:href=\"#arrow-557d6e7ee11141fb84d464f3ee0d85a5-0-34\" class=\"displacy-label\" startOffset=\"50%\" side=\"left\" fill=\"currentColor\" text-anchor=\"middle\">relcl</textPath>\n",
       "    </text>\n",
       "    <path class=\"displacy-arrowhead\" d=\"M6150.0,791.5 L6158.0,779.5 6142.0,779.5\" fill=\"currentColor\"/>\n",
       "</g>\n",
       "\n",
       "<g class=\"displacy-arrow\">\n",
       "    <path class=\"displacy-arc\" id=\"arrow-557d6e7ee11141fb84d464f3ee0d85a5-0-35\" stroke-width=\"2px\" d=\"M6370,789.5 C6370,702.0 6485.0,702.0 6485.0,789.5\" fill=\"none\" stroke=\"currentColor\"/>\n",
       "    <text dy=\"1.25em\" style=\"font-size: 0.8em; letter-spacing: 1px\">\n",
       "        <textPath xlink:href=\"#arrow-557d6e7ee11141fb84d464f3ee0d85a5-0-35\" class=\"displacy-label\" startOffset=\"50%\" side=\"left\" fill=\"currentColor\" text-anchor=\"middle\">compound</textPath>\n",
       "    </text>\n",
       "    <path class=\"displacy-arrowhead\" d=\"M6370,791.5 L6362,779.5 6378,779.5\" fill=\"currentColor\"/>\n",
       "</g>\n",
       "\n",
       "<g class=\"displacy-arrow\">\n",
       "    <path class=\"displacy-arc\" id=\"arrow-557d6e7ee11141fb84d464f3ee0d85a5-0-36\" stroke-width=\"2px\" d=\"M6195,789.5 C6195,614.5 6490.0,614.5 6490.0,789.5\" fill=\"none\" stroke=\"currentColor\"/>\n",
       "    <text dy=\"1.25em\" style=\"font-size: 0.8em; letter-spacing: 1px\">\n",
       "        <textPath xlink:href=\"#arrow-557d6e7ee11141fb84d464f3ee0d85a5-0-36\" class=\"displacy-label\" startOffset=\"50%\" side=\"left\" fill=\"currentColor\" text-anchor=\"middle\">attr</textPath>\n",
       "    </text>\n",
       "    <path class=\"displacy-arrowhead\" d=\"M6490.0,791.5 L6498.0,779.5 6482.0,779.5\" fill=\"currentColor\"/>\n",
       "</g>\n",
       "</svg></span>"
      ],
      "text/plain": [
       "<IPython.core.display.HTML object>"
      ]
     },
     "metadata": {},
     "output_type": "display_data"
    }
   ],
   "source": [
    "example_sen = nlp(\"It is one of the chief failings of classical economy that it has never succeeded, by means of its analysis of commodities, and, in particular, of their value, in discovering that form under which value becomes exchange value.\")\n",
    "displacy.render(example_sen, style='dep')"
   ]
  },
  {
   "cell_type": "code",
   "execution_count": 80,
   "metadata": {},
   "outputs": [
    {
     "name": "stdout",
     "output_type": "stream",
     "text": [
      "It It nsubj is\n",
      "the chief failings failings pobj of\n",
      "classical economy economy pobj of\n",
      "it it nsubj succeeded\n",
      "means means pobj by\n",
      "its analysis analysis pobj of\n",
      "commodities commodities pobj of\n",
      "their value value pobj of\n",
      "that form form dobj discovering\n",
      "which value value nsubj becomes\n",
      "exchange value value attr becomes\n"
     ]
    }
   ],
   "source": [
    "for chunk in example_sen.noun_chunks:\n",
    "    print(chunk.text, chunk.root.text, chunk.root.dep_, chunk.root.head.text)"
   ]
  },
  {
   "cell_type": "code",
   "execution_count": 81,
   "metadata": {},
   "outputs": [
    {
     "name": "stdout",
     "output_type": "stream",
     "text": [
      "It nsubj is AUX []\n",
      "is ROOT is AUX [It, one, by, ,, and, ,, in, in, .]\n",
      "one attr is AUX [of]\n",
      "of prep one NUM [failings]\n",
      "the det failings NOUN []\n",
      "chief amod failings NOUN []\n",
      "failings pobj of ADP [the, chief, of, succeeded]\n",
      "of prep failings NOUN [economy]\n",
      "classical amod economy NOUN []\n",
      "economy pobj of ADP [classical]\n",
      "that mark succeeded VERB []\n",
      "it nsubj succeeded VERB []\n",
      "has aux succeeded VERB []\n",
      "never neg succeeded VERB []\n",
      "succeeded relcl failings NOUN [that, it, has, never, ,]\n",
      ", punct succeeded VERB []\n",
      "by prep is AUX [means]\n",
      "means pobj by ADP [of]\n",
      "of prep means NOUN [analysis]\n",
      "its poss analysis NOUN []\n",
      "analysis pobj of ADP [its, of]\n",
      "of prep analysis NOUN [commodities]\n",
      "commodities pobj of ADP []\n",
      ", punct is AUX []\n",
      "and cc is AUX []\n",
      ", punct is AUX []\n",
      "in prep is AUX [particular, ,, of, ,]\n",
      "particular amod in ADP []\n",
      ", punct in ADP []\n",
      "of prep in ADP [value]\n",
      "their poss value NOUN []\n",
      "value pobj of ADP [their]\n",
      ", punct in ADP []\n",
      "in prep is AUX [discovering]\n",
      "discovering pcomp in ADP [form]\n",
      "that det form NOUN []\n",
      "form dobj discovering VERB [that, becomes]\n",
      "under prep becomes VERB []\n",
      "which det value NOUN []\n",
      "value nsubj becomes VERB [which]\n",
      "becomes relcl form NOUN [under, value, value]\n",
      "exchange compound value NOUN []\n",
      "value attr becomes VERB [exchange]\n",
      ". punct is AUX []\n"
     ]
    }
   ],
   "source": [
    "for token in example_sen:\n",
    "    print(token.text, token.dep_, token.head.text, token.head.pos_,\n",
    "            [child for child in token.children])"
   ]
  },
  {
   "cell_type": "code",
   "execution_count": 82,
   "metadata": {},
   "outputs": [
    {
     "name": "stdout",
     "output_type": "stream",
     "text": [
      "It PRON nsubj is\n",
      "is AUX ROOT is\n",
      "one NUM attr is\n",
      "of ADP prep one\n",
      "the DET det failings\n",
      "chief ADJ amod failings\n",
      "failings NOUN pobj of\n",
      "of ADP prep failings\n",
      "classical ADJ amod economy\n",
      "economy NOUN pobj of\n",
      "that SCONJ mark succeeded\n",
      "it PRON nsubj succeeded\n",
      "has AUX aux succeeded\n",
      "never ADV neg succeeded\n",
      "succeeded VERB relcl failings\n",
      ", PUNCT punct succeeded\n",
      "by ADP prep is\n",
      "means NOUN pobj by\n",
      "of ADP prep means\n",
      "its DET poss analysis\n",
      "analysis NOUN pobj of\n",
      "of ADP prep analysis\n",
      "commodities NOUN pobj of\n",
      ", PUNCT punct is\n",
      "and CCONJ cc is\n",
      ", PUNCT punct is\n",
      "in ADP prep is\n",
      "particular ADJ amod in\n",
      ", PUNCT punct in\n",
      "of ADP prep in\n",
      "their DET poss value\n",
      "value NOUN pobj of\n",
      ", PUNCT punct in\n",
      "in ADP prep is\n",
      "discovering VERB pcomp in\n",
      "that DET det form\n",
      "form NOUN dobj discovering\n",
      "under ADP prep becomes\n",
      "which DET det value\n",
      "value NOUN nsubj becomes\n",
      "becomes VERB relcl form\n",
      "exchange NOUN compound value\n",
      "value NOUN attr becomes\n",
      ". PUNCT punct is\n"
     ]
    }
   ],
   "source": [
    "span = example_sen[example_sen[4].left_edge.i : example_sen[4].right_edge.i+1]\n",
    "with example_sen.retokenize() as retokenizer:\n",
    "    retokenizer.merge(span)\n",
    "for token in example_sen:\n",
    "    print(token.text, token.pos_, token.dep_, token.head.text)"
   ]
  },
  {
   "cell_type": "markdown",
   "metadata": {},
   "source": [
    "**Comment:** Whew. The sentence was exhausting to read the first time, and just as complicated as you might expect upon dependency analysis. What are five things we can extract with dependency? First, let's look for what nouns two key adjectives describe: \"bougeois\" vs. \"proletarian.\" Perhaps we can discern a distinct attitude towards each."
   ]
  },
  {
   "cell_type": "code",
   "execution_count": 87,
   "metadata": {},
   "outputs": [],
   "source": [
    "for index, row in capital_corpus.iterrows():\n",
    "    all_text = ' '.join(row['tokenized_text'])\n",
    "    doc = nlp(all_text)"
   ]
  },
  {
   "cell_type": "code",
   "execution_count": 89,
   "metadata": {},
   "outputs": [
    {
     "ename": "TypeError",
     "evalue": "Argument 'other' has incorrect type (expected spacy.tokens.token.Token, got tuple)",
     "output_type": "error",
     "traceback": [
      "\u001b[1;31m---------------------------------------------------------------------------\u001b[0m",
      "\u001b[1;31mTypeError\u001b[0m                                 Traceback (most recent call last)",
      "\u001b[1;32m<ipython-input-89-f9fa03f7ef40>\u001b[0m in \u001b[0;36m<module>\u001b[1;34m\u001b[0m\n\u001b[0;32m      4\u001b[0m \u001b[1;32mfor\u001b[0m \u001b[0msentence\u001b[0m \u001b[1;32min\u001b[0m \u001b[0mdoc\u001b[0m\u001b[1;33m.\u001b[0m\u001b[0msents\u001b[0m\u001b[1;33m:\u001b[0m\u001b[1;33m\u001b[0m\u001b[1;33m\u001b[0m\u001b[0m\n\u001b[0;32m      5\u001b[0m     \u001b[1;32mfor\u001b[0m \u001b[0mtoken\u001b[0m \u001b[1;32min\u001b[0m \u001b[0msentence\u001b[0m\u001b[1;33m:\u001b[0m\u001b[1;33m\u001b[0m\u001b[1;33m\u001b[0m\u001b[0m\n\u001b[1;32m----> 6\u001b[1;33m         \u001b[1;32mif\u001b[0m \u001b[0mtoken\u001b[0m\u001b[1;33m==\u001b[0m\u001b[1;33m(\u001b[0m\u001b[0mNTarget\u001b[0m\u001b[1;33m,\u001b[0m\u001b[0mWord\u001b[0m\u001b[1;33m)\u001b[0m\u001b[1;33m:\u001b[0m\u001b[1;33m\u001b[0m\u001b[1;33m\u001b[0m\u001b[0m\n\u001b[0m\u001b[0;32m      7\u001b[0m             \u001b[0mNResults\u001b[0m\u001b[1;33m.\u001b[0m\u001b[0madd\u001b[0m\u001b[1;33m(\u001b[0m\u001b[0ment1\u001b[0m\u001b[1;33m)\u001b[0m\u001b[1;33m\u001b[0m\u001b[1;33m\u001b[0m\u001b[0m\n\u001b[0;32m      8\u001b[0m         \u001b[1;32melse\u001b[0m\u001b[1;33m:\u001b[0m\u001b[1;33m\u001b[0m\u001b[1;33m\u001b[0m\u001b[0m\n",
      "\u001b[1;31mTypeError\u001b[0m: Argument 'other' has incorrect type (expected spacy.tokens.token.Token, got tuple)"
     ]
    }
   ],
   "source": [
    "NTarget = 'NN'\n",
    "Word = 'proletarian'\n",
    "NResults = set()\n",
    "for sentence in doc.sents:\n",
    "    for token in sentence:\n",
    "        if token==(NTarget,Word):\n",
    "            NResults.add(ent1)\n",
    "        else:\n",
    "            continue\n",
    "\n",
    "print(NResults) "
   ]
  },
  {
   "cell_type": "code",
   "execution_count": 95,
   "metadata": {},
   "outputs": [
    {
     "ename": "AttributeError",
     "evalue": "'spacy.tokens.span.Span' object has no attribute 'head'",
     "output_type": "error",
     "traceback": [
      "\u001b[1;31m---------------------------------------------------------------------------\u001b[0m",
      "\u001b[1;31mAttributeError\u001b[0m                            Traceback (most recent call last)",
      "\u001b[1;32m<ipython-input-95-c46c0404d5b0>\u001b[0m in \u001b[0;36m<module>\u001b[1;34m\u001b[0m\n\u001b[0;32m      2\u001b[0m \u001b[1;32mfor\u001b[0m \u001b[0mchunk\u001b[0m \u001b[1;32min\u001b[0m \u001b[0mdoc\u001b[0m\u001b[1;33m.\u001b[0m\u001b[0mnoun_chunks\u001b[0m\u001b[1;33m:\u001b[0m\u001b[1;33m\u001b[0m\u001b[1;33m\u001b[0m\u001b[0m\n\u001b[0;32m      3\u001b[0m     \u001b[0mrevolution_context\u001b[0m\u001b[1;33m[\u001b[0m\u001b[0mrow\u001b[0m\u001b[1;33m[\u001b[0m\u001b[1;34m'source-paragraph-text'\u001b[0m\u001b[1;33m]\u001b[0m\u001b[1;33m]\u001b[0m \u001b[1;33m=\u001b[0m \u001b[1;33m(\u001b[0m\u001b[1;33m[\u001b[0m\u001b[1;33m]\u001b[0m\u001b[1;33m,\u001b[0m \u001b[1;33m[\u001b[0m\u001b[1;33m]\u001b[0m\u001b[1;33m)\u001b[0m\u001b[1;33m\u001b[0m\u001b[1;33m\u001b[0m\u001b[0m\n\u001b[1;32m----> 4\u001b[1;33m     \u001b[1;32mif\u001b[0m \u001b[0mchunk\u001b[0m\u001b[1;33m.\u001b[0m\u001b[0mhead\u001b[0m\u001b[1;33m.\u001b[0m\u001b[0mtext\u001b[0m \u001b[1;33m==\u001b[0m \u001b[1;34m'revolution'\u001b[0m\u001b[1;33m:\u001b[0m\u001b[1;33m\u001b[0m\u001b[1;33m\u001b[0m\u001b[0m\n\u001b[0m\u001b[0;32m      5\u001b[0m         \u001b[1;31m# we find the subjects and objects around the word, and if it does exist, add it to the tuple\u001b[0m\u001b[1;33m\u001b[0m\u001b[1;33m\u001b[0m\u001b[1;33m\u001b[0m\u001b[0m\n\u001b[0;32m      6\u001b[0m         \u001b[1;32mif\u001b[0m \u001b[0mchunk\u001b[0m\u001b[1;33m.\u001b[0m\u001b[0mroot\u001b[0m\u001b[1;33m.\u001b[0m\u001b[0mdep_\u001b[0m \u001b[1;33m==\u001b[0m \u001b[1;34m'nsubj'\u001b[0m\u001b[1;33m:\u001b[0m\u001b[1;33m\u001b[0m\u001b[1;33m\u001b[0m\u001b[0m\n",
      "\u001b[1;31mAttributeError\u001b[0m: 'spacy.tokens.span.Span' object has no attribute 'head'"
     ]
    }
   ],
   "source": [
    "revolution_context = {}\n",
    "for chunk in doc.noun_chunks:\n",
    "    revolution_context[row['source-paragraph-text']] = ([], [])\n",
    "    if chunk.head.text == 'revolution':\n",
    "        # we find the subjects and objects around the word, and if it does exist, add it to the tuple\n",
    "        if chunk.root.dep_ == 'nsubj':\n",
    "            subject = chunk.root.text\n",
    "        if chunk.root.dep_ == 'dobj':\n",
    "            object_ = chunk.root.text\n",
    "        if subject is not 0:\n",
    "            revolution_context[row['source-paragraph-text']][0].append(subject)\n",
    "        if object_ is not 0:\n",
    "            revolution_context[row['source-paragraph-text']][1].append(object_)"
   ]
  },
  {
   "cell_type": "markdown",
   "metadata": {},
   "source": [
    "# Distributional distances\n",
    "\n",
    "If we want to compare different corpora, we need a distance or divergence that compares the two distributions.\n",
    "\n",
    "We will use the: \n",
    "\n",
    "+ Kullback-Leibler (KL) divergence\n",
    "+ $\\chi^2$ divergence\n",
    "+ Kolmogorov-Smirnov (KS) distance\n",
    "+ Wasserstein distance\n",
    "\n",
    "### Kullback-Leibler and $x^2$ divergences ###\n",
    "\n",
    "KL and $\\chi^2$ divergences are members of the broader <a \"href=https://en.wikipedia.org/wiki/F-divergence\" target=\"_blank\">$f$-divergence</a> family, a function of $D_f (P || Q)$ that calculates the difference between two probability distributions P and Q. The KL $f(t)$ is $ t \\text{ log } t $, while the $\\chi^2$ is $t^2-1$. KL comes from information and $\\chi^2$ from measure theory. As such, the KL divergence computes the relative entropy between two distributions--how they differ in bits, while the $\\chi^2$ whether the same statistical inferences can be drawn from them both.  \n",
    "\n",
    "Specifically, given two discrete probability distributions $P$ and $Q$, the Kullback-Leibler divergence from $Q$ to $P$ is defined as:\n",
    "\n",
    "$D_{\\mathrm{KL}}(P\\|Q) = \\sum_i P(i) \\, \\log\\frac{P(i)}{Q(i)}$.\n",
    "\n",
    "The [scipy.stats.entropy()](https://docs.scipy.org/doc/scipy/reference/generated/scipy.stats.entropy.html) function does the calculation for you, which takes in two arrays of probabilities and computes the KL divergence. Note that the KL divergence is in general not commutative, i.e. $D_{\\mathrm{KL}}(P\\|Q) \\neq D_{\\mathrm{KL}}(Q\\|P)$ .\n",
    "\n",
    "Also note that the KL divernce is the sum of elementwise divergences. Scipy provides [scipy.special.kl_div()](https://docs.scipy.org/doc/scipy/reference/generated/scipy.special.kl_div.html#scipy-special-kl-div) which calculates elementwise divergences for you.\n",
    "\n",
    "The $\\chi^2$ Divergence is defined as:\n",
    "\n",
    "$D_{\\mathrm{\\chi^2}}(P\\|Q) = \\sum_i \\left(\\frac{P(i)}{Q(i)}-1\\right)^2$. \n",
    "\n",
    "This is also noncommutative, and the code can be drawn directly from scipy.\n",
    "\n",
    "### Kolmogorov-Smirnov ###\n",
    "\n",
    "The two-sample Kolmogovorov-Smirnov test statistic calculates the distance between the cumulative distribution function of the two distributions to be compared, and, along with the $x^2$ divergence, is among the most common approaches two calculating a distance in statistics. It can be interpreted as a test of whether two distributions are drawn from the same underlying distribution. As with the others, the code is readily available in scipy.\n",
    "\n",
    "### Wasserstein Distance ###\n",
    "\n",
    "When this is computed on a Euclidian metric structure (e.g., numbers of words), this is also known as the earth mover’s distance, because it can be seen as the minimum amount of \"work\" required to transform $P$ into $Q$, where \"work\" is measured as the amount of distribution weight that must be moved, multiplied by the distance it has to be moved.\n",
    "\n",
    "### Computing ###\n",
    "\n",
    "To do this we will need to create the arrays, lets compare the Whitehouse releases with the Kennedy releases. First we have to download them and load them into a DataFrame."
   ]
  },
  {
   "cell_type": "code",
   "execution_count": null,
   "metadata": {},
   "outputs": [],
   "source": [
    "kenReleases = getGithubFiles('https://api.github.com/repos/lintool/GrimmerSenatePressReleases/contents/raw/Kennedy', maxFiles = 10)\n",
    "kenReleases[:5]"
   ]
  },
  {
   "cell_type": "markdown",
   "metadata": {},
   "source": [
    "Then we can tokenize, stem and remove stop words, like we did for the Whitehouse press releases"
   ]
  },
  {
   "cell_type": "code",
   "execution_count": null,
   "metadata": {},
   "outputs": [],
   "source": [
    "kenReleases['tokenized_text'] = kenReleases['text'].apply(lambda x: word_tokenize(x))\n",
    "kenReleases['normalized_tokens'] = kenReleases['tokenized_text'].apply(lambda x: normalizeTokens(x))"
   ]
  },
  {
   "cell_type": "markdown",
   "metadata": {},
   "source": [
    "Now we need to compare the two collection of words, remove those not found in both, and assign the remaining ones indices."
   ]
  },
  {
   "cell_type": "code",
   "execution_count": null,
   "metadata": {},
   "outputs": [],
   "source": [
    "whWords = set(whReleases['normalized_tokens'].sum())\n",
    "kenWords = set(kenReleases['normalized_tokens'].sum())\n",
    "\n",
    "#Change & to | if you want to keep all words\n",
    "overlapWords = whWords & kenWords\n",
    "\n",
    "overlapWordsDict = {word: index for index, word in enumerate(overlapWords)}\n",
    "overlapWordsDict['student']"
   ]
  },
  {
   "cell_type": "markdown",
   "metadata": {},
   "source": [
    "Now we can count the occurrences of each word in the corpora and create our arrays. Note that we don't have to use numpy arrays as we do here. We could just use a list, but the arrays are faster in numpy so we encourage you to get in the habit of using them."
   ]
  },
  {
   "cell_type": "code",
   "execution_count": null,
   "metadata": {},
   "outputs": [],
   "source": [
    "def makeProbsArray(dfColumn, overlapDict):\n",
    "    words = dfColumn.sum()\n",
    "    countList = [0] * len(overlapDict)\n",
    "    for word in words:\n",
    "        try:\n",
    "            countList[overlapDict[word]] += 1\n",
    "        except KeyError:\n",
    "            #The word is not common so we skip it\n",
    "            pass\n",
    "    countArray = np.array(countList)\n",
    "    return countArray / countArray.sum()\n",
    "\n",
    "whProbArray = makeProbsArray(whReleases['normalized_tokens'], overlapWordsDict)\n",
    "kenProbArray = makeProbsArray(kenReleases['normalized_tokens'], overlapWordsDict)\n",
    "kenProbArray.sum()\n",
    "#There is a little bit of a floating point math error\n",
    "#but it's too small to see with print and too small matter here"
   ]
  },
  {
   "cell_type": "markdown",
   "metadata": {},
   "source": [
    "We can now compute the KL divergence. Pay attention to the asymmetry. Use [the Jensen–Shannon divergence](https://en.wikipedia.org/wiki/Jensen%E2%80%93Shannon_divergence), which is the average KL divergence between each distribution and the average of both distributions (i.e., the midpoint), if you want symmetry."
   ]
  },
  {
   "cell_type": "code",
   "execution_count": null,
   "metadata": {},
   "outputs": [],
   "source": [
    "wh_kenDivergence = scipy.stats.entropy(whProbArray, kenProbArray)\n",
    "print (wh_kenDivergence)\n",
    "ken_whDivergence = scipy.stats.entropy(kenProbArray, whProbArray)\n",
    "print (ken_whDivergence)"
   ]
  },
  {
   "cell_type": "markdown",
   "metadata": {},
   "source": [
    "Then, we can do the elementwise calculation and see which words best distinguish the two corpora."
   ]
  },
  {
   "cell_type": "code",
   "execution_count": null,
   "metadata": {},
   "outputs": [],
   "source": [
    "wh_kenDivergence_ew = scipy.special.kl_div(whProbArray, kenProbArray)\n",
    "kl_df = pandas.DataFrame(list(overlapWordsDict.keys()), columns = ['word'], index = list(overlapWordsDict.values()))\n",
    "kl_df = kl_df.sort_index()\n",
    "kl_df['elementwise divergence'] = wh_kenDivergence_ew\n",
    "kl_df[:10]"
   ]
  },
  {
   "cell_type": "code",
   "execution_count": null,
   "metadata": {},
   "outputs": [],
   "source": [
    "kl_df.sort_values(by='elementwise divergence', ascending=False)[:10]"
   ]
  },
  {
   "cell_type": "markdown",
   "metadata": {},
   "source": [
    "Now we will apply what we learned today \n",
    "First, let's transform every text into normalized tokens. Note that in this first step, no stopword is removed.\n",
    "We'll use only the first 11 movies: you are welcome to try more."
   ]
  },
  {
   "cell_type": "code",
   "execution_count": null,
   "metadata": {},
   "outputs": [],
   "source": [
    "corpora = []\n",
    "for index, row in movie_df.iterrows():\n",
    "    if len(corpora) > 10:\n",
    "        break\n",
    "    corpora.append(row['Tokenized Texts'])"
   ]
  },
  {
   "cell_type": "markdown",
   "metadata": {},
   "source": [
    "Then, let's separate the normalized tokens into stopwords and non-stopwords."
   ]
  },
  {
   "cell_type": "code",
   "execution_count": null,
   "metadata": {},
   "outputs": [],
   "source": [
    "corpora_s = []\n",
    "corpora_nons = []\n",
    "for corpus in corpora:\n",
    "    s = []\n",
    "    nons = []\n",
    "    doc = nlp(' '.join(corpus))\n",
    "    for word in doc:\n",
    "        if word.is_stop:\n",
    "            s.append(word.text)\n",
    "        else:\n",
    "            nons.append(word.text)\n",
    "    corpora_s.append(s)\n",
    "    corpora_nons.append(nons)"
   ]
  },
  {
   "cell_type": "markdown",
   "metadata": {},
   "source": [
    "Define some covenient funtions for calculating divergence and distances."
   ]
  },
  {
   "cell_type": "code",
   "execution_count": null,
   "metadata": {},
   "outputs": [],
   "source": [
    "def kl_divergence(X, Y):\n",
    "    P = X.copy()\n",
    "    Q = Y.copy()\n",
    "    P.columns = ['P']\n",
    "    Q.columns = ['Q']\n",
    "    df = Q.join(P).fillna(0)\n",
    "    p = df.iloc[:,1]\n",
    "    q = df.iloc[:,0]\n",
    "    D_kl = scipy.stats.entropy(p, q)\n",
    "    return D_kl\n",
    "\n",
    "def chi2_divergence(X,Y):\n",
    "    P = X.copy()\n",
    "    Q = Y.copy()\n",
    "    P.columns = ['P']\n",
    "    Q.columns = ['Q']\n",
    "    df = Q.join(P).fillna(0)\n",
    "    p = df.iloc[:,1]\n",
    "    q = df.iloc[:,0]\n",
    "    return scipy.stats.chisquare(p, q).statistic\n",
    "\n",
    "def Divergence(corpus1, corpus2, difference=\"KL\"):\n",
    "    \"\"\"Difference parameter can equal KL, Chi2, or Wass\"\"\"\n",
    "    freqP = nltk.FreqDist(corpus1)\n",
    "    P = pandas.DataFrame(list(freqP.values()), columns = ['frequency'], index = list(freqP.keys()))\n",
    "    freqQ = nltk.FreqDist(corpus2)\n",
    "    Q = pandas.DataFrame(list(freqQ.values()), columns = ['frequency'], index = list(freqQ.keys()))\n",
    "    if difference == \"KL\":\n",
    "        return kl_divergence(P, Q)\n",
    "    elif difference == \"Chi2\":\n",
    "        return chi2_divergence(P, Q)\n",
    "    elif difference == \"KS\":\n",
    "        try:\n",
    "            return scipy.stats.ks_2samp(P['frequency'], Q['frequency']).statistic\n",
    "        except:\n",
    "            return scipy.stats.ks_2samp(P['frequency'], Q['frequency'])\n",
    "    elif difference == \"Wasserstein\":\n",
    "        try:\n",
    "            return scipy.stats.wasserstein_distance(P['frequency'], Q['frequency'], u_weights=None, v_weights=None).statistic\n",
    "        except:\n",
    "            return scipy.stats.wasserstein_distance(P['frequency'], Q['frequency'], u_weights=None, v_weights=None)"
   ]
  },
  {
   "cell_type": "markdown",
   "metadata": {},
   "source": [
    "Now we will calculate the KL divergence for each pair of corpora, turn the results into a matrix, and visualize the matrix as a heatmap. Recall that $D_{\\mathrm{KL}}(P\\|Q)$ measures the amount of information loss when $Q$ is used to approximate $P$. Here, the rows are the $P$s used for calculating KL divergences, and the columns are the $Q$s. So, each cell measures the amount of information loss when the word distribution of the column text is used to approximate the word distribution of the row text. Because the KL divergence is directional, such that the divergence of $P$ from $Q$ is different from the same of $Q$ from $P$, the matrix is assymetric and contains unique information above and below the diagonal. The same is true for the $\\chi^2$ divergence."
   ]
  },
  {
   "cell_type": "code",
   "execution_count": null,
   "metadata": {},
   "outputs": [],
   "source": [
    "len(corpora)"
   ]
  },
  {
   "cell_type": "code",
   "execution_count": null,
   "metadata": {},
   "outputs": [],
   "source": [
    "fileids = list(movie_df['Movie Name'])[0:11]"
   ]
  },
  {
   "cell_type": "code",
   "execution_count": null,
   "metadata": {},
   "outputs": [],
   "source": [
    "L = []\n",
    "for p in corpora:\n",
    "    l = []\n",
    "    for q in corpora:\n",
    "        l.append(Divergence(p,q, difference = 'KL'))\n",
    "    L.append(l)\n",
    "M = np.array(L)\n",
    "fig = plt.figure()\n",
    "div = pandas.DataFrame(M, columns = fileids, index = fileids)\n",
    "ax = sns.heatmap(div)\n",
    "plt.show()"
   ]
  },
  {
   "cell_type": "markdown",
   "metadata": {},
   "source": [
    "\n",
    "To reveal more patterns, let's do a multidimensional scaling of the matrix."
   ]
  },
  {
   "cell_type": "code",
   "execution_count": null,
   "metadata": {},
   "outputs": [],
   "source": [
    "mds = sklearn.manifold.MDS()\n",
    "pos = mds.fit(M).embedding_\n",
    "x = pos[:,0]\n",
    "y = pos[:,1]\n",
    "fig, ax = plt.subplots(figsize = (6,6))\n",
    "plt.plot(x, y, ' ')\n",
    "for i, txt in enumerate(fileids):\n",
    "    ax.annotate(txt, (x[i],y[i]))"
   ]
  },
  {
   "cell_type": "markdown",
   "metadata": {},
   "source": [
    "A co-respondent's course and The Chain Gang are away from the others - any guesses why?\n",
    "\n",
    "We may just want to focus on the distrbution of stopwords or non-stopwords. Let's do the analysis again first for stopwords and then for non-stopwords."
   ]
  },
  {
   "cell_type": "code",
   "execution_count": null,
   "metadata": {},
   "outputs": [],
   "source": [
    "L = []\n",
    "for p in corpora_s:\n",
    "    l = []\n",
    "    for q in corpora_s:\n",
    "        l.append(Divergence(p,q, difference='KL'))\n",
    "    L.append(l)\n",
    "M = np.array(L)\n",
    "fig = plt.figure()\n",
    "div = pandas.DataFrame(M, columns = fileids, index = fileids)\n",
    "ax = sns.heatmap(div)\n",
    "plt.show()"
   ]
  },
  {
   "cell_type": "code",
   "execution_count": null,
   "metadata": {},
   "outputs": [],
   "source": [
    "L = []\n",
    "for p in corpora_nons:\n",
    "    l = []\n",
    "    for q in corpora_nons:\n",
    "        l.append(Divergence(p,q, difference='KL'))\n",
    "    L.append(l)\n",
    "M = np.array(L)\n",
    "fig = plt.figure()\n",
    "div = pandas.DataFrame(M, columns = fileids, index = fileids)\n",
    "ax = sns.heatmap(div)\n",
    "plt.show()"
   ]
  },
  {
   "cell_type": "markdown",
   "metadata": {},
   "source": [
    "Now we compute the same for the assymmetric $\\chi^2$ Divergence."
   ]
  },
  {
   "cell_type": "code",
   "execution_count": null,
   "metadata": {},
   "outputs": [],
   "source": [
    "L = []\n",
    "for p in corpora_nons:\n",
    "    l = []\n",
    "    for q in corpora_nons:\n",
    "        l.append(Divergence(p,q, difference='Chi2'))\n",
    "    L.append(l)\n",
    "M = np.array(L)\n",
    "fig = plt.figure()\n",
    "div = pandas.DataFrame(M, columns = fileids, index = fileids)\n",
    "ax = sns.heatmap(div)\n",
    "plt.show()"
   ]
  },
  {
   "cell_type": "markdown",
   "metadata": {
    "scrolled": true
   },
   "source": [
    "For the KS distance:"
   ]
  },
  {
   "cell_type": "code",
   "execution_count": null,
   "metadata": {},
   "outputs": [],
   "source": [
    "L = []\n",
    "for p in corpora_nons:\n",
    "    l = []\n",
    "    for q in corpora_nons:\n",
    "        l.append(Divergence(p,q, difference='KS'))\n",
    "    L.append(l)\n",
    "M = np.array(L)\n",
    "fig = plt.figure()\n",
    "div = pandas.DataFrame(M, columns = fileids, index = fileids)\n",
    "ax = sns.heatmap(div)\n",
    "plt.show()"
   ]
  },
  {
   "cell_type": "markdown",
   "metadata": {},
   "source": [
    "And finally for the Wasserstein or \"earth mover's\" Distance."
   ]
  },
  {
   "cell_type": "code",
   "execution_count": null,
   "metadata": {},
   "outputs": [],
   "source": [
    "L = []\n",
    "for p in corpora_nons:\n",
    "    l = []\n",
    "    for q in corpora_nons:\n",
    "        l.append(Divergence(p,q, difference='Wasserstein'))\n",
    "    L.append(l)\n",
    "M = np.array(L)\n",
    "fig = plt.figure()\n",
    "div = pandas.DataFrame(M, columns = fileids, index = fileids)\n",
    "ax = sns.heatmap(div)\n",
    "plt.show()"
   ]
  },
  {
   "cell_type": "markdown",
   "metadata": {},
   "source": [
    "You can see that decade X is highly divergent and this makes reading the plot somewhat difficult. Let's fix this by taking the log of each cell, which will reduce the distance of decode X from other texts as an outlier."
   ]
  },
  {
   "cell_type": "code",
   "execution_count": null,
   "metadata": {},
   "outputs": [],
   "source": [
    "ax = sns.heatmap(div.apply(np.log).replace([np.inf, -np.inf], np.nan))\n",
    "plt.show()"
   ]
  },
  {
   "cell_type": "markdown",
   "metadata": {},
   "source": [
    "We only tried 11 movies, and from the same time period, so our signals might not be too interesting. What about different time periods?\n",
    "\n",
    "An interesting experiment to maybe get some clearer signals: documents by decade in the Davies Corpus Of Historial American English (COHA) and see if we can detect patterns between them. \n",
    "\n",
    "If we want to rerun this on a new data set of our own composition, we can be a bit more efficient with our coding. Let's use the Shakespeare texts from last week as example: "
   ]
  },
  {
   "cell_type": "code",
   "execution_count": null,
   "metadata": {},
   "outputs": [],
   "source": [
    "shakespeare_df = lucem_illud_2020.loadTextDirectory('../data/Shakespeare')"
   ]
  },
  {
   "cell_type": "markdown",
   "metadata": {},
   "source": [
    "Now we stem and remove stopwords"
   ]
  },
  {
   "cell_type": "code",
   "execution_count": null,
   "metadata": {},
   "outputs": [],
   "source": [
    "shakespeare_df['tokenized_text'] = shakespeare_df['text'].apply(lambda x: word_tokenize(x))\n",
    "shakespeare_df['normalized_tokens'] = shakespeare_df['tokenized_text'].apply(lambda x: normalizeTokens(x))"
   ]
  },
  {
   "cell_type": "markdown",
   "metadata": {},
   "source": [
    "Create the corpus file and generate the heatmap:"
   ]
  },
  {
   "cell_type": "code",
   "execution_count": null,
   "metadata": {},
   "outputs": [],
   "source": [
    "measure = 'KS' #\"KL\", \"Chi2\", \"KS\", \"Wasserstein\"\n",
    "num_of_texts = 10 #The bigger this number the slower it will run, you can also try selecting your own plays\n",
    "fileids_sp = list(shakespeare_df[:num_of_texts].index)\n",
    "corpora_sp = list(shakespeare_df[:num_of_texts]['normalized_tokens'])\n",
    "L = []\n",
    "for p in corpora_sp:\n",
    "    l = []\n",
    "    for q in corpora_sp:\n",
    "        l.append(Divergence(p,q, difference=measure))\n",
    "    L.append(l)\n",
    "M = np.array(L)\n",
    "fig = plt.figure()\n",
    "div = pandas.DataFrame(M, columns = fileids_sp, index = fileids_sp)\n",
    "ax = sns.heatmap(div)\n",
    "plt.show()"
   ]
  },
  {
   "cell_type": "markdown",
   "metadata": {},
   "source": [
    "What are \"The Passionate Pilgrim\" and \"The Phoenix and the Turtle\"? Little known poems by Shakespeare that are unsurprisingly hard to classify, as they are so different from everything else he wrote."
   ]
  },
  {
   "cell_type": "markdown",
   "metadata": {},
   "source": [
    "## <span style=\"color:red\">*Exercise 6*</span>\n",
    "\n",
    "<span style=\"color:red\">Construct cells immediately below this that calculate the KL and $\\chi^2$ divergences, and the KS and Wasserstein distances between four separate corpora, plot these with heatmaps, and then array them in two dimensions with multidimensional scaling as above. What does this reveal about relations between the corpora? Which analysis (and divergence or distribution) distinguishes the authors or documents better? \n",
    "\n",
    "<span style=\"color:red\">**Stretch**: Calculate the <a \"href=https://en.wikipedia.org/wiki/Jensen–Shannon_divergence\" target=\"_blank\">Jensen-Shannon Divergence</a> between your four corpora. What is the relationship between the KL and JS divergences?</span> "
   ]
  },
  {
   "cell_type": "code",
   "execution_count": 99,
   "metadata": {},
   "outputs": [],
   "source": [
    "def makeProbsArray(dfColumn, overlapDict):\n",
    "    words = dfColumn.sum()\n",
    "    countList = [0] * len(overlapDict)\n",
    "    for word in words:\n",
    "        try:\n",
    "            countList[overlapDict[word]] += 1\n",
    "        except KeyError:\n",
    "            #The word is not common so we skip it\n",
    "            pass\n",
    "    countArray = np.array(countList)\n",
    "    return countArray / countArray.sum()\n",
    "\n",
    "def kl_divergence(X, Y):\n",
    "    P = X.copy()\n",
    "    Q = Y.copy()\n",
    "    P.columns = ['P']\n",
    "    Q.columns = ['Q']\n",
    "    df = Q.join(P).fillna(0)\n",
    "    p = df.iloc[:,1]\n",
    "    q = df.iloc[:,0]\n",
    "    D_kl = scipy.stats.entropy(p, q)\n",
    "    return D_kl\n",
    "\n",
    "def chi2_divergence(X,Y):\n",
    "    P = X.copy()\n",
    "    Q = Y.copy()\n",
    "    P.columns = ['P']\n",
    "    Q.columns = ['Q']\n",
    "    df = Q.join(P).fillna(0)\n",
    "    p = df.iloc[:,1]\n",
    "    q = df.iloc[:,0]\n",
    "    return scipy.stats.chisquare(p, q).statistic\n",
    "\n",
    "def Divergence(corpus1, corpus2, difference=\"KL\"):\n",
    "    \"\"\"Difference parameter can equal KL, Chi2, or Wass\"\"\"\n",
    "    freqP = nltk.FreqDist(corpus1)\n",
    "    P = pandas.DataFrame(list(freqP.values()), columns = ['frequency'], index = list(freqP.keys()))\n",
    "    freqQ = nltk.FreqDist(corpus2)\n",
    "    Q = pandas.DataFrame(list(freqQ.values()), columns = ['frequency'], index = list(freqQ.keys()))\n",
    "    if difference == \"KL\":\n",
    "        return kl_divergence(P, Q)\n",
    "    elif difference == \"Chi2\":\n",
    "        return chi2_divergence(P, Q)\n",
    "    elif difference == \"KS\":\n",
    "        try:\n",
    "            return scipy.stats.ks_2samp(P['frequency'], Q['frequency']).statistic\n",
    "        except:\n",
    "            return scipy.stats.ks_2samp(P['frequency'], Q['frequency'])\n",
    "    elif difference == \"Wasserstein\":\n",
    "        try:\n",
    "            return scipy.stats.wasserstein_distance(P['frequency'], Q['frequency'], u_weights=None, v_weights=None).statistic\n",
    "        except:\n",
    "            return scipy.stats.wasserstein_distance(P['frequency'], Q['frequency'], u_weights=None, v_weights=None)"
   ]
  },
  {
   "cell_type": "code",
   "execution_count": 105,
   "metadata": {},
   "outputs": [
    {
     "data": {
      "text/plain": [
       "1.0000000000000002"
      ]
     },
     "execution_count": 105,
     "metadata": {},
     "output_type": "execute_result"
    }
   ],
   "source": [
    "accum_df = capital_corpus[capital_corpus['source-paragraph-text'] == 'The\\r\\nGeneral Law of Capitalist Accumulation']\n",
    "accum_corpus = []\n",
    "for token_list in accum_df.tokenized_text:\n",
    "    accum_corpus.extend(token_list)\n",
    "    \n",
    "farmer_df = capital_corpus[capital_corpus['source-paragraph-text'] == 'Genesis\\r\\nof the Capitalist Farmer']\n",
    "farmer_corpus = []\n",
    "for token_list in farmer_df.tokenized_text:\n",
    "    farmer_corpus.extend(token_list)\n",
    "    \n",
    "industrialist_df = capital_corpus[capital_corpus['source-paragraph-text'] == 'Genesis\\r\\nof the Industrial Capitalist']\n",
    "industrialist_corpus = []\n",
    "for token_list in industrialist_df.tokenized_text:\n",
    "    industrialist_corpus.extend(token_list)\n",
    "    \n",
    "commod_df = commod_corpus\n",
    "commod_corpusB = []\n",
    "for token_list in commod_df.tokenized_text:\n",
    "    commod_corpusB.extend(token_list)\n",
    "    \n",
    "commod_words = set(commod_df['normalized_tokens'].sum())\n",
    "accum_words = set(accum_df['normalized_tokens'].sum())\n",
    "\n",
    "#Change & to | if you want to keep all words\n",
    "overlapWords = commod_words & accum_words\n",
    "\n",
    "overlapWordsDict = {word: index for index, word in enumerate(overlapWords)}\n",
    "#overlapWordsDict['student']\n",
    "\n",
    "commodProbArray = makeProbsArray(commod_df['normalized_tokens'], overlapWordsDict)\n",
    "accumProbArray = makeProbsArray(accum_df['normalized_tokens'], overlapWordsDict)\n",
    "accumProbArray.sum()\n",
    "#There is a little bit of a floating point math error\n",
    "#but it's too small to see with print and too small matter here"
   ]
  },
  {
   "cell_type": "code",
   "execution_count": 114,
   "metadata": {},
   "outputs": [
    {
     "name": "stderr",
     "output_type": "stream",
     "text": [
      "C:\\Users\\super\\anaconda3\\lib\\site-packages\\scipy\\stats\\_distn_infrastructure.py:2686: RuntimeWarning: invalid value encountered in true_divide\n",
      "  pk = 1.0*pk / np.sum(pk, axis=axis, keepdims=True)\n"
     ]
    },
    {
     "data": {
      "image/png": "[encoded data removed]",
      "text/plain": [
       "<Figure size 432x288 with 2 Axes>"
      ]
     },
     "metadata": {},
     "output_type": "display_data"
    }
   ],
   "source": [
    "corpora = [commod_corpus,accum_corpus,farmer_corpus,industrialist_corpus]\n",
    "fileids = [\"Commodity\",\"Law of Accumulation\",\"Genesis of Farmer\",\"Genesis of Industrialist\"]\n",
    "\n",
    "L = []\n",
    "for p in corpora:\n",
    "    l = []\n",
    "    for q in corpora:\n",
    "        l.append(Divergence(p,q, difference = 'KL'))\n",
    "    L.append(l)\n",
    "M = np.array(L)\n",
    "fig = plt.figure()\n",
    "div = pandas.DataFrame(M, columns = fileids, index = fileids)\n",
    "ax = sns.heatmap(div)\n",
    "plt.show()"
   ]
  },
  {
   "cell_type": "code",
   "execution_count": 110,
   "metadata": {},
   "outputs": [
    {
     "data": {
      "image/png": "[encoded data removed]",
      "text/plain": [
       "<Figure size 432x288 with 2 Axes>"
      ]
     },
     "metadata": {},
     "output_type": "display_data"
    }
   ],
   "source": [
    "L = []\n",
    "for p in corpora:\n",
    "    l = []\n",
    "    for q in corpora:\n",
    "        l.append(Divergence(p,q, difference = 'KS'))\n",
    "    L.append(l)\n",
    "M = np.array(L)\n",
    "fig = plt.figure()\n",
    "div = pandas.DataFrame(M, columns = fileids, index = fileids)\n",
    "ax = sns.heatmap(div)\n",
    "plt.show()"
   ]
  },
  {
   "cell_type": "code",
   "execution_count": 111,
   "metadata": {},
   "outputs": [
    {
     "data": {
      "image/png": "[encoded data removed]",
      "text/plain": [
       "<Figure size 432x288 with 2 Axes>"
      ]
     },
     "metadata": {},
     "output_type": "display_data"
    }
   ],
   "source": [
    "L = []\n",
    "for p in corpora:\n",
    "    l = []\n",
    "    for q in corpora:\n",
    "        l.append(Divergence(p,q, difference = 'Chi2'))\n",
    "    L.append(l)\n",
    "M = np.array(L)\n",
    "fig = plt.figure()\n",
    "div = pandas.DataFrame(M, columns = fileids, index = fileids)\n",
    "ax = sns.heatmap(div)\n",
    "plt.show()"
   ]
  },
  {
   "cell_type": "code",
   "execution_count": 112,
   "metadata": {},
   "outputs": [
    {
     "data": {
      "image/png": "[encoded data removed]",
      "text/plain": [
       "<Figure size 432x288 with 2 Axes>"
      ]
     },
     "metadata": {},
     "output_type": "display_data"
    }
   ],
   "source": [
    "L = []\n",
    "for p in corpora:\n",
    "    l = []\n",
    "    for q in corpora:\n",
    "        l.append(Divergence(p,q, difference = 'Wasserstein'))\n",
    "    L.append(l)\n",
    "M = np.array(L)\n",
    "fig = plt.figure()\n",
    "div = pandas.DataFrame(M, columns = fileids, index = fileids)\n",
    "ax = sns.heatmap(div)\n",
    "plt.show()"
   ]
  },
  {
   "cell_type": "markdown",
   "metadata": {},
   "source": [
    "**Comment:** The different methods of distance calculation reveal surprisingly different lenses on how different the chapters are. The Wasserstein heatmap best distinguishes between all four corpora - but in a perhaps suprising way. Here, the chapter of the Commodity and Law of Accumulation - which are the most similar in subject - are in fact the furthest apart in distance. Less surprisingly, the chapter on the genesis of the Capitalist Farmer is farthest away from the chapter on the Law of Accumulation: the subject of the law of accumulation (capital) is much more closely related to the Genesis of the Industrial Capitalist, a supposition which the data does somewhat bear out."
   ]
  }
 ],
 "metadata": {
  "anaconda-cloud": {},
  "kernelspec": {
   "display_name": "Python 3",
   "language": "python",
   "name": "python3"
  },
  "language_info": {
   "codemirror_mode": {
    "name": "ipython",
    "version": 3
   },
   "file_extension": ".py",
   "mimetype": "text/x-python",
   "name": "python",
   "nbconvert_exporter": "python",
   "pygments_lexer": "ipython3",
   "version": "3.7.9"
  }
 },
 "nbformat": 4,
 "nbformat_minor": 1
}
